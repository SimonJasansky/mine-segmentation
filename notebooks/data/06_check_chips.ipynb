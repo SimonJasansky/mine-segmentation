{
 "cells": [
  {
   "cell_type": "code",
   "execution_count": null,
   "metadata": {},
   "outputs": [],
   "source": [
    "import geopandas as gpd\n",
    "import leafmap\n",
    "from shapely.ops import unary_union\n",
    "from shapely.geometry import Point, mapping, box, shape\n",
    "import shapely\n",
    "import json\n",
    "import os\n",
    "import numpy as np\n",
    "import matplotlib.pyplot as plt\n",
    "from pathlib import Path\n",
    "from tqdm import tqdm\n",
    "from einops import rearrange\n",
    "import sys\n",
    "sys.path.append(\"..\")\n",
    "\n",
    "from src.models.datamodule import MineDataModule"
   ]
  },
  {
   "cell_type": "code",
   "execution_count": null,
   "metadata": {},
   "outputs": [],
   "source": [
    "\n",
    "os.getcwd()\n",
    "os.chdir(\"..\")\n",
    "root = os.path.dirname(os.getcwd())\n",
    "root = root + \"/workspaces/mine-segmentation\" # uncomment when running in Lightning Studios\n",
    "root"
   ]
  },
  {
   "cell_type": "code",
   "execution_count": null,
   "metadata": {},
   "outputs": [],
   "source": [
    "TRAIN_CHIP_DIR = \"data/processed/chips/npy/512/train/chips/\"\n",
    "TRAIN_LABEL_DIR = \"data/processed/chips/npy/512/train/labels/\"\n",
    "VAL_CHIP_DIR = \"data/processed/chips/npy/512/val/chips/\"\n",
    "VAL_LABEL_DIR = \"data/processed/chips/npy/512/val/labels/\"\n",
    "TEST_CHIP_DIR = \"data/processed/chips/npy/512/test/chips/\"\n",
    "TEST_LABEL_DIR = \"data/processed/chips/npy/512/test/labels/\"\n",
    "\n",
    "METADATA_PATH = \"configs/cnn/cnn_segment_metadata.yaml\"\n",
    "BATCH_SIZE = 1\n",
    "NUM_WORKERS = 4\n",
    "PLATFORM = \"sentinel-2-l2a\"\n",
    "\n",
    "is_lightning = True\n",
    "if is_lightning:\n",
    "    METADATA_PATH = root + \"/\" + METADATA_PATH\n",
    "    TRAIN_CHIP_DIR = root +  \"/\" +TRAIN_CHIP_DIR\n",
    "    TRAIN_LABEL_DIR = root + \"/\" + TRAIN_LABEL_DIR\n",
    "    VAL_CHIP_DIR = root + \"/\" + VAL_CHIP_DIR\n",
    "    VAL_LABEL_DIR = root + \"/\" + VAL_LABEL_DIR\n",
    "    TEST_CHIP_DIR = root + \"/\" + TEST_CHIP_DIR\n",
    "    TEST_LABEL_DIR = root + \"/\" + TEST_LABEL_DIR"
   ]
  },
  {
   "cell_type": "markdown",
   "metadata": {},
   "source": [
    "### Check number of chips"
   ]
  },
  {
   "cell_type": "code",
   "execution_count": null,
   "metadata": {},
   "outputs": [],
   "source": [
    "# check number of chips\n",
    "train_chip_files = os.listdir(TRAIN_CHIP_DIR)\n",
    "val_chip_files = os.listdir(VAL_CHIP_DIR)\n",
    "test_chip_files = os.listdir(TEST_CHIP_DIR)\n",
    "\n",
    "len(train_chip_files), len(val_chip_files), len(test_chip_files)"
   ]
  },
  {
   "cell_type": "markdown",
   "metadata": {},
   "source": [
    "### Plot chips, including data tranformations"
   ]
  },
  {
   "cell_type": "code",
   "execution_count": null,
   "metadata": {},
   "outputs": [],
   "source": [
    "import matplotlib.pyplot as plt\n",
    "\n",
    "datamodule = MineDataModule(\n",
    "    train_chip_dir=TRAIN_CHIP_DIR,\n",
    "    train_label_dir=TRAIN_LABEL_DIR,\n",
    "    val_chip_dir=VAL_CHIP_DIR,\n",
    "    val_label_dir=VAL_LABEL_DIR,\n",
    "    test_chip_dir=TEST_CHIP_DIR,\n",
    "    test_label_dir=TEST_LABEL_DIR,\n",
    "    metadata_path=METADATA_PATH,\n",
    "    batch_size=BATCH_SIZE,\n",
    "    num_workers=NUM_WORKERS,\n",
    "    platform=PLATFORM,\n",
    "    data_augmentation=True,\n",
    ")\n",
    "\n",
    "datamodule.setup(stage=\"fit\")"
   ]
  },
  {
   "cell_type": "code",
   "execution_count": null,
   "metadata": {},
   "outputs": [],
   "source": [
    "batch = next(iter(datamodule.train_dataloader()))\n",
    "\n",
    "batch[\"pixels\"].shape, batch[\"label\"].shape\n",
    "\n",
    "# squeeze the batch size dimension\n",
    "pixels = batch[\"pixels\"].squeeze(0)\n",
    "label = batch[\"label\"].squeeze(0)\n",
    "\n",
    "# rearrange for plotting\n",
    "pixels = rearrange(pixels, \"c h w -> h w c\")\n",
    "label = rearrange(label, \"h w -> h w\")\n",
    "\n",
    "# normalize\n",
    "pixels = (pixels - pixels.min()) / (pixels.max() - pixels.min())\n",
    "\n",
    "# plot the image and label side by side\n",
    "fig, axes = plt.subplots(1, 2, figsize=(10, 5))\n",
    "\n",
    "# plot the image\n",
    "axes[0].imshow(pixels)\n",
    "axes[0].axis(\"off\")\n",
    "axes[0].set_title(\"Image\", fontsize=12)\n",
    "\n",
    "# plot the label\n",
    "axes[1].imshow(label, cmap=\"viridis\")\n",
    "axes[1].axis(\"off\")\n",
    "axes[1].set_title(\"Label\", fontsize=12)\n",
    "\n",
    "plt.tight_layout()\n",
    "plt.show()"
   ]
  },
  {
   "cell_type": "markdown",
   "metadata": {},
   "source": [
    "## Plot multiple chips"
   ]
  },
  {
   "cell_type": "code",
   "execution_count": null,
   "metadata": {},
   "outputs": [],
   "source": [
    "file_index=10\n",
    "files = os.listdir(TRAIN_CHIP_DIR)\n",
    "filename = TRAIN_CHIP_DIR + \"/\" + files[file_index]\n",
    "\n",
    "img = np.load(filename)\n",
    "print(img.shape)\n",
    "img"
   ]
  },
  {
   "cell_type": "code",
   "execution_count": null,
   "metadata": {},
   "outputs": [],
   "source": [
    "import os\n",
    "import numpy as np\n",
    "import matplotlib.pyplot as plt\n",
    "from skimage.transform import resize\n",
    "\n",
    "def plot_images_and_masks(root, seed=0):\n",
    "    \"\"\"\n",
    "    Plot randomly selected images (numpy arrays) and their corresponding masks (numpy arrays).\n",
    "\n",
    "    Parameters:\n",
    "    - root (str): The root directory path\n",
    "    - seed (int): The seed value for random number generation.\n",
    "\n",
    "    Returns:\n",
    "    None\n",
    "    \"\"\"\n",
    "\n",
    "    chips_dir = TRAIN_CHIP_DIR\n",
    "    masks_dir = TRAIN_LABEL_DIR\n",
    "\n",
    "    files = os.listdir(chips_dir)\n",
    "    fig, axs = plt.subplots(5, 2, figsize=(10, 25))\n",
    "\n",
    "    # generate 5 random indices in the range of the number of files\n",
    "    np.random.seed(seed)\n",
    "    indices = list(np.random.choice(len(files), 5, replace=False))\n",
    "    print(indices)\n",
    "\n",
    "    for i, file_index in enumerate(indices):\n",
    "        filename = os.path.join(chips_dir, files[file_index])\n",
    "        img = np.load(filename)\n",
    "        im2display = img.transpose((1, 2, 0))\n",
    "        im2display = (im2display - im2display.min()) / (im2display.max() - im2display.min())\n",
    "        im2display = np.clip(im2display, 0, 1)\n",
    "        \n",
    "        mask_filename = masks_dir + \"/\" + files[file_index].replace(\"_img\", \"_mask\")\n",
    "        mask = np.load(mask_filename).squeeze()\n",
    "        \n",
    "        resized_img = resize(im2display, (im2display.shape[0] // 2, im2display.shape[1] // 2))\n",
    "        resized_mask = resize(mask, (mask.shape[0] // 2, mask.shape[1] // 2))\n",
    "\n",
    "        # get date from the filename\n",
    "        date = files[file_index].split(\"_\")[3][:8]\n",
    "        date = f\"{date[:4]}-{date[4:6]}-{date[6:]}\"\n",
    "\n",
    "        axs[i, 0].imshow(resized_img)\n",
    "        axs[i, 0].set_title(f\"Image from {date}\")\n",
    "        \n",
    "        axs[i, 1].imshow(resized_mask)\n",
    "        axs[i, 1].set_title(\"Mask\")\n",
    "    \n",
    "    plt.tight_layout()\n",
    "    plt.show()\n",
    "\n",
    "plot_images_and_masks(root, seed=5)"
   ]
  },
  {
   "cell_type": "code",
   "execution_count": null,
   "metadata": {},
   "outputs": [],
   "source": []
  }
 ],
 "metadata": {
  "language_info": {
   "name": "python"
  }
 },
 "nbformat": 4,
 "nbformat_minor": 2
}
