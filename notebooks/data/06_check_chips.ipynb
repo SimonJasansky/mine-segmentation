{
 "cells": [
  {
   "cell_type": "code",
   "execution_count": 11,
   "metadata": {},
   "outputs": [],
   "source": [
    "import geopandas as gpd\n",
    "import leafmap\n",
    "from shapely.ops import unary_union\n",
    "from shapely.geometry import Point, mapping, box, shape\n",
    "import shapely\n",
    "import json\n",
    "import os\n",
    "import numpy as np\n",
    "import matplotlib.pyplot as plt\n",
    "from pathlib import Path\n",
    "from tqdm import tqdm\n",
    "import sys\n",
    "sys.path.append(\"..\")\n"
   ]
  },
  {
   "cell_type": "code",
   "execution_count": null,
   "metadata": {},
   "outputs": [],
   "source": [
    "\n",
    "os.getcwd()\n",
    "os.chdir(\"..\")\n",
    "root = os.path.dirname(os.getcwd())\n",
    "root = root + \"/workspaces/mine-segmentation\" # uncomment when running in Lightning Studios\n",
    "root"
   ]
  },
  {
   "cell_type": "code",
   "execution_count": 5,
   "metadata": {},
   "outputs": [
    {
     "data": {
      "text/plain": [
       "PosixPath('/teamspace/studios/this_studio/workspaces/mine-segmentation/data/processed/chips/npy/train/chips')"
      ]
     },
     "execution_count": 5,
     "metadata": {},
     "output_type": "execute_result"
    }
   ],
   "source": [
    "chips_path = root + \"/data/processed/chips/npy/train/chips\"\n",
    "chips_path = Path(chips_path)\n",
    "chips_path"
   ]
  },
  {
   "cell_type": "code",
   "execution_count": 12,
   "metadata": {},
   "outputs": [
    {
     "name": "stderr",
     "output_type": "stream",
     "text": [
      "  0%|          | 0/5922 [00:00<?, ?it/s]"
     ]
    },
    {
     "name": "stderr",
     "output_type": "stream",
     "text": [
      " 86%|████████▌ | 5079/5922 [00:44<00:18, 45.26it/s] "
     ]
    },
    {
     "name": "stdout",
     "output_type": "stream",
     "text": [
      "/teamspace/studios/this_studio/workspaces/mine-segmentation/data/processed/chips/npy/train/chips/645_S2B_MSIL2A_20210930T143729_R096_T20NPN_20211001T232512_img_chip_11.npy contains NaN values\n"
     ]
    },
    {
     "name": "stderr",
     "output_type": "stream",
     "text": [
      "100%|██████████| 5922/5922 [00:53<00:00, 109.74it/s]\n"
     ]
    }
   ],
   "source": [
    "import numpy as np\n",
    "import glob\n",
    "\n",
    "# List all numpy files in the directory\n",
    "numpy_files = glob.glob(f\"{chips_path}/*.npy\")\n",
    "\n",
    "# Iterate over each numpy file\n",
    "for file in tqdm(numpy_files):\n",
    "    # Load the numpy array\n",
    "    array = np.load(file)\n",
    "    \n",
    "    # Check if the array contains NaN values\n",
    "    if np.isnan(array).any():\n",
    "        print(f\"{file} contains NaN values\")"
   ]
  },
  {
   "cell_type": "code",
   "execution_count": 15,
   "metadata": {},
   "outputs": [
    {
     "data": {
      "text/plain": [
       "array([[[290., 231., 268., ..., 175., 160., 188.],\n",
       "        [347., 221., 205., ..., 166., 158., 194.],\n",
       "        [332., 247., 203., ..., 137., 147., 193.],\n",
       "        ...,\n",
       "        [203., 179., 228., ..., 191., 169., 199.],\n",
       "        [178., 220., 252., ..., 197., 158., 199.],\n",
       "        [171., 205., 232., ..., 158., 156., 196.]],\n",
       "\n",
       "       [[528., 454., 422., ..., 399., 345., 460.],\n",
       "        [550., 442., 390., ..., 376., 372., 418.],\n",
       "        [623., 551., 511., ..., 313., 353., 433.],\n",
       "        ...,\n",
       "        [418., 371., 445., ..., 436., 399., 509.],\n",
       "        [404., 478., 483., ..., 400., 353., 473.],\n",
       "        [402., 479., 446., ..., 338., 353., 471.]],\n",
       "\n",
       "       [[269., 238., 223., ..., 197., 210., 214.],\n",
       "        [294., 225., 200., ..., 210., 207., 202.],\n",
       "        [298., 245., 252., ..., 197., 185., 228.],\n",
       "        ...,\n",
       "        [204., 213., 246., ..., 220., 203., 257.],\n",
       "        [193., 241., 250., ..., 218., 191., 214.],\n",
       "        [195., 225., 253., ..., 183., 180., 227.]]], dtype=float32)"
      ]
     },
     "execution_count": 15,
     "metadata": {},
     "output_type": "execute_result"
    }
   ],
   "source": [
    "# load the file /teamspace/studios/this_studio/workspaces/mine-segmentation/data/processed/chips/npy/train/chips/645_S2B_MSIL2A_20210930T143729_R096_T20NPN_20211001T232512_img_chip_11.npy\n",
    "array = np.load(\"/teamspace/studios/this_studio/workspaces/mine-segmentation/data/processed/chips/npy/train/chips/645_S2B_MSIL2A_20210930T143729_R096_T20NPN_20211001T232512_img_chip_11.npy\")\n",
    "array\n",
    "np.isnan(array).any()\n",
    "\n",
    "# highlight the NaN values\n",
    "array[np.isnan(array)] = 0\n",
    "array"
   ]
  }
 ],
 "metadata": {
  "language_info": {
   "name": "python"
  }
 },
 "nbformat": 4,
 "nbformat_minor": 2
}
