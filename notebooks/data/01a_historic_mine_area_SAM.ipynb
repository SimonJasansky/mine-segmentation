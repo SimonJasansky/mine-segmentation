{
 "cells": [
  {
   "cell_type": "markdown",
   "metadata": {},
   "source": [
    "# Estimate the historic mining area of a single mine\n",
    "\n",
    "In this notebook, the sam-geo model will be used to analyze the historic mining area of a single mine. "
   ]
  },
  {
   "cell_type": "code",
   "execution_count": 1,
   "metadata": {},
   "outputs": [],
   "source": [
    "# !pip install segment-geospatial"
   ]
  },
  {
   "cell_type": "code",
   "execution_count": 2,
   "metadata": {},
   "outputs": [],
   "source": [
    "import sys\n",
    "sys.path.append(\"..\")\n",
    "\n",
    "from samgeo import SamGeo\n",
    "import leafmap\n",
    "import glob\n",
    "\n",
    "from src.data.get_satellite_images import ReadSTAC\n",
    "from src.visualization.visualize import plot_area_per_year, plot_multiple_masks_on_images"
   ]
  },
  {
   "cell_type": "markdown",
   "metadata": {},
   "source": [
    "# Setup"
   ]
  },
  {
   "cell_type": "markdown",
   "metadata": {},
   "source": [
    "## Mine and Years"
   ]
  },
  {
   "cell_type": "code",
   "execution_count": 3,
   "metadata": {},
   "outputs": [
    {
     "name": "stdout",
     "output_type": "stream",
     "text": [
      "[1985, 1990, 1995, 2000, 2005, 2010, 2015, 2020]\n"
     ]
    }
   ],
   "source": [
    "MINE_POINT = [-50.16556135114535, -6.060451692157381]\n",
    "BUFFER = 5\n",
    "YEARS = list(range(1985, 2021, 5))\n",
    "print(YEARS)"
   ]
  },
  {
   "cell_type": "markdown",
   "metadata": {},
   "source": [
    "## Data Provider API"
   ]
  },
  {
   "cell_type": "code",
   "execution_count": 4,
   "metadata": {},
   "outputs": [],
   "source": [
    "# Option 1 (Default): Read from Planetary Computer STAC API\n",
    "API_URL=\"https://planetarycomputer.microsoft.com/api/stac/v1\"\n",
    "BANDS = ['B04', 'B03', 'B02']\n",
    "BANDS_LANDSAT = ['red', 'green', 'blue']\n",
    "\n",
    "# Option 2: Read from AWS STAC API\n",
    "# API_URL=\"https://earth-search.aws.element84.com/v1\"\n",
    "# BANDS = ['red', 'green', 'blue']\n",
    "# BANDS_LANDSAT = ['red', 'green', 'blue']\n"
   ]
  },
  {
   "cell_type": "markdown",
   "metadata": {},
   "source": [
    "## Collection\n",
    "Select either Sentinel or Landsat Images. \n",
    "\n",
    "Sentinel provide higher resolution, but are only available since 2015.\n",
    "\n",
    "Landsat images are available since 1972. However, I found that for some of the early years, no images are available. \n",
    "Also, it seems that Landsat images older than 2003 have the issue of striping, see [here](https://gis.stackexchange.com/questions/84319/destriping-landsat-7-images) for details. Therefore, for Landsat images, it is recommended to use the ``TAKE_BEST_N`` argument, using the ``n`` least cloudy images and mosaicing any missing pixels. "
   ]
  },
  {
   "cell_type": "code",
   "execution_count": null,
   "metadata": {},
   "outputs": [],
   "source": [
    "# Option 1: Sentinel\n",
    "# COLLECTION = \"sentinel-2-l2a\"\n",
    "# RESOLUTION = 10\n",
    "# TAKE_BEST_N = 1\n",
    "\n",
    "# Option 2: Landsat\n",
    "COLLECTION = \"landsat-c2-l2\"\n",
    "RESOLUTION = 30\n",
    "TAKE_BEST_N = 3"
   ]
  },
  {
   "cell_type": "markdown",
   "metadata": {},
   "source": [
    "## Define classes"
   ]
  },
  {
   "cell_type": "code",
   "execution_count": null,
   "metadata": {},
   "outputs": [],
   "source": [
    "stac_reader = ReadSTAC(api_url=API_URL, collection=COLLECTION)"
   ]
  },
  {
   "cell_type": "code",
   "execution_count": null,
   "metadata": {},
   "outputs": [],
   "source": [
    "# Docs: https://samgeo.gishub.org/samgeo/#samgeo.samgeo.SamGeo.__init__\n",
    "sam = SamGeo(\n",
    "    model_type=\"vit_l\", # vit_h (2.4GB), vit_l (1.2GB), vit_b(~300MB)\n",
    "    automatic=False,\n",
    "    # device=\"cuda\",\n",
    "    sam_kwargs=None,\n",
    ")"
   ]
  },
  {
   "cell_type": "markdown",
   "metadata": {},
   "source": [
    "## Optional: Use bounding box instead of point as prompt for SAM\n",
    "\n",
    "By default, the ``MINE_POINT`` is used as input prompt for the SAM model. \n",
    "However, for better segmentation performance, a bounding box can be drawn around the mining area that should be segmented. \n",
    "The bounding box will be used as input prompt for the SAM model "
   ]
  },
  {
   "cell_type": "code",
   "execution_count": 6,
   "metadata": {},
   "outputs": [
    {
     "data": {
      "application/vnd.jupyter.widget-view+json": {
       "model_id": "b5fc21b67ebb42038d41d676bd246e62",
       "version_major": 2,
       "version_minor": 0
      },
      "text/plain": [
       "Map(center=[-6.060451692157381, -50.16556135114535], controls=(ZoomControl(options=['position', 'zoom_in_text'…"
      ]
     },
     "execution_count": 6,
     "metadata": {},
     "output_type": "execute_result"
    }
   ],
   "source": [
    "# initialize leafmap and optionally draw a bounding box\n",
    "m = leafmap.Map(center = [MINE_POINT[1], MINE_POINT[0]], zoom = 13, height=\"800px\")\n",
    "m.add_basemap(\"SATELLITE\")\n",
    "m"
   ]
  },
  {
   "cell_type": "code",
   "execution_count": 7,
   "metadata": {},
   "outputs": [
    {
     "name": "stdout",
     "output_type": "stream",
     "text": [
      "Prompt Box: {'type': 'FeatureCollection', 'features': [{'type': 'Feature', 'properties': {}, 'geometry': {'type': 'Polygon', 'coordinates': [[[-50.206146, -6.120927], [-50.206146, -6.018507], [-50.102463, -6.018507], [-50.102463, -6.120927], [-50.206146, -6.120927]]]}}]}\n",
      "Prompt Point: None\n"
     ]
    }
   ],
   "source": [
    "if m.user_rois is not None:\n",
    "    sam_prompt_box = m.user_rois\n",
    "    sam_prompt_point = None\n",
    "else: \n",
    "    sam_prompt_box = None\n",
    "    sam_prompt_point = [MINE_POINT]\n",
    "\n",
    "print(\"Prompt Box:\", sam_prompt_box)\n",
    "print(\"Prompt Point:\", sam_prompt_point)"
   ]
  },
  {
   "cell_type": "markdown",
   "metadata": {},
   "source": [
    "# Perform Segmentation"
   ]
  },
  {
   "cell_type": "code",
   "execution_count": 51,
   "metadata": {},
   "outputs": [
    {
     "name": "stdout",
     "output_type": "stream",
     "text": [
      "Year: 1985\n",
      "2 Items found.\n",
      "Loading stack...\n",
      "Found 1 unique tile ids.\n",
      "Choosing the best 3 items.For unique tile 224_064, choosing ['LT05_L2SP_224064_19850227_02_T2', 'LT05_L2SP_224064_19850518_02_T2'] from [datetime.date(1985, 2, 27), datetime.date(1985, 5, 18)] with [0.0, 7.0]% cloud cover\n",
      "Stretching contrast...\n",
      "Saving stack as GeoTIFF under: /workspaces/mine-segmentation/data/interim/1985.tif\n",
      "Year: 1990\n",
      "2 Items found.\n",
      "Loading stack...\n",
      "Found 1 unique tile ids.\n",
      "Choosing the best 3 items.For unique tile 224_064, choosing ['LT05_L2SP_224064_19900601_02_T1', 'LT05_L2SP_224064_19900804_02_T1'] from [datetime.date(1990, 6, 1), datetime.date(1990, 8, 4)] with [7.0, 8.0]% cloud cover\n",
      "Stretching contrast...\n",
      "Saving stack as GeoTIFF under: /workspaces/mine-segmentation/data/interim/1990.tif\n",
      "Year: 1995\n",
      "2 Items found.\n",
      "Loading stack...\n",
      "Found 1 unique tile ids.\n",
      "Choosing the best 3 items.For unique tile 224_064, choosing ['LT05_L2SP_224064_19950701_02_T1', 'LT05_L2SP_224064_19950802_02_T1'] from [datetime.date(1995, 7, 1), datetime.date(1995, 8, 2)] with [1.0, 9.0]% cloud cover\n",
      "Stretching contrast...\n",
      "Saving stack as GeoTIFF under: /workspaces/mine-segmentation/data/interim/1995.tif\n",
      "Year: 2000\n",
      "3 Items found.\n",
      "Loading stack...\n",
      "Found 1 unique tile ids.\n",
      "Choosing the best 3 items.For unique tile 224_064, choosing ['LT05_L2SP_224064_20000612_02_T1', 'LE07_L2SP_224064_20000807_02_T1', 'LT05_L2SP_224064_20000815_02_T1'] from [datetime.date(2000, 6, 12), datetime.date(2000, 8, 7), datetime.date(2000, 8, 15)] with [0.0, 3.0, 6.0]% cloud cover\n",
      "Stretching contrast...\n",
      "Saving stack as GeoTIFF under: /workspaces/mine-segmentation/data/interim/2000.tif\n",
      "Year: 2005\n",
      "10 Items found.\n",
      "Loading stack...\n",
      "Found 1 unique tile ids.\n",
      "Choosing the best 3 items.For unique tile 224_064, choosing ['LE07_L2SP_224064_20050805_02_T1', 'LT05_L2SP_224064_20050712_02_T1', 'LE07_L2SP_224064_20050704_02_T1'] from [datetime.date(2005, 8, 5), datetime.date(2005, 7, 12), datetime.date(2005, 7, 4)] with [0.0, 0.0, 0.0]% cloud cover\n",
      "Stretching contrast...\n",
      "Saving stack as GeoTIFF under: /workspaces/mine-segmentation/data/interim/2005.tif\n",
      "Year: 2010\n",
      "4 Items found.\n",
      "Loading stack...\n",
      "Found 1 unique tile ids.\n",
      "Choosing the best 3 items.For unique tile 224_064, choosing ['LE07_L2SP_224064_20100803_02_T1', 'LT05_L2SP_224064_20100726_02_T1', 'LE07_L2SP_224064_20100819_02_T1'] from [datetime.date(2010, 8, 3), datetime.date(2010, 7, 26), datetime.date(2010, 8, 19)] with [0.0, 1.0, 2.0]% cloud cover\n",
      "Stretching contrast...\n",
      "Saving stack as GeoTIFF under: /workspaces/mine-segmentation/data/interim/2010.tif\n",
      "Year: 2015\n",
      "7 Items found.\n",
      "Loading stack...\n",
      "Found 1 unique tile ids.\n",
      "Choosing the best 3 items.For unique tile 224_064, choosing ['LE07_L2SP_224064_20150801_02_T1', 'LE07_L2SP_224064_20150716_02_T1', 'LE07_L2SP_224064_20150206_02_T2'] from [datetime.date(2015, 8, 1), datetime.date(2015, 7, 16), datetime.date(2015, 2, 6)] with [0.0, 0.0, 0.0]% cloud cover\n",
      "Stretching contrast...\n",
      "Saving stack as GeoTIFF under: /workspaces/mine-segmentation/data/interim/2015.tif\n",
      "Year: 2020\n",
      "9 Items found.\n",
      "Loading stack...\n",
      "Found 1 unique tile ids.\n",
      "Choosing the best 3 items.For unique tile 224_064, choosing ['LE07_L2SP_224064_20200814_02_T1', 'LE07_L2SP_224064_20200713_02_T1', 'LC08_L2SP_224064_20200705_02_T1'] from [datetime.date(2020, 8, 14), datetime.date(2020, 7, 13), datetime.date(2020, 7, 5)] with [0.0, 0.0, 0.0]% cloud cover\n",
      "Stretching contrast...\n",
      "Saving stack as GeoTIFF under: /workspaces/mine-segmentation/data/interim/2020.tif\n"
     ]
    }
   ],
   "source": [
    "for year in YEARS:\n",
    "    print(f\"Year: {year}\")\n",
    "\n",
    "    # check available items\n",
    "    items = stac_reader.get_items(\n",
    "        location = MINE_POINT,\n",
    "        buffer=10,\n",
    "        timerange=f'{year}-01-01/{year}-12-31',\n",
    "        max_cloud_cover=10\n",
    "    )\n",
    "\n",
    "    # download least cloudy image\n",
    "    stack = stac_reader.get_stack(\n",
    "        items, \n",
    "        filter_by=\"least_cloudy\", \n",
    "        take_best_n=TAKE_BEST_N,\n",
    "        bands=BANDS_LANDSAT, \n",
    "        resolution=RESOLUTION\n",
    "        )\n",
    "    \n",
    "    stack_stretched = stac_reader.stretch_contrast_stack(stack)\n",
    "    image_path = stac_reader.save_stack_as_geotiff(stack_stretched, f\"{year}.tif\")\n",
    "\n",
    "    # provide image to samgeo\n",
    "    sam.set_image(image_path)\n",
    "\n",
    "    # create output file path for mask\n",
    "    mask_path = image_path.replace(\".tif\", \"_mask.tif\")\n",
    "\n",
    "    # predict mask\n",
    "    sam.predict(\n",
    "        point_coords=sam_prompt_point,\n",
    "        boxes=sam_prompt_box, \n",
    "        point_labels=1, \n",
    "        point_crs=\"EPSG:4326\", \n",
    "        output=mask_path\n",
    "    )\n",
    "\n",
    "    # convert mask to polygons\n",
    "    mask_polygon_path = mask_path.replace(\".tif\", \".gpkg\")\n",
    "    sam.raster_to_vector(mask_path, mask_polygon_path)\n",
    "\n",
    "    # add mask to map\n",
    "    style = {\n",
    "        \"color\": \"#3388ff\",\n",
    "        \"weight\": 2,\n",
    "        \"fillColor\": \"#7c4185\",\n",
    "        \"fillOpacity\": 0.5,\n",
    "    }\n",
    "    m.add_vector(mask_polygon_path, layer_name=f\"{year} Mask\", style=style)\n"
   ]
  },
  {
   "cell_type": "markdown",
   "metadata": {},
   "source": [
    "# Visualize"
   ]
  },
  {
   "cell_type": "code",
   "execution_count": 9,
   "metadata": {},
   "outputs": [
    {
     "data": {
      "application/vnd.jupyter.widget-view+json": {
       "model_id": "b5fc21b67ebb42038d41d676bd246e62",
       "version_major": 2,
       "version_minor": 0
      },
      "text/plain": [
       "Map(bottom=1084347.0, center=[-6.060451692157381, -50.16556135114535], controls=(ZoomControl(options=['positio…"
      ]
     },
     "execution_count": 9,
     "metadata": {},
     "output_type": "execute_result"
    }
   ],
   "source": [
    "# display the map\n",
    "m"
   ]
  },
  {
   "cell_type": "code",
   "execution_count": null,
   "metadata": {},
   "outputs": [],
   "source": [
    "\n",
    "mask_files = glob.glob('/workspaces/mine-segmentation/data/interim/*_mask.tif')\n",
    "\n",
    "# Find all files ending with .tif in the folder data/interim\n",
    "# and filter out files that contain \"mask\" in their name\n",
    "image_files = glob.glob('/workspaces/mine-segmentation/data/interim/*.tif')\n",
    "image_files = [file for file in image_files if \"mask\" not in file]\n",
    "\n",
    "gpkg_files = glob.glob('/workspaces/mine-segmentation/data/interim/*.gpkg')\n"
   ]
  },
  {
   "cell_type": "markdown",
   "metadata": {},
   "source": [
    "## Plot Images and Masks"
   ]
  },
  {
   "cell_type": "code",
   "execution_count": null,
   "metadata": {},
   "outputs": [],
   "source": [
    "mask_files = glob.glob('/workspaces/mine-segmentation/data/interim/*_mask.tif')\n",
    "\n",
    "# Find all files ending with .tif in the folder data/interim\n",
    "# and filter out files that contain \"mask\" in their name\n",
    "image_files = glob.glob('/workspaces/mine-segmentation/data/interim/*.tif')\n",
    "image_files = [file for file in image_files if \"mask\" not in file]\n",
    "\n",
    "plot_multiple_masks_on_images(image_files, mask_files)"
   ]
  },
  {
   "cell_type": "markdown",
   "metadata": {},
   "source": [
    "## Plot mining area per year"
   ]
  },
  {
   "cell_type": "code",
   "execution_count": 56,
   "metadata": {},
   "outputs": [
    {
     "data": {
      "image/png": "[encoded data removed]",
      "text/plain": [
       "<Figure size 1000x600 with 1 Axes>"
      ]
     },
     "metadata": {},
     "output_type": "display_data"
    }
   ],
   "source": [
    "gpkg_files = glob.glob('/workspaces/mine-segmentation/data/interim/*.gpkg')\n",
    "\n",
    "plot_area_per_year(gpkg_files)"
   ]
  }
 ],
 "metadata": {
  "kernelspec": {
   "display_name": "venv",
   "language": "python",
   "name": "python3"
  },
  "language_info": {
   "codemirror_mode": {
    "name": "ipython",
    "version": 3
   },
   "file_extension": ".py",
   "mimetype": "text/x-python",
   "name": "python",
   "nbconvert_exporter": "python",
   "pygments_lexer": "ipython3",
   "version": "3.12.3"
  }
 },
 "nbformat": 4,
 "nbformat_minor": 2
}
