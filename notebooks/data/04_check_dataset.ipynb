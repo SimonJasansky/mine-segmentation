{
 "cells": [
  {
   "cell_type": "markdown",
   "metadata": {},
   "source": [
    "# Check the manually constructed dataset of mining areas and ground truth masks"
   ]
  },
  {
   "cell_type": "code",
   "execution_count": 1,
   "metadata": {},
   "outputs": [
    {
     "data": {
      "text/plain": [
       "'/teamspace/studios/this_studio/workspaces/mine-segmentation'"
      ]
     },
     "execution_count": 1,
     "metadata": {},
     "output_type": "execute_result"
    }
   ],
   "source": [
    "import geopandas as gpd\n",
    "import leafmap\n",
    "from shapely.ops import unary_union\n",
    "from shapely.geometry import Point, mapping, box, shape\n",
    "import shapely\n",
    "import json\n",
    "import os\n",
    "import numpy as np\n",
    "import matplotlib.pyplot as plt\n",
    "\n",
    "import sys\n",
    "sys.path.append(\"..\")\n",
    "\n",
    "os.getcwd()\n",
    "os.chdir(\"..\")\n",
    "root = os.path.dirname(os.getcwd())\n",
    "root = root + \"/workspaces/mine-segmentation\" # uncomment when running in Lightning Studios\n",
    "root"
   ]
  },
  {
   "cell_type": "code",
   "execution_count": 15,
   "metadata": {},
   "outputs": [],
   "source": [
    "raw_dataset = root + \"/data/raw/mining_tiles_with_masks.gpkg\"\n",
    "post_dataset = root + \"/data/processed/mining_tiles_with_masks_and_bounding_boxes.gpkg\""
   ]
  },
  {
   "cell_type": "markdown",
   "metadata": {},
   "source": [
    "# RAW DATASET"
   ]
  },
  {
   "cell_type": "code",
   "execution_count": 23,
   "metadata": {},
   "outputs": [
    {
     "data": {
      "text/html": [
       "<div>\n",
       "<style scoped>\n",
       "    .dataframe tbody tr th:only-of-type {\n",
       "        vertical-align: middle;\n",
       "    }\n",
       "\n",
       "    .dataframe tbody tr th {\n",
       "        vertical-align: top;\n",
       "    }\n",
       "\n",
       "    .dataframe thead th {\n",
       "        text-align: right;\n",
       "    }\n",
       "</style>\n",
       "<table border=\"1\" class=\"dataframe\">\n",
       "  <thead>\n",
       "    <tr style=\"text-align: right;\">\n",
       "      <th></th>\n",
       "      <th>name</th>\n",
       "      <th>geometry_type</th>\n",
       "    </tr>\n",
       "  </thead>\n",
       "  <tbody>\n",
       "    <tr>\n",
       "      <th>0</th>\n",
       "      <td>tiles</td>\n",
       "      <td>Polygon</td>\n",
       "    </tr>\n",
       "    <tr>\n",
       "      <th>1</th>\n",
       "      <td>maus_polygons</td>\n",
       "      <td>MultiPolygon</td>\n",
       "    </tr>\n",
       "    <tr>\n",
       "      <th>2</th>\n",
       "      <td>tang_polygons</td>\n",
       "      <td>Unknown</td>\n",
       "    </tr>\n",
       "  </tbody>\n",
       "</table>\n",
       "</div>"
      ],
      "text/plain": [
       "            name geometry_type\n",
       "0          tiles       Polygon\n",
       "1  maus_polygons  MultiPolygon\n",
       "2  tang_polygons       Unknown"
      ]
     },
     "execution_count": 23,
     "metadata": {},
     "output_type": "execute_result"
    }
   ],
   "source": [
    "gpd.list_layers(raw_dataset)"
   ]
  },
  {
   "cell_type": "code",
   "execution_count": 3,
   "metadata": {},
   "outputs": [
    {
     "name": "stdout",
     "output_type": "stream",
     "text": [
      "(1517, 9)\n"
     ]
    },
    {
     "data": {
      "text/html": [
       "<div>\n",
       "<style scoped>\n",
       "    .dataframe tbody tr th:only-of-type {\n",
       "        vertical-align: middle;\n",
       "    }\n",
       "\n",
       "    .dataframe tbody tr th {\n",
       "        vertical-align: top;\n",
       "    }\n",
       "\n",
       "    .dataframe thead th {\n",
       "        text-align: right;\n",
       "    }\n",
       "</style>\n",
       "<table border=\"1\" class=\"dataframe\">\n",
       "  <thead>\n",
       "    <tr style=\"text-align: right;\">\n",
       "      <th></th>\n",
       "      <th>tile_id</th>\n",
       "      <th>s2_tile_id</th>\n",
       "      <th>source_dataset</th>\n",
       "      <th>preferred_dataset</th>\n",
       "      <th>minetype1</th>\n",
       "      <th>minetype2</th>\n",
       "      <th>comment</th>\n",
       "      <th>timestamp</th>\n",
       "      <th>geometry</th>\n",
       "    </tr>\n",
       "  </thead>\n",
       "  <tbody>\n",
       "    <tr>\n",
       "      <th>0</th>\n",
       "      <td>2805</td>\n",
       "      <td>S2A_MSIL2A_20191017T004711_R102_T54LWM_2020100...</td>\n",
       "      <td>maus</td>\n",
       "      <td>maus</td>\n",
       "      <td>Surface</td>\n",
       "      <td>Industrial</td>\n",
       "      <td></td>\n",
       "      <td>2024-07-04 10:04:22.755</td>\n",
       "      <td>POLYGON ((141.8445 -12.50898, 141.84391 -12.32...</td>\n",
       "    </tr>\n",
       "    <tr>\n",
       "      <th>1</th>\n",
       "      <td>1612</td>\n",
       "      <td>S2B_MSIL2A_20191007T061729_R034_T42UXD_2020100...</td>\n",
       "      <td>tang</td>\n",
       "      <td>tang</td>\n",
       "      <td>Surface</td>\n",
       "      <td>Industrial</td>\n",
       "      <td></td>\n",
       "      <td>2024-07-04 10:05:26.560</td>\n",
       "      <td>POLYGON ((72.06065 52.32091, 72.07342 52.50476...</td>\n",
       "    </tr>\n",
       "    <tr>\n",
       "      <th>2</th>\n",
       "      <td>2352</td>\n",
       "      <td>S2B_MSIL2A_20190707T021609_R003_T50LMR_2020100...</td>\n",
       "      <td>both</td>\n",
       "      <td>tang</td>\n",
       "      <td>Surface</td>\n",
       "      <td>Industrial</td>\n",
       "      <td></td>\n",
       "      <td>2024-07-04 10:06:29.655</td>\n",
       "      <td>POLYGON ((117.00981 -9.0093, 117.00981 -8.8240...</td>\n",
       "    </tr>\n",
       "    <tr>\n",
       "      <th>3</th>\n",
       "      <td>1167</td>\n",
       "      <td>S2A_MSIL2A_20190424T082611_R021_T33JYF_2020110...</td>\n",
       "      <td>both</td>\n",
       "      <td>tang</td>\n",
       "      <td>Surface</td>\n",
       "      <td>Industrial</td>\n",
       "      <td></td>\n",
       "      <td>2024-07-04 10:07:19.452</td>\n",
       "      <td>POLYGON ((18.02702 -31.33978, 18.02113 -31.155...</td>\n",
       "    </tr>\n",
       "    <tr>\n",
       "      <th>4</th>\n",
       "      <td>1107</td>\n",
       "      <td>S2A_MSIL2A_20180827T101021_R022_T32SMD_2020102...</td>\n",
       "      <td>both</td>\n",
       "      <td>tang</td>\n",
       "      <td>Surface</td>\n",
       "      <td>Industrial</td>\n",
       "      <td></td>\n",
       "      <td>2024-07-04 10:09:21.708</td>\n",
       "      <td>POLYGON ((8.36212 34.32496, 8.36072 34.50964, ...</td>\n",
       "    </tr>\n",
       "  </tbody>\n",
       "</table>\n",
       "</div>"
      ],
      "text/plain": [
       "  tile_id                                         s2_tile_id source_dataset  \\\n",
       "0    2805  S2A_MSIL2A_20191017T004711_R102_T54LWM_2020100...           maus   \n",
       "1    1612  S2B_MSIL2A_20191007T061729_R034_T42UXD_2020100...           tang   \n",
       "2    2352  S2B_MSIL2A_20190707T021609_R003_T50LMR_2020100...           both   \n",
       "3    1167  S2A_MSIL2A_20190424T082611_R021_T33JYF_2020110...           both   \n",
       "4    1107  S2A_MSIL2A_20180827T101021_R022_T32SMD_2020102...           both   \n",
       "\n",
       "  preferred_dataset minetype1   minetype2 comment               timestamp  \\\n",
       "0              maus   Surface  Industrial         2024-07-04 10:04:22.755   \n",
       "1              tang   Surface  Industrial         2024-07-04 10:05:26.560   \n",
       "2              tang   Surface  Industrial         2024-07-04 10:06:29.655   \n",
       "3              tang   Surface  Industrial         2024-07-04 10:07:19.452   \n",
       "4              tang   Surface  Industrial         2024-07-04 10:09:21.708   \n",
       "\n",
       "                                            geometry  \n",
       "0  POLYGON ((141.8445 -12.50898, 141.84391 -12.32...  \n",
       "1  POLYGON ((72.06065 52.32091, 72.07342 52.50476...  \n",
       "2  POLYGON ((117.00981 -9.0093, 117.00981 -8.8240...  \n",
       "3  POLYGON ((18.02702 -31.33978, 18.02113 -31.155...  \n",
       "4  POLYGON ((8.36212 34.32496, 8.36072 34.50964, ...  "
      ]
     },
     "execution_count": 3,
     "metadata": {},
     "output_type": "execute_result"
    }
   ],
   "source": [
    "# Load the data\n",
    "data = gpd.read_file(raw_dataset, layer=\"tiles\")\n",
    "print(data.shape)\n",
    "data.head()"
   ]
  },
  {
   "cell_type": "code",
   "execution_count": 28,
   "metadata": {},
   "outputs": [
    {
     "data": {
      "text/plain": [
       "minetype1\n",
       "Surface    1060\n",
       "Placer      147\n",
       "Name: count, dtype: int64"
      ]
     },
     "execution_count": 28,
     "metadata": {},
     "output_type": "execute_result"
    }
   ],
   "source": [
    "# check distribution in minetype1 column\n",
    "data[\"minetype1\"].value_counts()"
   ]
  },
  {
   "cell_type": "code",
   "execution_count": 29,
   "metadata": {},
   "outputs": [
    {
     "data": {
      "text/plain": [
       "source_dataset\n",
       "both    695\n",
       "maus    392\n",
       "tang    120\n",
       "Name: count, dtype: int64"
      ]
     },
     "execution_count": 29,
     "metadata": {},
     "output_type": "execute_result"
    }
   ],
   "source": [
    "# check distribution in source_dataset column\n",
    "data.source_dataset.value_counts()"
   ]
  },
  {
   "cell_type": "code",
   "execution_count": 6,
   "metadata": {},
   "outputs": [
    {
     "name": "stdout",
     "output_type": "stream",
     "text": [
      "(1210, 9)\n"
     ]
    },
    {
     "data": {
      "text/plain": [
       "source_dataset\n",
       "both    697\n",
       "maus    393\n",
       "tang    120\n",
       "Name: count, dtype: int64"
      ]
     },
     "execution_count": 6,
     "metadata": {},
     "output_type": "execute_result"
    }
   ],
   "source": [
    "# filter out only tiles with valid surface mines\n",
    "data = data[data[\"minetype1\"].isin([\"Surface\", \"Placer\"]) & data[\"source_dataset\"].isin([\"maus\", \"tang\", \"both\"])]\n",
    "print(data.shape)\n",
    "data.source_dataset.value_counts()"
   ]
  },
  {
   "cell_type": "markdown",
   "metadata": {},
   "source": [
    "## Overlap"
   ]
  },
  {
   "cell_type": "code",
   "execution_count": null,
   "metadata": {},
   "outputs": [],
   "source": [
    "# check how many tiles are overlapping with other tiles\n",
    "data[\"overlaps\"] = data[\"geometry\"].apply(lambda x: data[\"geometry\"].apply(lambda y: x.overlaps(y)).sum())\n",
    "data[\"overlaps\"].value_counts()"
   ]
  },
  {
   "cell_type": "code",
   "execution_count": null,
   "metadata": {},
   "outputs": [],
   "source": [
    "# calculate overlap percentage of each tile\n",
    "data[\"overlap_percentage\"] = data[\"geometry\"].apply(lambda x: data[\"geometry\"].apply(lambda y: x.intersection(y).area/x.area).sum() - 1)\n",
    "data[\"overlap_percentage\"].hist(bins=50)"
   ]
  },
  {
   "cell_type": "code",
   "execution_count": null,
   "metadata": {},
   "outputs": [],
   "source": [
    "# assign validation label to the tiles with overlap percentage less than 0.1\n",
    "data[\"validation_eligible\"] = data[\"overlap_percentage\"].apply(lambda x: 1 if x < 0.1 else 0)\n",
    "data[\"validation_eligible\"].value_counts()"
   ]
  },
  {
   "cell_type": "code",
   "execution_count": null,
   "metadata": {},
   "outputs": [],
   "source": [
    "# Create a Leaflet map\n",
    "m = leafmap.Map()\n",
    "\n",
    "style_eligible = {\n",
    "    \"stroke\": True,\n",
    "    \"color\": \"green\",\n",
    "    \"weight\": 2,\n",
    "    \"opacity\": 1,\n",
    "    \"fill\": True,\n",
    "    \"fillColor\": \"green\",\n",
    "}\n",
    "\n",
    "# change the color of the tiles with overlap percentage less than 0.1\n",
    "m.add_gdf(data[data[\"validation_eligible\"] == 1], layer_name=\"validation_eligible\", style=style_eligible)\n",
    "\n",
    "style_not_eligible = {\n",
    "    \"stroke\": True,\n",
    "    \"color\": \"red\",\n",
    "    \"weight\": 2,\n",
    "    \"opacity\": 1,\n",
    "    \"fill\": True,\n",
    "    \"fillColor\": \"red\",\n",
    "}\n",
    "\n",
    "# change the color of the tiles with overlap percentage more than 0.1\n",
    "m.add_gdf(data[data[\"validation_eligible\"] == 0], layer_name=\"validation_not_eligible\", style=style_not_eligible)\n",
    "\n",
    "# Display the map\n",
    "m"
   ]
  },
  {
   "cell_type": "markdown",
   "metadata": {},
   "source": [
    "### Group Overlapping Tiles\n"
   ]
  },
  {
   "cell_type": "code",
   "execution_count": null,
   "metadata": {},
   "outputs": [],
   "source": [
    "import geopandas as gpd\n",
    "import networkx as nx\n",
    "from shapely.geometry import Polygon\n",
    "\n",
    "# Assuming `data` is a GeoDataFrame with a 'geometry' column containing Polygon geometries\n",
    "\n",
    "# Step 1: Create a graph\n",
    "G = nx.Graph()\n",
    "\n",
    "# Step 2: Add nodes\n",
    "for idx, geom in data.iterrows():\n",
    "    G.add_node(idx, geometry=geom.geometry)\n",
    "\n",
    "# Step 3: Add edges for overlapping or touching geometries\n",
    "for i, geom1 in data.iterrows():\n",
    "    for j, geom2 in data.iterrows():\n",
    "        if i != j and (geom1.geometry.overlaps(geom2.geometry) or geom1.geometry.touches(geom2.geometry)):\n",
    "            G.add_edge(i, j)\n",
    "\n",
    "# Step 4: Find connected components\n",
    "connected_components = list(nx.connected_components(G))\n",
    "\n",
    "# Step 5: Assign group IDs\n",
    "group_id = 0\n",
    "data['overlap_group'] = -1\n",
    "for component in connected_components:\n",
    "    for idx in component:\n",
    "        data.at[idx, 'overlap_group'] = group_id\n",
    "    group_id += 1\n",
    "\n",
    "print(f\"Number of connected components: {len(connected_components)}\")\n",
    "\n",
    "data.head()"
   ]
  },
  {
   "cell_type": "code",
   "execution_count": null,
   "metadata": {},
   "outputs": [],
   "source": [
    "# Create a Leaflet map\n",
    "m = leafmap.Map()\n",
    "m.add_gdf(data)\n",
    "m"
   ]
  },
  {
   "cell_type": "markdown",
   "metadata": {},
   "source": [
    "### Plot groups by color"
   ]
  },
  {
   "cell_type": "code",
   "execution_count": null,
   "metadata": {},
   "outputs": [],
   "source": [
    "import geopandas as gpd\n",
    "import leafmap\n",
    "import matplotlib.pyplot as plt\n",
    "import matplotlib.colors as mcolors\n",
    "\n",
    "# Step 2: Define styles\n",
    "def get_group_color(group_id, num_groups):\n",
    "    cmap = plt.get_cmap('tab20')  # Use a colormap with enough distinct colors\n",
    "    norm = mcolors.Normalize(vmin=0, vmax=num_groups - 1)\n",
    "    return mcolors.to_hex(cmap(norm(group_id)))\n",
    "\n",
    "# Get the number of unique groups\n",
    "num_groups = data['overlap_group'].nunique()\n",
    "\n",
    "# Step 3: Add tiles to the map\n",
    "m = leafmap.Map()\n",
    "\n",
    "for group_id in data['overlap_group'].unique():\n",
    "    group_data = data[data['overlap_group'] == group_id]\n",
    "    color = get_group_color(group_id, num_groups)\n",
    "    style = {\n",
    "        \"stroke\": True,\n",
    "        \"color\": color,\n",
    "        \"weight\": 2,\n",
    "        \"opacity\": 1,\n",
    "        \"fill\": True,\n",
    "        \"fillColor\": color,\n",
    "        \"fillOpacity\": 0.5,\n",
    "    }\n",
    "    m.add_gdf(group_data, layer_name=f\"group_{group_id}\", style=style)\n",
    "\n",
    "# Display the map\n",
    "m"
   ]
  },
  {
   "cell_type": "markdown",
   "metadata": {},
   "source": [
    "## Global distribution of tiles"
   ]
  },
  {
   "cell_type": "code",
   "execution_count": null,
   "metadata": {},
   "outputs": [],
   "source": [
    "# Using Markers on leafmap\n",
    "def plot_tiles_on_basemap(gdf):\n",
    "    import folium\n",
    "\n",
    "    m = folium.Map()\n",
    "\n",
    "    # Iterate over the tiles and add markers to the map\n",
    "    for _, row in gdf.iterrows():\n",
    "        lat = row.geometry.centroid.y\n",
    "        lon = row.geometry.centroid.x\n",
    "        folium.Marker([lat, lon]).add_to(m)\n",
    "\n",
    "    # Display the map\n",
    "    return m\n",
    "\n",
    "plot_tiles_on_basemap(data)"
   ]
  },
  {
   "cell_type": "markdown",
   "metadata": {},
   "source": [
    "# PROCESSED DATASET"
   ]
  },
  {
   "cell_type": "code",
   "execution_count": 30,
   "metadata": {},
   "outputs": [
    {
     "data": {
      "text/html": [
       "<div>\n",
       "<style scoped>\n",
       "    .dataframe tbody tr th:only-of-type {\n",
       "        vertical-align: middle;\n",
       "    }\n",
       "\n",
       "    .dataframe tbody tr th {\n",
       "        vertical-align: top;\n",
       "    }\n",
       "\n",
       "    .dataframe thead th {\n",
       "        text-align: right;\n",
       "    }\n",
       "</style>\n",
       "<table border=\"1\" class=\"dataframe\">\n",
       "  <thead>\n",
       "    <tr style=\"text-align: right;\">\n",
       "      <th></th>\n",
       "      <th>name</th>\n",
       "      <th>geometry_type</th>\n",
       "    </tr>\n",
       "  </thead>\n",
       "  <tbody>\n",
       "    <tr>\n",
       "      <th>0</th>\n",
       "      <td>maus_polygons</td>\n",
       "      <td>MultiPolygon</td>\n",
       "    </tr>\n",
       "    <tr>\n",
       "      <th>1</th>\n",
       "      <td>tang_polygons</td>\n",
       "      <td>Unknown</td>\n",
       "    </tr>\n",
       "    <tr>\n",
       "      <th>2</th>\n",
       "      <td>maus_bboxes</td>\n",
       "      <td>MultiPolygon</td>\n",
       "    </tr>\n",
       "    <tr>\n",
       "      <th>3</th>\n",
       "      <td>tang_bboxes</td>\n",
       "      <td>MultiPolygon</td>\n",
       "    </tr>\n",
       "    <tr>\n",
       "      <th>4</th>\n",
       "      <td>preferred_polygons</td>\n",
       "      <td>MultiPolygon</td>\n",
       "    </tr>\n",
       "    <tr>\n",
       "      <th>5</th>\n",
       "      <td>preferred_bboxes</td>\n",
       "      <td>MultiPolygon</td>\n",
       "    </tr>\n",
       "    <tr>\n",
       "      <th>6</th>\n",
       "      <td>tiles</td>\n",
       "      <td>Polygon</td>\n",
       "    </tr>\n",
       "  </tbody>\n",
       "</table>\n",
       "</div>"
      ],
      "text/plain": [
       "                 name geometry_type\n",
       "0       maus_polygons  MultiPolygon\n",
       "1       tang_polygons       Unknown\n",
       "2         maus_bboxes  MultiPolygon\n",
       "3         tang_bboxes  MultiPolygon\n",
       "4  preferred_polygons  MultiPolygon\n",
       "5    preferred_bboxes  MultiPolygon\n",
       "6               tiles       Polygon"
      ]
     },
     "execution_count": 30,
     "metadata": {},
     "output_type": "execute_result"
    }
   ],
   "source": [
    "# list layernames \n",
    "gpd.list_layers(post_dataset)"
   ]
  },
  {
   "cell_type": "code",
   "execution_count": 27,
   "metadata": {},
   "outputs": [
    {
     "data": {
      "text/html": [
       "<div>\n",
       "<style scoped>\n",
       "    .dataframe tbody tr th:only-of-type {\n",
       "        vertical-align: middle;\n",
       "    }\n",
       "\n",
       "    .dataframe tbody tr th {\n",
       "        vertical-align: top;\n",
       "    }\n",
       "\n",
       "    .dataframe thead th {\n",
       "        text-align: right;\n",
       "    }\n",
       "</style>\n",
       "<table border=\"1\" class=\"dataframe\">\n",
       "  <thead>\n",
       "    <tr style=\"text-align: right;\">\n",
       "      <th></th>\n",
       "      <th>tile_id</th>\n",
       "      <th>s2_tile_id</th>\n",
       "      <th>source_dataset</th>\n",
       "      <th>preferred_dataset</th>\n",
       "      <th>minetype1</th>\n",
       "      <th>minetype2</th>\n",
       "      <th>comment</th>\n",
       "      <th>timestamp</th>\n",
       "      <th>split</th>\n",
       "      <th>geometry</th>\n",
       "    </tr>\n",
       "  </thead>\n",
       "  <tbody>\n",
       "    <tr>\n",
       "      <th>0</th>\n",
       "      <td>2805</td>\n",
       "      <td>S2A_MSIL2A_20191017T004711_R102_T54LWM_2020100...</td>\n",
       "      <td>maus</td>\n",
       "      <td>maus</td>\n",
       "      <td>Surface</td>\n",
       "      <td>Industrial</td>\n",
       "      <td></td>\n",
       "      <td>2024-07-04 10:04:22.755</td>\n",
       "      <td>train</td>\n",
       "      <td>POLYGON ((141.8445 -12.50898, 141.84391 -12.32...</td>\n",
       "    </tr>\n",
       "    <tr>\n",
       "      <th>1</th>\n",
       "      <td>1612</td>\n",
       "      <td>S2B_MSIL2A_20191007T061729_R034_T42UXD_2020100...</td>\n",
       "      <td>tang</td>\n",
       "      <td>tang</td>\n",
       "      <td>Surface</td>\n",
       "      <td>Industrial</td>\n",
       "      <td></td>\n",
       "      <td>2024-07-04 10:05:26.560</td>\n",
       "      <td>train</td>\n",
       "      <td>POLYGON ((72.06065 52.32091, 72.07342 52.50476...</td>\n",
       "    </tr>\n",
       "    <tr>\n",
       "      <th>2</th>\n",
       "      <td>2352</td>\n",
       "      <td>S2B_MSIL2A_20190707T021609_R003_T50LMR_2020100...</td>\n",
       "      <td>both</td>\n",
       "      <td>tang</td>\n",
       "      <td>Surface</td>\n",
       "      <td>Industrial</td>\n",
       "      <td></td>\n",
       "      <td>2024-07-04 10:06:29.655</td>\n",
       "      <td>train</td>\n",
       "      <td>POLYGON ((117.00981 -9.0093, 117.00981 -8.8240...</td>\n",
       "    </tr>\n",
       "    <tr>\n",
       "      <th>3</th>\n",
       "      <td>1167</td>\n",
       "      <td>S2A_MSIL2A_20190424T082611_R021_T33JYF_2020110...</td>\n",
       "      <td>both</td>\n",
       "      <td>tang</td>\n",
       "      <td>Surface</td>\n",
       "      <td>Industrial</td>\n",
       "      <td></td>\n",
       "      <td>2024-07-04 10:07:19.452</td>\n",
       "      <td>train</td>\n",
       "      <td>POLYGON ((18.02702 -31.33978, 18.02113 -31.155...</td>\n",
       "    </tr>\n",
       "    <tr>\n",
       "      <th>4</th>\n",
       "      <td>1107</td>\n",
       "      <td>S2A_MSIL2A_20180827T101021_R022_T32SMD_2020102...</td>\n",
       "      <td>both</td>\n",
       "      <td>tang</td>\n",
       "      <td>Surface</td>\n",
       "      <td>Industrial</td>\n",
       "      <td></td>\n",
       "      <td>2024-07-04 10:09:21.708</td>\n",
       "      <td>train</td>\n",
       "      <td>POLYGON ((8.36212 34.32496, 8.36072 34.50964, ...</td>\n",
       "    </tr>\n",
       "    <tr>\n",
       "      <th>...</th>\n",
       "      <td>...</td>\n",
       "      <td>...</td>\n",
       "      <td>...</td>\n",
       "      <td>...</td>\n",
       "      <td>...</td>\n",
       "      <td>...</td>\n",
       "      <td>...</td>\n",
       "      <td>...</td>\n",
       "      <td>...</td>\n",
       "      <td>...</td>\n",
       "    </tr>\n",
       "    <tr>\n",
       "      <th>1509</th>\n",
       "      <td>630</td>\n",
       "      <td>S2B_MSIL2A_20190921T143749_R096_T20NNN_2020100...</td>\n",
       "      <td>rejected</td>\n",
       "      <td>none</td>\n",
       "      <td>Placer</td>\n",
       "      <td>Artisanal</td>\n",
       "      <td>cloudy image</td>\n",
       "      <td>2024-08-27 16:29:40.578</td>\n",
       "      <td>None</td>\n",
       "      <td>POLYGON ((-62.32414 6.65726, -62.32388 6.84251...</td>\n",
       "    </tr>\n",
       "    <tr>\n",
       "      <th>1510</th>\n",
       "      <td>2006</td>\n",
       "      <td>S2B_MSIL2A_20190729T025549_R032_T48MZB_2020110...</td>\n",
       "      <td>rejected</td>\n",
       "      <td>none</td>\n",
       "      <td>Placer</td>\n",
       "      <td>Artisanal</td>\n",
       "      <td>cloudy image</td>\n",
       "      <td>2024-08-27 16:31:52.014</td>\n",
       "      <td>None</td>\n",
       "      <td>POLYGON ((108.17512 -3.17611, 108.17561 -2.991...</td>\n",
       "    </tr>\n",
       "    <tr>\n",
       "      <th>1511</th>\n",
       "      <td>861</td>\n",
       "      <td>S2B_MSIL2A_20190912T141049_R110_T21NXF_2020100...</td>\n",
       "      <td>rejected</td>\n",
       "      <td>none</td>\n",
       "      <td>Placer</td>\n",
       "      <td>Artisanal</td>\n",
       "      <td>inaccurate polygons</td>\n",
       "      <td>2024-08-27 16:35:28.938</td>\n",
       "      <td>None</td>\n",
       "      <td>POLYGON ((-55.49122 4.6572, -55.49082 4.84241,...</td>\n",
       "    </tr>\n",
       "    <tr>\n",
       "      <th>1512</th>\n",
       "      <td>1654</td>\n",
       "      <td>S2B_MSIL2A_20190330T050659_R019_T44QLJ_2020100...</td>\n",
       "      <td>both</td>\n",
       "      <td>tang</td>\n",
       "      <td>Surface</td>\n",
       "      <td>Industrial</td>\n",
       "      <td></td>\n",
       "      <td>2024-08-27 16:38:46.515</td>\n",
       "      <td>train</td>\n",
       "      <td>POLYGON ((79.34968 21.15852, 79.34762 21.34348...</td>\n",
       "    </tr>\n",
       "    <tr>\n",
       "      <th>1513</th>\n",
       "      <td>2010</td>\n",
       "      <td>S2B_MSIL2A_20200315T025539_R032_T48MZB_2020101...</td>\n",
       "      <td>maus</td>\n",
       "      <td>maus</td>\n",
       "      <td>Placer</td>\n",
       "      <td>Artisanal</td>\n",
       "      <td></td>\n",
       "      <td>2024-08-27 16:41:18.229</td>\n",
       "      <td>train</td>\n",
       "      <td>POLYGON ((108.34182 -3.00943, 108.34225 -2.824...</td>\n",
       "    </tr>\n",
       "  </tbody>\n",
       "</table>\n",
       "<p>1514 rows × 10 columns</p>\n",
       "</div>"
      ],
      "text/plain": [
       "      tile_id                                         s2_tile_id  \\\n",
       "0        2805  S2A_MSIL2A_20191017T004711_R102_T54LWM_2020100...   \n",
       "1        1612  S2B_MSIL2A_20191007T061729_R034_T42UXD_2020100...   \n",
       "2        2352  S2B_MSIL2A_20190707T021609_R003_T50LMR_2020100...   \n",
       "3        1167  S2A_MSIL2A_20190424T082611_R021_T33JYF_2020110...   \n",
       "4        1107  S2A_MSIL2A_20180827T101021_R022_T32SMD_2020102...   \n",
       "...       ...                                                ...   \n",
       "1509      630  S2B_MSIL2A_20190921T143749_R096_T20NNN_2020100...   \n",
       "1510     2006  S2B_MSIL2A_20190729T025549_R032_T48MZB_2020110...   \n",
       "1511      861  S2B_MSIL2A_20190912T141049_R110_T21NXF_2020100...   \n",
       "1512     1654  S2B_MSIL2A_20190330T050659_R019_T44QLJ_2020100...   \n",
       "1513     2010  S2B_MSIL2A_20200315T025539_R032_T48MZB_2020101...   \n",
       "\n",
       "     source_dataset preferred_dataset minetype1   minetype2  \\\n",
       "0              maus              maus   Surface  Industrial   \n",
       "1              tang              tang   Surface  Industrial   \n",
       "2              both              tang   Surface  Industrial   \n",
       "3              both              tang   Surface  Industrial   \n",
       "4              both              tang   Surface  Industrial   \n",
       "...             ...               ...       ...         ...   \n",
       "1509       rejected              none    Placer   Artisanal   \n",
       "1510       rejected              none    Placer   Artisanal   \n",
       "1511       rejected              none    Placer   Artisanal   \n",
       "1512           both              tang   Surface  Industrial   \n",
       "1513           maus              maus    Placer   Artisanal   \n",
       "\n",
       "                  comment               timestamp  split  \\\n",
       "0                         2024-07-04 10:04:22.755  train   \n",
       "1                         2024-07-04 10:05:26.560  train   \n",
       "2                         2024-07-04 10:06:29.655  train   \n",
       "3                         2024-07-04 10:07:19.452  train   \n",
       "4                         2024-07-04 10:09:21.708  train   \n",
       "...                   ...                     ...    ...   \n",
       "1509         cloudy image 2024-08-27 16:29:40.578   None   \n",
       "1510         cloudy image 2024-08-27 16:31:52.014   None   \n",
       "1511  inaccurate polygons 2024-08-27 16:35:28.938   None   \n",
       "1512                      2024-08-27 16:38:46.515  train   \n",
       "1513                      2024-08-27 16:41:18.229  train   \n",
       "\n",
       "                                               geometry  \n",
       "0     POLYGON ((141.8445 -12.50898, 141.84391 -12.32...  \n",
       "1     POLYGON ((72.06065 52.32091, 72.07342 52.50476...  \n",
       "2     POLYGON ((117.00981 -9.0093, 117.00981 -8.8240...  \n",
       "3     POLYGON ((18.02702 -31.33978, 18.02113 -31.155...  \n",
       "4     POLYGON ((8.36212 34.32496, 8.36072 34.50964, ...  \n",
       "...                                                 ...  \n",
       "1509  POLYGON ((-62.32414 6.65726, -62.32388 6.84251...  \n",
       "1510  POLYGON ((108.17512 -3.17611, 108.17561 -2.991...  \n",
       "1511  POLYGON ((-55.49122 4.6572, -55.49082 4.84241,...  \n",
       "1512  POLYGON ((79.34968 21.15852, 79.34762 21.34348...  \n",
       "1513  POLYGON ((108.34182 -3.00943, 108.34225 -2.824...  \n",
       "\n",
       "[1514 rows x 10 columns]"
      ]
     },
     "execution_count": 27,
     "metadata": {},
     "output_type": "execute_result"
    }
   ],
   "source": [
    "# load the processed dataset\n",
    "tiles = gpd.read_file(post_dataset, layer=\"tiles\")\n",
    "maus_poly = gpd.read_file(post_dataset, layer=\"maus_polygons\")\n",
    "tang_poly = gpd.read_file(post_dataset, layer=\"tang_polygons\")\n",
    "preferred_poly = gpd.read_file(post_dataset, layer=\"preferred_polygons\")\n",
    "maus_bbox = gpd.read_file(post_dataset, layer=\"maus_bboxes\")\n",
    "tang_bbox = gpd.read_file(post_dataset, layer=\"tang_bboxes\")\n",
    "preferred_bbox = gpd.read_file(post_dataset, layer=\"preferred_bboxes\")\n",
    "tiles"
   ]
  },
  {
   "cell_type": "markdown",
   "metadata": {},
   "source": [
    "Construct one coherent dataset with the preferred mask"
   ]
  },
  {
   "cell_type": "markdown",
   "metadata": {},
   "source": [
    "## Visualize the dataset"
   ]
  },
  {
   "cell_type": "code",
   "execution_count": null,
   "metadata": {},
   "outputs": [],
   "source": [
    "ROW = 6\n",
    "\n",
    "m = leafmap.Map(center = (tiles.iloc[ROW:ROW+1].geometry.centroid.y.values[0], tiles.iloc[ROW:ROW+1].geometry.centroid.x.values[0]), zoom = 12)\n",
    "# add satellite\n",
    "m.add_basemap(\"SATELLITE\")\n",
    "\n",
    "style_tile = {\n",
    "    \"color\": \"orange\",\n",
    "    \"fillColor\": \"orange\",\n",
    "    \"fillOpacity\": 0.0,\n",
    "}\n",
    "\n",
    "style_bbox = {\n",
    "    \"color\": \"green\",\n",
    "    \"fillColor\": \"green\",\n",
    "    \"fillOpacity\": 0.0,\n",
    "}\n",
    "\n",
    "m.add_gdf(tiles.iloc[ROW:ROW+1], layer_name=\"tiles\", style=style_tile)\n",
    "m.add_gdf(preferred_poly.iloc[ROW:ROW+1], layer_name=\"masks\")\n",
    "m.add_gdf(preferred_bbox.iloc[ROW:ROW+1], layer_name=\"bboxes\", style=style_bbox)\n",
    "m"
   ]
  },
  {
   "cell_type": "markdown",
   "metadata": {},
   "source": [
    "## FILTERED DATASET\n",
    "This includes the train/test/val split"
   ]
  },
  {
   "cell_type": "code",
   "execution_count": 37,
   "metadata": {},
   "outputs": [
    {
     "name": "stdout",
     "output_type": "stream",
     "text": [
      "(1207, 10)\n"
     ]
    },
    {
     "data": {
      "text/html": [
       "<div>\n",
       "<style scoped>\n",
       "    .dataframe tbody tr th:only-of-type {\n",
       "        vertical-align: middle;\n",
       "    }\n",
       "\n",
       "    .dataframe tbody tr th {\n",
       "        vertical-align: top;\n",
       "    }\n",
       "\n",
       "    .dataframe thead th {\n",
       "        text-align: right;\n",
       "    }\n",
       "</style>\n",
       "<table border=\"1\" class=\"dataframe\">\n",
       "  <thead>\n",
       "    <tr style=\"text-align: right;\">\n",
       "      <th></th>\n",
       "      <th>tile_id</th>\n",
       "      <th>s2_tile_id</th>\n",
       "      <th>source_dataset</th>\n",
       "      <th>preferred_dataset</th>\n",
       "      <th>minetype1</th>\n",
       "      <th>minetype2</th>\n",
       "      <th>comment</th>\n",
       "      <th>timestamp</th>\n",
       "      <th>split</th>\n",
       "      <th>geometry</th>\n",
       "    </tr>\n",
       "  </thead>\n",
       "  <tbody>\n",
       "    <tr>\n",
       "      <th>0</th>\n",
       "      <td>2805</td>\n",
       "      <td>S2A_MSIL2A_20191017T004711_R102_T54LWM_2020100...</td>\n",
       "      <td>maus</td>\n",
       "      <td>maus</td>\n",
       "      <td>Surface</td>\n",
       "      <td>Industrial</td>\n",
       "      <td></td>\n",
       "      <td>2024-07-04 10:04:22.755</td>\n",
       "      <td>train</td>\n",
       "      <td>POLYGON ((141.8445 -12.50898, 141.84391 -12.32...</td>\n",
       "    </tr>\n",
       "    <tr>\n",
       "      <th>1</th>\n",
       "      <td>1612</td>\n",
       "      <td>S2B_MSIL2A_20191007T061729_R034_T42UXD_2020100...</td>\n",
       "      <td>tang</td>\n",
       "      <td>tang</td>\n",
       "      <td>Surface</td>\n",
       "      <td>Industrial</td>\n",
       "      <td></td>\n",
       "      <td>2024-07-04 10:05:26.560</td>\n",
       "      <td>train</td>\n",
       "      <td>POLYGON ((72.06065 52.32091, 72.07342 52.50476...</td>\n",
       "    </tr>\n",
       "  </tbody>\n",
       "</table>\n",
       "</div>"
      ],
      "text/plain": [
       "   tile_id                                         s2_tile_id source_dataset  \\\n",
       "0     2805  S2A_MSIL2A_20191017T004711_R102_T54LWM_2020100...           maus   \n",
       "1     1612  S2B_MSIL2A_20191007T061729_R034_T42UXD_2020100...           tang   \n",
       "\n",
       "  preferred_dataset minetype1   minetype2 comment               timestamp  \\\n",
       "0              maus   Surface  Industrial         2024-07-04 10:04:22.755   \n",
       "1              tang   Surface  Industrial         2024-07-04 10:05:26.560   \n",
       "\n",
       "   split                                           geometry  \n",
       "0  train  POLYGON ((141.8445 -12.50898, 141.84391 -12.32...  \n",
       "1  train  POLYGON ((72.06065 52.32091, 72.07342 52.50476...  "
      ]
     },
     "execution_count": 37,
     "metadata": {},
     "output_type": "execute_result"
    }
   ],
   "source": [
    "# only tiles with split\n",
    "data = tiles[tiles[\"split\"].notnull()]\n",
    "print(data.shape)\n",
    "data.head(2)"
   ]
  },
  {
   "cell_type": "code",
   "execution_count": 38,
   "metadata": {},
   "outputs": [
    {
     "name": "stdout",
     "output_type": "stream",
     "text": [
      "Unique values in source_dataset:\n",
      "source_dataset\n",
      "both    695\n",
      "maus    392\n",
      "tang    120\n",
      "Name: count, dtype: int64\n",
      "Unique values in preferred_dataset:\n",
      "preferred_dataset\n",
      "tang    619\n",
      "maus    588\n",
      "Name: count, dtype: int64\n",
      "Unique values in minetype1:\n",
      "minetype1\n",
      "Surface    1060\n",
      "Placer      147\n",
      "Name: count, dtype: int64\n",
      "Unique values in minetype2:\n",
      "minetype2\n",
      "Industrial    975\n",
      "Artisanal     232\n",
      "Name: count, dtype: int64\n",
      "Unique values in split:\n",
      "split\n",
      "train    922\n",
      "val      201\n",
      "test      84\n",
      "Name: count, dtype: int64\n"
     ]
    }
   ],
   "source": [
    "# Provide unique value counts for categorical columns\n",
    "categorical_columns = ['source_dataset', 'preferred_dataset', 'minetype1', 'minetype2', 'split']\n",
    "for col in categorical_columns:\n",
    "    print(f\"Unique values in {col}:\")\n",
    "    print(data[col].value_counts())"
   ]
  },
  {
   "cell_type": "markdown",
   "metadata": {},
   "source": [
    "## Visualize"
   ]
  },
  {
   "cell_type": "code",
   "execution_count": null,
   "metadata": {},
   "outputs": [],
   "source": [
    "# Create a Leaflet map\n",
    "m = leafmap.Map()\n",
    "\n",
    "# add satellite layer\n",
    "# m.add_basemap(\"SATELLITE\")\n",
    "\n",
    "style_train = {\n",
    "    \"stroke\": True,\n",
    "    \"color\": \"green\",\n",
    "    \"weight\": 2,\n",
    "    \"opacity\": 1,\n",
    "    \"fill\": True,\n",
    "    \"fillColor\": \"green\",\n",
    "}\n",
    "\n",
    "style_val = {\n",
    "    \"stroke\": True,\n",
    "    \"color\": \"blue\",\n",
    "    \"weight\": 2,\n",
    "    \"opacity\": 1,\n",
    "    \"fill\": True,\n",
    "    \"fillColor\": \"blue\",\n",
    "}\n",
    "\n",
    "style_test = {\n",
    "    \"stroke\": True,\n",
    "    \"color\": \"red\",\n",
    "    \"weight\": 2,\n",
    "    \"opacity\": 1,\n",
    "    \"fill\": True,\n",
    "    \"fillColor\": \"red\",\n",
    "}\n",
    "\n",
    "# Add train tiles to the map\n",
    "m.add_gdf(data[data[\"split\"] == \"train\"], layer_name=\"train\", style=style_train)\n",
    "\n",
    "# Add val tiles to the map\n",
    "m.add_gdf(data[data[\"split\"] == \"val\"], layer_name=\"val\", style=style_val)\n",
    "\n",
    "# Add test tiles to the map\n",
    "m.add_gdf(data[data[\"split\"] == \"test\"], layer_name=\"test\", style=style_test)\n",
    "\n",
    "# Display the map\n",
    "m"
   ]
  },
  {
   "cell_type": "code",
   "execution_count": null,
   "metadata": {},
   "outputs": [],
   "source": [
    "# Create a Leaflet map\n",
    "m = leafmap.Map()\n",
    "\n",
    "# Add the centroids of each test tile as markers\n",
    "test_tiles = data[data[\"split\"] == \"test\"]\n",
    "for _, row in test_tiles.iterrows():\n",
    "    lat = row.geometry.centroid.y\n",
    "    lon = row.geometry.centroid.x\n",
    "    m.add_marker(location=[lat, lon])\n",
    "\n",
    "m"
   ]
  },
  {
   "cell_type": "markdown",
   "metadata": {},
   "source": [
    "## Check Train Test Splits"
   ]
  },
  {
   "cell_type": "code",
   "execution_count": 22,
   "metadata": {},
   "outputs": [
    {
     "name": "stdout",
     "output_type": "stream",
     "text": [
      "The train/val/test split for the combined dataset is: split\n",
      "train    0.763877\n",
      "val      0.166529\n",
      "test     0.069594\n",
      "Name: proportion, dtype: float64\n",
      "The train/val/test split for the maus dataset is: split\n",
      "train    0.758050\n",
      "val      0.164673\n",
      "test     0.077277\n",
      "Name: proportion, dtype: float64\n",
      "The train/val/test split for the tang dataset is: split\n",
      "train    0.743558\n",
      "val      0.153374\n",
      "test     0.103067\n",
      "Name: proportion, dtype: float64\n"
     ]
    }
   ],
   "source": [
    "# train test split for the combined dataset\n",
    "print(f\"The train/val/test split for the combined dataset is: {data['split'].value_counts(normalize=True)}\")\n",
    "\n",
    "# train test split for the maus dataset\n",
    "print(f\"The train/val/test split for the maus dataset is: {data[data['source_dataset'].isin(['maus', 'both'])]['split'].value_counts(normalize=True)}\")\n",
    "\n",
    "# train test split for the tang dataset\n",
    "print(f\"The train/val/test split for the tang dataset is: {data[data['source_dataset'].isin(['tang', 'both'])]['split'].value_counts(normalize=True)}\")\n"
   ]
  },
  {
   "cell_type": "code",
   "execution_count": null,
   "metadata": {},
   "outputs": [],
   "source": []
  }
 ],
 "metadata": {
  "kernelspec": {
   "display_name": "venv",
   "language": "python",
   "name": "python3"
  },
  "language_info": {
   "codemirror_mode": {
    "name": "ipython",
    "version": 3
   },
   "file_extension": ".py",
   "mimetype": "text/x-python",
   "name": "python",
   "nbconvert_exporter": "python",
   "pygments_lexer": "ipython3",
   "version": "3.11.9"
  }
 },
 "nbformat": 4,
 "nbformat_minor": 2
}
