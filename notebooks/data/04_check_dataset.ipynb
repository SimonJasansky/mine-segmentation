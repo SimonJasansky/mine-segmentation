{
 "cells": [
  {
   "cell_type": "markdown",
   "metadata": {},
   "source": [
    "# Visualize the manually constructed dataset of mining areas and ground truth masks"
   ]
  },
  {
   "cell_type": "code",
   "execution_count": null,
   "metadata": {},
   "outputs": [],
   "source": [
    "import geopandas as gpd\n",
    "import leafmap\n",
    "from shapely.ops import unary_union\n",
    "from shapely.geometry import Point, mapping, box, shape\n",
    "import shapely\n",
    "import json\n",
    "import os\n",
    "import numpy as np\n",
    "import matplotlib.pyplot as plt\n",
    "\n",
    "import sys\n",
    "sys.path.append(\"..\")\n",
    "\n",
    "os.getcwd()\n",
    "os.chdir(\"..\")\n",
    "root = os.path.dirname(os.getcwd())\n",
    "# root = root + \"/mine-segmentation\"\n",
    "root"
   ]
  },
  {
   "cell_type": "code",
   "execution_count": null,
   "metadata": {},
   "outputs": [],
   "source": [
    "raw_dataset = root + \"/data/raw/mining_tiles_with_masks.gpkg\"\n",
    "\n",
    "post_dataset = root + \"/data/processed/mining_tiles_with_masks_and_bounding_boxes.gpkg\""
   ]
  },
  {
   "cell_type": "code",
   "execution_count": null,
   "metadata": {},
   "outputs": [],
   "source": [
    "# Load the data\n",
    "data = gpd.read_file(raw_dataset, layer=\"tiles\")\n",
    "print(data.shape)\n",
    "data.head()"
   ]
  },
  {
   "cell_type": "code",
   "execution_count": null,
   "metadata": {},
   "outputs": [],
   "source": [
    "# filter out only tiles with valid surface mines\n",
    "data = data[data[\"minetype1\"].isin([\"Surface\", \"Placer\"]) & data[\"source_dataset\"].isin([\"maus\", \"tang\", \"both\"])]\n",
    "print(data.shape)\n",
    "data.head()"
   ]
  },
  {
   "cell_type": "code",
   "execution_count": null,
   "metadata": {},
   "outputs": [],
   "source": [
    "# check how many tiles are overlapping with other tiles\n",
    "data[\"overlaps\"] = data[\"geometry\"].apply(lambda x: data[\"geometry\"].apply(lambda y: x.overlaps(y)).sum())\n",
    "data[\"overlaps\"].value_counts()"
   ]
  },
  {
   "cell_type": "code",
   "execution_count": null,
   "metadata": {},
   "outputs": [],
   "source": [
    "# calculate overlap percentage of each tile\n",
    "data[\"overlap_percentage\"] = data[\"geometry\"].apply(lambda x: data[\"geometry\"].apply(lambda y: x.intersection(y).area/x.area).sum() - 1)\n",
    "data[\"overlap_percentage\"].hist(bins=50)"
   ]
  },
  {
   "cell_type": "code",
   "execution_count": null,
   "metadata": {},
   "outputs": [],
   "source": [
    "# assign validation label to the tiles with overlap percentage less than 0.1\n",
    "data[\"validation_eligible\"] = data[\"overlap_percentage\"].apply(lambda x: 1 if x < 0.1 else 0)\n",
    "data[\"validation_eligible\"].value_counts()"
   ]
  },
  {
   "cell_type": "code",
   "execution_count": null,
   "metadata": {},
   "outputs": [],
   "source": [
    "# Create a Leaflet map\n",
    "m = leafmap.Map()\n",
    "\n",
    "style_eligible = {\n",
    "    \"stroke\": True,\n",
    "    \"color\": \"green\",\n",
    "    \"weight\": 2,\n",
    "    \"opacity\": 1,\n",
    "    \"fill\": True,\n",
    "    \"fillColor\": \"green\",\n",
    "}\n",
    "\n",
    "# change the color of the tiles with overlap percentage less than 0.1\n",
    "m.add_gdf(data[data[\"validation_eligible\"] == 1], layer_name=\"validation_eligible\", style=style_eligible)\n",
    "\n",
    "style_not_eligible = {\n",
    "    \"stroke\": True,\n",
    "    \"color\": \"red\",\n",
    "    \"weight\": 2,\n",
    "    \"opacity\": 1,\n",
    "    \"fill\": True,\n",
    "    \"fillColor\": \"red\",\n",
    "}\n",
    "\n",
    "# change the color of the tiles with overlap percentage more than 0.1\n",
    "m.add_gdf(data[data[\"validation_eligible\"] == 0], layer_name=\"validation_not_eligible\", style=style_not_eligible)\n",
    "\n",
    "# Display the map\n",
    "m"
   ]
  },
  {
   "cell_type": "markdown",
   "metadata": {},
   "source": [
    "## Assign overlapping tiles into groups\n"
   ]
  },
  {
   "cell_type": "code",
   "execution_count": null,
   "metadata": {},
   "outputs": [],
   "source": [
    "import geopandas as gpd\n",
    "import networkx as nx\n",
    "from shapely.geometry import Polygon\n",
    "\n",
    "# Assuming `data` is a GeoDataFrame with a 'geometry' column containing Polygon geometries\n",
    "\n",
    "# Step 1: Create a graph\n",
    "G = nx.Graph()\n",
    "\n",
    "# Step 2: Add nodes\n",
    "for idx, geom in data.iterrows():\n",
    "    G.add_node(idx, geometry=geom.geometry)\n",
    "\n",
    "# Step 3: Add edges for overlapping or touching geometries\n",
    "for i, geom1 in data.iterrows():\n",
    "    for j, geom2 in data.iterrows():\n",
    "        if i != j and (geom1.geometry.overlaps(geom2.geometry) or geom1.geometry.touches(geom2.geometry)):\n",
    "            G.add_edge(i, j)\n",
    "\n",
    "# Step 4: Find connected components\n",
    "connected_components = list(nx.connected_components(G))\n",
    "\n",
    "# Step 5: Assign group IDs\n",
    "group_id = 0\n",
    "data['overlap_group'] = -1\n",
    "for component in connected_components:\n",
    "    for idx in component:\n",
    "        data.at[idx, 'overlap_group'] = group_id\n",
    "    group_id += 1\n",
    "\n",
    "print(f\"Number of connected components: {len(connected_components)}\")\n",
    "\n",
    "data.head()"
   ]
  },
  {
   "cell_type": "code",
   "execution_count": null,
   "metadata": {},
   "outputs": [],
   "source": [
    "# Create a Leaflet map\n",
    "m = leafmap.Map()\n",
    "m.add_gdf(data)\n",
    "m"
   ]
  },
  {
   "cell_type": "markdown",
   "metadata": {},
   "source": [
    "### Plot groups by color"
   ]
  },
  {
   "cell_type": "code",
   "execution_count": null,
   "metadata": {},
   "outputs": [],
   "source": [
    "import geopandas as gpd\n",
    "import leafmap\n",
    "import matplotlib.pyplot as plt\n",
    "import matplotlib.colors as mcolors\n",
    "\n",
    "# Step 2: Define styles\n",
    "def get_group_color(group_id, num_groups):\n",
    "    cmap = plt.get_cmap('tab20')  # Use a colormap with enough distinct colors\n",
    "    norm = mcolors.Normalize(vmin=0, vmax=num_groups - 1)\n",
    "    return mcolors.to_hex(cmap(norm(group_id)))\n",
    "\n",
    "# Get the number of unique groups\n",
    "num_groups = data['overlap_group'].nunique()\n",
    "\n",
    "# Step 3: Add tiles to the map\n",
    "m = leafmap.Map()\n",
    "\n",
    "for group_id in data['overlap_group'].unique():\n",
    "    group_data = data[data['overlap_group'] == group_id]\n",
    "    color = get_group_color(group_id, num_groups)\n",
    "    style = {\n",
    "        \"stroke\": True,\n",
    "        \"color\": color,\n",
    "        \"weight\": 2,\n",
    "        \"opacity\": 1,\n",
    "        \"fill\": True,\n",
    "        \"fillColor\": color,\n",
    "        \"fillOpacity\": 0.5,\n",
    "    }\n",
    "    m.add_gdf(group_data, layer_name=f\"group_{group_id}\", style=style)\n",
    "\n",
    "# Display the map\n",
    "m"
   ]
  },
  {
   "cell_type": "markdown",
   "metadata": {},
   "source": [
    "## Visualize the global distribution of the tiles"
   ]
  },
  {
   "cell_type": "code",
   "execution_count": null,
   "metadata": {},
   "outputs": [],
   "source": [
    "# Using Markers on leafmap\n",
    "def plot_tiles_on_basemap(gdf):\n",
    "    import folium\n",
    "\n",
    "    m = folium.Map()\n",
    "\n",
    "    # Iterate over the tiles and add markers to the map\n",
    "    for _, row in gdf.iterrows():\n",
    "        lat = row.geometry.centroid.y\n",
    "        lon = row.geometry.centroid.x\n",
    "        folium.Marker([lat, lon]).add_to(m)\n",
    "\n",
    "    # Display the map\n",
    "    return m\n",
    "\n",
    "plot_tiles_on_basemap(data)"
   ]
  },
  {
   "cell_type": "markdown",
   "metadata": {},
   "source": [
    "# Load processed dataset"
   ]
  },
  {
   "cell_type": "code",
   "execution_count": null,
   "metadata": {},
   "outputs": [],
   "source": [
    "# list layernames \n",
    "gpd.list_layers(post_dataset)"
   ]
  },
  {
   "cell_type": "code",
   "execution_count": null,
   "metadata": {},
   "outputs": [],
   "source": [
    "# load the processed dataset\n",
    "tiles = gpd.read_file(post_dataset, layer=\"tiles\")\n",
    "maus_poly = gpd.read_file(post_dataset, layer=\"maus_polygons\")\n",
    "tang_poly = gpd.read_file(post_dataset, layer=\"tang_polygons\")\n",
    "preferred_poly = gpd.read_file(post_dataset, layer=\"preferred_polygons\")\n",
    "maus_bbox = gpd.read_file(post_dataset, layer=\"maus_bboxes\")\n",
    "tang_bbox = gpd.read_file(post_dataset, layer=\"tang_bboxes\")\n",
    "preferred_bbox = gpd.read_file(post_dataset, layer=\"preferred_bboxes\")\n",
    "tiles.head()"
   ]
  },
  {
   "cell_type": "markdown",
   "metadata": {},
   "source": [
    "Construct one coherent dataset with the preferred mask"
   ]
  },
  {
   "cell_type": "markdown",
   "metadata": {},
   "source": [
    "## Visualize the processed dataset"
   ]
  },
  {
   "cell_type": "code",
   "execution_count": null,
   "metadata": {},
   "outputs": [],
   "source": [
    "ROW = 6\n",
    "\n",
    "m = leafmap.Map(center = (tiles.iloc[ROW:ROW+1].geometry.centroid.y.values[0], tiles.iloc[ROW:ROW+1].geometry.centroid.x.values[0]), zoom = 12)\n",
    "# add satellite\n",
    "m.add_basemap(\"SATELLITE\")\n",
    "\n",
    "style_tile = {\n",
    "    \"color\": \"orange\",\n",
    "    \"fillColor\": \"orange\",\n",
    "    \"fillOpacity\": 0.0,\n",
    "}\n",
    "\n",
    "style_bbox = {\n",
    "    \"color\": \"green\",\n",
    "    \"fillColor\": \"green\",\n",
    "    \"fillOpacity\": 0.0,\n",
    "}\n",
    "\n",
    "m.add_gdf(tiles.iloc[ROW:ROW+1], layer_name=\"tiles\", style=style_tile)\n",
    "m.add_gdf(preferred_poly.iloc[ROW:ROW+1], layer_name=\"masks\")\n",
    "m.add_gdf(preferred_bbox.iloc[ROW:ROW+1], layer_name=\"bboxes\", style=style_bbox)\n",
    "m"
   ]
  },
  {
   "cell_type": "markdown",
   "metadata": {},
   "source": [
    "# Check the image masks and chips"
   ]
  },
  {
   "cell_type": "code",
   "execution_count": null,
   "metadata": {},
   "outputs": [],
   "source": [
    "file_index=10\n",
    "chips_dir = \"/data/processed/chips/train/chips\"\n",
    "labels_dir = \"/data/processed/chips/train/labels\"\n",
    "files = os.listdir(root + chips_dir)\n",
    "filename = root + chips_dir + \"/\" + files[file_index]\n",
    "\n",
    "img = np.load(filename)\n",
    "print(img.shape)\n",
    "img"
   ]
  },
  {
   "cell_type": "code",
   "execution_count": null,
   "metadata": {},
   "outputs": [],
   "source": [
    "import os\n",
    "import numpy as np\n",
    "import matplotlib.pyplot as plt\n",
    "from skimage.transform import resize\n",
    "\n",
    "def plot_images_and_masks(root, seed=0):\n",
    "    \"\"\"\n",
    "    Plot randomly selected images (numpy arrays) and their corresponding masks (numpy arrays).\n",
    "\n",
    "    Parameters:\n",
    "    - root (str): The root directory path\n",
    "    - seed (int): The seed value for random number generation.\n",
    "\n",
    "    Returns:\n",
    "    None\n",
    "    \"\"\"\n",
    "\n",
    "    chips_dir = root + \"/data/processed/chips/train/chips\"\n",
    "    masks_dir = root + \"/data/processed/chips/train/labels\"\n",
    "\n",
    "    files = os.listdir(chips_dir)\n",
    "    fig, axs = plt.subplots(5, 2, figsize=(10, 25))\n",
    "\n",
    "    # generate 5 random indices in the range of the number of files\n",
    "    np.random.seed(seed)\n",
    "    indices = list(np.random.choice(len(files), 5, replace=False))\n",
    "    print(indices)\n",
    "\n",
    "    for i, file_index in enumerate(indices):\n",
    "        filename = os.path.join(chips_dir, files[file_index])\n",
    "        img = np.load(filename)\n",
    "        im2display = img.transpose((1, 2, 0))\n",
    "        im2display = (im2display - im2display.min()) / (im2display.max() - im2display.min())\n",
    "        im2display = np.clip(im2display, 0, 1)\n",
    "        \n",
    "        mask_filename = masks_dir + \"/\" + files[file_index].replace(\"_img\", \"_mask\")\n",
    "        mask = np.load(mask_filename).squeeze()\n",
    "        \n",
    "        resized_img = resize(im2display, (im2display.shape[0] // 2, im2display.shape[1] // 2))\n",
    "        resized_mask = resize(mask, (mask.shape[0] // 2, mask.shape[1] // 2))\n",
    "\n",
    "        # get date from the filename\n",
    "        date = files[file_index].split(\"_\")[3][:8]\n",
    "        date = f\"{date[:4]}-{date[4:6]}-{date[6:]}\"\n",
    "\n",
    "        axs[i, 0].imshow(resized_img)\n",
    "        axs[i, 0].set_title(f\"Image from {date}\")\n",
    "        \n",
    "        axs[i, 1].imshow(resized_mask)\n",
    "        axs[i, 1].set_title(\"Mask\")\n",
    "    \n",
    "    plt.tight_layout()\n",
    "    plt.show()"
   ]
  },
  {
   "cell_type": "code",
   "execution_count": null,
   "metadata": {},
   "outputs": [],
   "source": [
    "plot_images_and_masks(root, seed=5)"
   ]
  },
  {
   "cell_type": "code",
   "execution_count": null,
   "metadata": {},
   "outputs": [],
   "source": []
  }
 ],
 "metadata": {
  "kernelspec": {
   "display_name": "venv",
   "language": "python",
   "name": "python3"
  },
  "language_info": {
   "codemirror_mode": {
    "name": "ipython",
    "version": 3
   },
   "file_extension": ".py",
   "mimetype": "text/x-python",
   "name": "python",
   "nbconvert_exporter": "python",
   "pygments_lexer": "ipython3",
   "version": "3.11.9"
  }
 },
 "nbformat": 4,
 "nbformat_minor": 2
}
