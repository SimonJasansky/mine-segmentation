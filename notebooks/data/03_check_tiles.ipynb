{
 "cells": [
  {
   "cell_type": "markdown",
   "metadata": {},
   "source": [
    "# Check the mining area tiles"
   ]
  },
  {
   "cell_type": "code",
   "execution_count": 1,
   "metadata": {},
   "outputs": [
    {
     "name": "stdout",
     "output_type": "stream",
     "text": [
      "/Users/simonjasansky/programming/mine-segmentation\n"
     ]
    }
   ],
   "source": [
    "import geopandas as gpd\n",
    "import leafmap\n",
    "from shapely.ops import unary_union\n",
    "from shapely.geometry import Point, mapping, box, shape\n",
    "import shapely\n",
    "import json\n",
    "from tqdm import tqdm\n",
    "tqdm.pandas()\n",
    "import os\n",
    "\n",
    "os.chdir(\"..\")\n",
    "root = os.path.dirname(os.getcwd())\n",
    "print(root)\n",
    "\n",
    "import sys\n",
    "sys.path.append(\"..\")\n",
    "from src.utils import calculate_dimensions_km"
   ]
  },
  {
   "cell_type": "code",
   "execution_count": 10,
   "metadata": {},
   "outputs": [
    {
     "name": "stdout",
     "output_type": "stream",
     "text": [
      "                  name geometry_type\n",
      "0  mining_areas_square       Polygon\n",
      "1    mining_areas_rect       Polygon\n"
     ]
    },
    {
     "data": {
      "text/html": [
       "<div>\n",
       "<style scoped>\n",
       "    .dataframe tbody tr th:only-of-type {\n",
       "        vertical-align: middle;\n",
       "    }\n",
       "\n",
       "    .dataframe tbody tr th {\n",
       "        vertical-align: top;\n",
       "    }\n",
       "\n",
       "    .dataframe thead th {\n",
       "        text-align: right;\n",
       "    }\n",
       "</style>\n",
       "<table border=\"1\" class=\"dataframe\">\n",
       "  <thead>\n",
       "    <tr style=\"text-align: right;\">\n",
       "      <th></th>\n",
       "      <th>centroid</th>\n",
       "      <th>mining_area</th>\n",
       "      <th>geometry</th>\n",
       "    </tr>\n",
       "  </thead>\n",
       "  <tbody>\n",
       "    <tr>\n",
       "      <th>0</th>\n",
       "      <td>POINT (-165.416666 64.583272)</td>\n",
       "      <td>3.019279</td>\n",
       "      <td>POLYGON ((-165.20216 64.49183, -165.20353 64.6...</td>\n",
       "    </tr>\n",
       "    <tr>\n",
       "      <th>1</th>\n",
       "      <td>POINT (-148.916665 63.916609)</td>\n",
       "      <td>2.010186</td>\n",
       "      <td>POLYGON ((-148.70246 63.82736, -148.71364 64.0...</td>\n",
       "    </tr>\n",
       "    <tr>\n",
       "      <th>2</th>\n",
       "      <td>POINT (-139.416668 64.083275)</td>\n",
       "      <td>3.935997</td>\n",
       "      <td>POLYGON ((-139.21268 63.98899, -139.20086 64.1...</td>\n",
       "    </tr>\n",
       "    <tr>\n",
       "      <th>3</th>\n",
       "      <td>POINT (-139.416668 63.916609)</td>\n",
       "      <td>2.017951</td>\n",
       "      <td>POLYGON ((-139.21387 63.82233, -139.20215 64.0...</td>\n",
       "    </tr>\n",
       "    <tr>\n",
       "      <th>4</th>\n",
       "      <td>POINT (-139.416668 63.749943)</td>\n",
       "      <td>2.968389</td>\n",
       "      <td>POLYGON ((-139.21506 63.65566, -139.20343 63.8...</td>\n",
       "    </tr>\n",
       "  </tbody>\n",
       "</table>\n",
       "</div>"
      ],
      "text/plain": [
       "                        centroid  mining_area  \\\n",
       "0  POINT (-165.416666 64.583272)     3.019279   \n",
       "1  POINT (-148.916665 63.916609)     2.010186   \n",
       "2  POINT (-139.416668 64.083275)     3.935997   \n",
       "3  POINT (-139.416668 63.916609)     2.017951   \n",
       "4  POINT (-139.416668 63.749943)     2.968389   \n",
       "\n",
       "                                            geometry  \n",
       "0  POLYGON ((-165.20216 64.49183, -165.20353 64.6...  \n",
       "1  POLYGON ((-148.70246 63.82736, -148.71364 64.0...  \n",
       "2  POLYGON ((-139.21268 63.98899, -139.20086 64.1...  \n",
       "3  POLYGON ((-139.21387 63.82233, -139.20215 64.0...  \n",
       "4  POLYGON ((-139.21506 63.65566, -139.20343 63.8...  "
      ]
     },
     "execution_count": 10,
     "metadata": {},
     "output_type": "execute_result"
    }
   ],
   "source": [
    "tiles_path = root + \"/data/interim/tiles.gpkg\"\n",
    "\n",
    "# list the layers of the gpkg file\n",
    "print(gpd.list_layers(tiles_path))\n",
    "# Load the data\n",
    "data = gpd.read_file(tiles_path, layer=\"mining_areas_square\")\n",
    "\n",
    "data.head()"
   ]
  },
  {
   "cell_type": "code",
   "execution_count": null,
   "metadata": {},
   "outputs": [],
   "source": [
    "calculate_dimensions_km(data.geometry[0])\n",
    "\n",
    "# iterate over df and calculate the dimensions\n",
    "data[\"dimensions\"] = data.geometry.progress_apply(calculate_dimensions_km)"
   ]
  },
  {
   "cell_type": "code",
   "execution_count": null,
   "metadata": {},
   "outputs": [],
   "source": [
    "# add index as a column\n",
    "data[\"index\"] = data.index\n",
    "data.head()"
   ]
  },
  {
   "cell_type": "code",
   "execution_count": 13,
   "metadata": {},
   "outputs": [
    {
     "name": "stderr",
     "output_type": "stream",
     "text": [
      "100%|██████████| 2993/2993 [02:11<00:00, 22.83it/s]\n"
     ]
    },
    {
     "data": {
      "text/plain": [
       "<Axes: >"
      ]
     },
     "execution_count": 13,
     "metadata": {},
     "output_type": "execute_result"
    },
    {
     "data": {
      "image/png": "[encoded data removed]",
      "text/plain": [
       "<Figure size 640x480 with 1 Axes>"
      ]
     },
     "metadata": {},
     "output_type": "display_data"
    }
   ],
   "source": [
    "# calculate overlap percentage of each tile\n",
    "data[\"overlap_percentage\"] = data[\"geometry\"].progress_apply(lambda x: data[\"geometry\"].apply(lambda y: x.intersection(y).area/x.area).sum() - 1)\n",
    "data[\"overlap_percentage\"].hist(bins=50)"
   ]
  },
  {
   "cell_type": "code",
   "execution_count": 4,
   "metadata": {},
   "outputs": [
    {
     "data": {
      "application/vnd.jupyter.widget-view+json": {
       "model_id": "062d076373ec418db46aa21b9d4c2604",
       "version_major": 2,
       "version_minor": 0
      },
      "text/plain": [
       "Map(center=[20, 0], controls=(ZoomControl(options=['position', 'zoom_in_text', 'zoom_in_title', 'zoom_out_text…"
      ]
     },
     "execution_count": 4,
     "metadata": {},
     "output_type": "execute_result"
    }
   ],
   "source": [
    "# Create a Map\n",
    "m = leafmap.Map(zoom=2)\n",
    "\n",
    "# Add the GeoDataFrame to the map\n",
    "m.add_gdf(data, layer_name=\"tiles\")\n",
    "\n",
    "# Display the map\n",
    "m"
   ]
  },
  {
   "cell_type": "markdown",
   "metadata": {},
   "source": [
    "## Calculate number of groups of connected tiles"
   ]
  },
  {
   "cell_type": "code",
   "execution_count": 5,
   "metadata": {},
   "outputs": [
    {
     "data": {
      "text/html": [
       "<div>\n",
       "<style scoped>\n",
       "    .dataframe tbody tr th:only-of-type {\n",
       "        vertical-align: middle;\n",
       "    }\n",
       "\n",
       "    .dataframe tbody tr th {\n",
       "        vertical-align: top;\n",
       "    }\n",
       "\n",
       "    .dataframe thead th {\n",
       "        text-align: right;\n",
       "    }\n",
       "</style>\n",
       "<table border=\"1\" class=\"dataframe\">\n",
       "  <thead>\n",
       "    <tr style=\"text-align: right;\">\n",
       "      <th></th>\n",
       "      <th>centroid</th>\n",
       "      <th>mining_area</th>\n",
       "      <th>geometry</th>\n",
       "      <th>overlap_group</th>\n",
       "    </tr>\n",
       "  </thead>\n",
       "  <tbody>\n",
       "    <tr>\n",
       "      <th>0</th>\n",
       "      <td>POINT (-165.416666 64.583272)</td>\n",
       "      <td>3.019279</td>\n",
       "      <td>POLYGON ((-165.20216 64.49183, -165.20353 64.6...</td>\n",
       "      <td>0</td>\n",
       "    </tr>\n",
       "    <tr>\n",
       "      <th>1</th>\n",
       "      <td>POINT (-148.916665 63.916609)</td>\n",
       "      <td>2.010186</td>\n",
       "      <td>POLYGON ((-148.70246 63.82736, -148.71364 64.0...</td>\n",
       "      <td>1</td>\n",
       "    </tr>\n",
       "    <tr>\n",
       "      <th>2</th>\n",
       "      <td>POINT (-139.416668 64.083275)</td>\n",
       "      <td>3.935997</td>\n",
       "      <td>POLYGON ((-139.21268 63.98899, -139.20086 64.1...</td>\n",
       "      <td>2</td>\n",
       "    </tr>\n",
       "    <tr>\n",
       "      <th>3</th>\n",
       "      <td>POINT (-139.416668 63.916609)</td>\n",
       "      <td>2.017951</td>\n",
       "      <td>POLYGON ((-139.21387 63.82233, -139.20215 64.0...</td>\n",
       "      <td>2</td>\n",
       "    </tr>\n",
       "    <tr>\n",
       "      <th>4</th>\n",
       "      <td>POINT (-139.416668 63.749943)</td>\n",
       "      <td>2.968389</td>\n",
       "      <td>POLYGON ((-139.21506 63.65566, -139.20343 63.8...</td>\n",
       "      <td>2</td>\n",
       "    </tr>\n",
       "  </tbody>\n",
       "</table>\n",
       "</div>"
      ],
      "text/plain": [
       "                        centroid  mining_area  \\\n",
       "0  POINT (-165.416666 64.583272)     3.019279   \n",
       "1  POINT (-148.916665 63.916609)     2.010186   \n",
       "2  POINT (-139.416668 64.083275)     3.935997   \n",
       "3  POINT (-139.416668 63.916609)     2.017951   \n",
       "4  POINT (-139.416668 63.749943)     2.968389   \n",
       "\n",
       "                                            geometry  overlap_group  \n",
       "0  POLYGON ((-165.20216 64.49183, -165.20353 64.6...              0  \n",
       "1  POLYGON ((-148.70246 63.82736, -148.71364 64.0...              1  \n",
       "2  POLYGON ((-139.21268 63.98899, -139.20086 64.1...              2  \n",
       "3  POLYGON ((-139.21387 63.82233, -139.20215 64.0...              2  \n",
       "4  POLYGON ((-139.21506 63.65566, -139.20343 63.8...              2  "
      ]
     },
     "execution_count": 5,
     "metadata": {},
     "output_type": "execute_result"
    }
   ],
   "source": [
    "import geopandas as gpd\n",
    "import networkx as nx\n",
    "from tqdm import tqdm\n",
    "\n",
    "# Step 1: Create a graph\n",
    "G = nx.Graph()\n",
    "\n",
    "# Step 2: Add nodes\n",
    "for idx, geom in tqdm(data.iterrows(), total=len(data), desc=\"Adding nodes\"):\n",
    "    G.add_node(idx, geometry=geom.geometry)\n",
    "\n",
    "# Step 3: Add edges for overlapping or touching geometries\n",
    "for i, geom1 in tqdm(data.iterrows(), total=len(data), desc=\"Adding edges\"):\n",
    "    for j, geom2 in data.iterrows():\n",
    "        if i != j and (geom1.geometry.overlaps(geom2.geometry) or geom1.geometry.touches(geom2.geometry)):\n",
    "            G.add_edge(i, j)\n",
    "\n",
    "# Step 4: Find connected components\n",
    "connected_components = list(nx.connected_components(G))\n",
    "\n",
    "# Step 5: Assign group IDs\n",
    "group_id = 0\n",
    "data['overlap_group'] = -1\n",
    "for component in tqdm(connected_components, desc=\"Assigning group IDs\"):\n",
    "    for idx in component:\n",
    "        data.at[idx, 'overlap_group'] = group_id\n",
    "    group_id += 1\n",
    "\n",
    "data.head()"
   ]
  },
  {
   "cell_type": "code",
   "execution_count": 6,
   "metadata": {},
   "outputs": [
    {
     "data": {
      "text/plain": [
       "1174"
      ]
     },
     "execution_count": 6,
     "metadata": {},
     "output_type": "execute_result"
    }
   ],
   "source": [
    "# check the number of groups\n",
    "data.overlap_group.nunique()"
   ]
  },
  {
   "cell_type": "code",
   "execution_count": 9,
   "metadata": {},
   "outputs": [
    {
     "data": {
      "text/plain": [
       "overlap_group\n",
       "296     87\n",
       "284     73\n",
       "1124    43\n",
       "308     41\n",
       "1130    37\n",
       "        ..\n",
       "515      1\n",
       "516      1\n",
       "519      1\n",
       "521      1\n",
       "1173     1\n",
       "Name: count, Length: 1174, dtype: int64"
      ]
     },
     "execution_count": 9,
     "metadata": {},
     "output_type": "execute_result"
    }
   ],
   "source": [
    "# check the number of tiles in each group by plotting a hist\n",
    "data.overlap_group.value_counts()"
   ]
  }
 ],
 "metadata": {
  "kernelspec": {
   "display_name": "mineseg-base",
   "language": "python",
   "name": "python3"
  },
  "language_info": {
   "codemirror_mode": {
    "name": "ipython",
    "version": 3
   },
   "file_extension": ".py",
   "mimetype": "text/x-python",
   "name": "python",
   "nbconvert_exporter": "python",
   "pygments_lexer": "ipython3",
   "version": "3.11.9"
  }
 },
 "nbformat": 4,
 "nbformat_minor": 2
}
