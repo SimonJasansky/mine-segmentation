{
 "cells": [
  {
   "cell_type": "markdown",
   "metadata": {},
   "source": [
    "# Check the mining area tiles"
   ]
  },
  {
   "cell_type": "code",
   "execution_count": null,
   "metadata": {},
   "outputs": [],
   "source": [
    "import geopandas as gpd\n",
    "import leafmap\n",
    "from shapely.ops import unary_union\n",
    "from shapely.geometry import Point, mapping, box, shape\n",
    "import shapely\n",
    "import json\n",
    "from tqdm import tqdm\n",
    "tqdm.pandas()\n",
    "import os\n",
    "\n",
    "os.chdir(\"..\")\n",
    "root = os.path.dirname(os.getcwd())\n",
    "print(root)\n",
    "\n",
    "import sys\n",
    "sys.path.append(\"..\")\n",
    "from src.utils import calculate_dimensions_km"
   ]
  },
  {
   "cell_type": "code",
   "execution_count": null,
   "metadata": {},
   "outputs": [],
   "source": [
    "tiles_path = root + \"/data/interim/tiles.gpkg\"\n",
    "\n",
    "# list the layers of the gpkg file\n",
    "print(gpd.list_layers(tiles_path))\n",
    "# Load the data\n",
    "data = gpd.read_file(tiles_path, layer=\"mining_areas_square\")\n",
    "\n",
    "data.head()"
   ]
  },
  {
   "cell_type": "code",
   "execution_count": null,
   "metadata": {},
   "outputs": [],
   "source": [
    "calculate_dimensions_km(data.geometry[0])\n",
    "\n",
    "# iterate over df and calculate the dimensions\n",
    "data[\"dimensions\"] = data.geometry.progress_apply(calculate_dimensions_km)"
   ]
  },
  {
   "cell_type": "code",
   "execution_count": null,
   "metadata": {},
   "outputs": [],
   "source": [
    "# add index as a column\n",
    "data[\"index\"] = data.index\n",
    "data.head()"
   ]
  },
  {
   "cell_type": "code",
   "execution_count": null,
   "metadata": {},
   "outputs": [],
   "source": [
    "# calculate overlap percentage of each tile\n",
    "data[\"overlap_percentage\"] = data[\"geometry\"].progress_apply(lambda x: data[\"geometry\"].apply(lambda y: x.intersection(y).area/x.area).sum() - 1)\n",
    "data[\"overlap_percentage\"].hist(bins=50)"
   ]
  },
  {
   "cell_type": "code",
   "execution_count": null,
   "metadata": {},
   "outputs": [],
   "source": [
    "# Create a Map\n",
    "m = leafmap.Map(zoom=2)\n",
    "\n",
    "# Add the GeoDataFrame to the map\n",
    "m.add_gdf(data, layer_name=\"tiles\")\n",
    "\n",
    "# Display the map\n",
    "m"
   ]
  },
  {
   "cell_type": "markdown",
   "metadata": {},
   "source": [
    "## Calculate number of groups of connected tiles"
   ]
  },
  {
   "cell_type": "code",
   "execution_count": null,
   "metadata": {},
   "outputs": [],
   "source": [
    "import geopandas as gpd\n",
    "import networkx as nx\n",
    "from tqdm import tqdm\n",
    "\n",
    "# Step 1: Create a graph\n",
    "G = nx.Graph()\n",
    "\n",
    "# Step 2: Add nodes\n",
    "for idx, geom in tqdm(data.iterrows(), total=len(data), desc=\"Adding nodes\"):\n",
    "    G.add_node(idx, geometry=geom.geometry)\n",
    "\n",
    "# Step 3: Add edges for overlapping or touching geometries\n",
    "for i, geom1 in tqdm(data.iterrows(), total=len(data), desc=\"Adding edges\"):\n",
    "    for j, geom2 in data.iterrows():\n",
    "        if i != j and (geom1.geometry.overlaps(geom2.geometry) or geom1.geometry.touches(geom2.geometry)):\n",
    "            G.add_edge(i, j)\n",
    "\n",
    "# Step 4: Find connected components\n",
    "connected_components = list(nx.connected_components(G))\n",
    "\n",
    "# Step 5: Assign group IDs\n",
    "group_id = 0\n",
    "data['overlap_group'] = -1\n",
    "for component in tqdm(connected_components, desc=\"Assigning group IDs\"):\n",
    "    for idx in component:\n",
    "        data.at[idx, 'overlap_group'] = group_id\n",
    "    group_id += 1\n",
    "\n",
    "data.head()"
   ]
  },
  {
   "cell_type": "code",
   "execution_count": null,
   "metadata": {},
   "outputs": [],
   "source": [
    "# check the number of groups\n",
    "data.overlap_group.nunique()"
   ]
  },
  {
   "cell_type": "code",
   "execution_count": null,
   "metadata": {},
   "outputs": [],
   "source": [
    "# check the number of tiles in each group by plotting a hist\n",
    "data.overlap_group.value_counts()"
   ]
  }
 ],
 "metadata": {
  "kernelspec": {
   "display_name": "mineseg-base",
   "language": "python",
   "name": "python3"
  },
  "language_info": {
   "codemirror_mode": {
    "name": "ipython",
    "version": 3
   },
   "file_extension": ".py",
   "mimetype": "text/x-python",
   "name": "python",
   "nbconvert_exporter": "python",
   "pygments_lexer": "ipython3",
   "version": "3.11.9"
  }
 },
 "nbformat": 4,
 "nbformat_minor": 2
}
