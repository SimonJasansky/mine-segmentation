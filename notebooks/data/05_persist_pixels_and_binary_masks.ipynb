{
 "cells": [
  {
   "cell_type": "markdown",
   "metadata": {},
   "source": [
    "# Test creating a binary mask"
   ]
  },
  {
   "cell_type": "code",
   "execution_count": 337,
   "metadata": {},
   "outputs": [
    {
     "name": "stdout",
     "output_type": "stream",
     "text": [
      "/Users/simonjasansky/programming/mine-segmentation\n"
     ]
    }
   ],
   "source": [
    "import geopandas as gpd\n",
    "import leafmap\n",
    "from shapely.ops import unary_union\n",
    "from shapely.geometry import Point, mapping, box, shape\n",
    "import shapely\n",
    "import json\n",
    "import os\n",
    "import rasterio\n",
    "import matplotlib.pyplot as plt\n",
    "import numpy as np\n",
    "\n",
    "import sys\n",
    "sys.path.append(\"..\")\n",
    "\n",
    "os.getcwd()\n",
    "root = os.path.dirname(os.getcwd())\n",
    "print(root)\n",
    "\n",
    "from src.data.get_satellite_images import ReadSTAC"
   ]
  },
  {
   "cell_type": "code",
   "execution_count": 357,
   "metadata": {},
   "outputs": [
    {
     "name": "stdout",
     "output_type": "stream",
     "text": [
      "                 name geometry_type\n",
      "0               tiles       Polygon\n",
      "1       maus_polygons       Polygon\n",
      "2       tang_polygons       Polygon\n",
      "3         maus_bboxes       Polygon\n",
      "4         tang_bboxes       Polygon\n",
      "5  preferred_polygons       Polygon\n",
      "6    preferred_bboxes       Polygon\n"
     ]
    },
    {
     "data": {
      "text/html": [
       "<div>\n",
       "<style scoped>\n",
       "    .dataframe tbody tr th:only-of-type {\n",
       "        vertical-align: middle;\n",
       "    }\n",
       "\n",
       "    .dataframe tbody tr th {\n",
       "        vertical-align: top;\n",
       "    }\n",
       "\n",
       "    .dataframe thead th {\n",
       "        text-align: right;\n",
       "    }\n",
       "</style>\n",
       "<table border=\"1\" class=\"dataframe\">\n",
       "  <thead>\n",
       "    <tr style=\"text-align: right;\">\n",
       "      <th></th>\n",
       "      <th>tile_id</th>\n",
       "      <th>geometry</th>\n",
       "    </tr>\n",
       "  </thead>\n",
       "  <tbody>\n",
       "    <tr>\n",
       "      <th>0</th>\n",
       "      <td>2176</td>\n",
       "      <td>POLYGON ((114.02234 58.18514, 114.02315 58.187...</td>\n",
       "    </tr>\n",
       "    <tr>\n",
       "      <th>1</th>\n",
       "      <td>1866</td>\n",
       "      <td>POLYGON ((95.60614 24.66162, 95.61346 24.67116...</td>\n",
       "    </tr>\n",
       "    <tr>\n",
       "      <th>2</th>\n",
       "      <td>653</td>\n",
       "      <td>POLYGON ((-61.42576 4.8384, -61.42598 4.83972,...</td>\n",
       "    </tr>\n",
       "    <tr>\n",
       "      <th>3</th>\n",
       "      <td>2749</td>\n",
       "      <td>POLYGON ((132.80162 52.94666, 132.80151 52.946...</td>\n",
       "    </tr>\n",
       "    <tr>\n",
       "      <th>4</th>\n",
       "      <td>152</td>\n",
       "      <td>POLYGON ((-111.3945 56.9912, -111.39321 56.990...</td>\n",
       "    </tr>\n",
       "    <tr>\n",
       "      <th>5</th>\n",
       "      <td>288</td>\n",
       "      <td>POLYGON ((-92.5765 47.364, -92.5699 47.3663, -...</td>\n",
       "    </tr>\n",
       "    <tr>\n",
       "      <th>6</th>\n",
       "      <td>2779</td>\n",
       "      <td>POLYGON ((137.14321 -32.72606, 137.14287 -32.7...</td>\n",
       "    </tr>\n",
       "    <tr>\n",
       "      <th>7</th>\n",
       "      <td>577</td>\n",
       "      <td>POLYGON ((119.4193 -27.28, 119.4188 -27.2783, ...</td>\n",
       "    </tr>\n",
       "    <tr>\n",
       "      <th>8</th>\n",
       "      <td>2503</td>\n",
       "      <td>POLYGON ((-56.73965 -7.67412, -56.74183 -7.672...</td>\n",
       "    </tr>\n",
       "    <tr>\n",
       "      <th>9</th>\n",
       "      <td>803</td>\n",
       "      <td>POLYGON ((114.56123 -0.67777, 114.56159 -0.678...</td>\n",
       "    </tr>\n",
       "    <tr>\n",
       "      <th>10</th>\n",
       "      <td>2216</td>\n",
       "      <td>POLYGON ((88.459 44.09141, 88.47058 44.09689, ...</td>\n",
       "    </tr>\n",
       "    <tr>\n",
       "      <th>11</th>\n",
       "      <td>1777</td>\n",
       "      <td>POLYGON ((62.11241 52.95965, 62.11239 52.96029...</td>\n",
       "    </tr>\n",
       "    <tr>\n",
       "      <th>12</th>\n",
       "      <td>1560</td>\n",
       "      <td>POLYGON ((114.33644 -1.96896, 114.32553 -1.948...</td>\n",
       "    </tr>\n",
       "    <tr>\n",
       "      <th>13</th>\n",
       "      <td>2197</td>\n",
       "      <td>POLYGON ((-75.55092 7.93093, -75.55068 7.93068...</td>\n",
       "    </tr>\n",
       "    <tr>\n",
       "      <th>14</th>\n",
       "      <td>412</td>\n",
       "      <td>POLYGON ((-69.41368 -37.30246, -69.3869 -37.28...</td>\n",
       "    </tr>\n",
       "    <tr>\n",
       "      <th>15</th>\n",
       "      <td>994</td>\n",
       "      <td>POLYGON ((110.18484 39.03539, 110.18484 39.035...</td>\n",
       "    </tr>\n",
       "    <tr>\n",
       "      <th>16</th>\n",
       "      <td>529</td>\n",
       "      <td>POLYGON ((-68.3487 -23.347, -68.3282 -23.3506,...</td>\n",
       "    </tr>\n",
       "  </tbody>\n",
       "</table>\n",
       "</div>"
      ],
      "text/plain": [
       "   tile_id                                           geometry\n",
       "0     2176  POLYGON ((114.02234 58.18514, 114.02315 58.187...\n",
       "1     1866  POLYGON ((95.60614 24.66162, 95.61346 24.67116...\n",
       "2      653  POLYGON ((-61.42576 4.8384, -61.42598 4.83972,...\n",
       "3     2749  POLYGON ((132.80162 52.94666, 132.80151 52.946...\n",
       "4      152  POLYGON ((-111.3945 56.9912, -111.39321 56.990...\n",
       "5      288  POLYGON ((-92.5765 47.364, -92.5699 47.3663, -...\n",
       "6     2779  POLYGON ((137.14321 -32.72606, 137.14287 -32.7...\n",
       "7      577  POLYGON ((119.4193 -27.28, 119.4188 -27.2783, ...\n",
       "8     2503  POLYGON ((-56.73965 -7.67412, -56.74183 -7.672...\n",
       "9      803  POLYGON ((114.56123 -0.67777, 114.56159 -0.678...\n",
       "10    2216  POLYGON ((88.459 44.09141, 88.47058 44.09689, ...\n",
       "11    1777  POLYGON ((62.11241 52.95965, 62.11239 52.96029...\n",
       "12    1560  POLYGON ((114.33644 -1.96896, 114.32553 -1.948...\n",
       "13    2197  POLYGON ((-75.55092 7.93093, -75.55068 7.93068...\n",
       "14     412  POLYGON ((-69.41368 -37.30246, -69.3869 -37.28...\n",
       "15     994  POLYGON ((110.18484 39.03539, 110.18484 39.035...\n",
       "16     529  POLYGON ((-68.3487 -23.347, -68.3282 -23.3506,..."
      ]
     },
     "execution_count": 357,
     "metadata": {},
     "output_type": "execute_result"
    }
   ],
   "source": [
    "post_dataset = root + \"/data/processed/mining_tiles_with_masks_and_bounding_boxes.gpkg\"\n",
    "print(gpd.list_layers(post_dataset))\n",
    "tiles = gpd.read_file(post_dataset, layer=\"tiles\")\n",
    "masks = gpd.read_file(post_dataset, layer=\"preferred_polygons\")\n",
    "masks"
   ]
  },
  {
   "cell_type": "code",
   "execution_count": 340,
   "metadata": {},
   "outputs": [
    {
     "data": {
      "text/plain": [
       "(47.41662619753377, -92.58333336689567)"
      ]
     },
     "execution_count": 340,
     "metadata": {},
     "output_type": "execute_result"
    }
   ],
   "source": [
    "# select first row\n",
    "row = tiles.iloc[0]\n",
    "row\n",
    "\n",
    "bounds = row.geometry.bounds\n",
    "bounds\n",
    "\n",
    "\n",
    "# get lat and lon\n",
    "lat = row.geometry.centroid.y\n",
    "lon = row.geometry.centroid.x\n",
    "lat, lon"
   ]
  },
  {
   "cell_type": "code",
   "execution_count": 341,
   "metadata": {},
   "outputs": [
    {
     "name": "stdout",
     "output_type": "stream",
     "text": [
      "Loading stack...\n",
      "Returning stack from single S2 image with ID: S2B_MSIL2A_20190731T165859_R069_T15TWN_20201005T203233\n"
     ]
    }
   ],
   "source": [
    "# Download the image \n",
    "api_url=\"https://planetarycomputer.microsoft.com/api/stac/v1\"\n",
    "bands = ['B04', 'B03', 'B02']\n",
    "\n",
    "stac_reader = ReadSTAC(api_url=api_url, collection = \"sentinel-2-l2a\")\n",
    "\n",
    "item = stac_reader.get_item_by_name(row.s2_tile_id, bbox=bounds)\n",
    "\n",
    "# read as stack\n",
    "stack = stac_reader.get_stack(\n",
    "    items=item, \n",
    "    bands=bands,\n",
    "    crop_to_bounds=False, \n",
    "    squeeze_time_dim=True,\n",
    "    custom_point_and_buffer=[lon, lat, 10240],\n",
    "    chunk_size=512,\n",
    "    )\n",
    "\n",
    "# persist to disk\n",
    "# stac_reader.save_stack_as_geotiff(stack, root + f\"/data/processed/images/{row.tile_id}_{row.s2_tile_id}_img.tif\")"
   ]
  },
  {
   "cell_type": "code",
   "execution_count": null,
   "metadata": {},
   "outputs": [],
   "source": [
    "# show the stack \n",
    "stac_reader.display_stack_as_image(stack)"
   ]
  },
  {
   "cell_type": "code",
   "execution_count": 343,
   "metadata": {},
   "outputs": [],
   "source": [
    "# read the mask \n",
    "tile_id = row.tile_id\n",
    "poly = masks[masks.tile_id == tile_id].geometry.values\n",
    "\n",
    "# convert to same crs as stack\n",
    "poly = poly.to_crs(stack.crs)"
   ]
  },
  {
   "cell_type": "code",
   "execution_count": 348,
   "metadata": {},
   "outputs": [
    {
     "data": {
      "text/plain": [
       "array([0, 1], dtype=uint8)"
      ]
     },
     "execution_count": 348,
     "metadata": {},
     "output_type": "execute_result"
    }
   ],
   "source": [
    "mask_raster = rasterio.features.rasterize(poly, out_shape=(2048,2048), transform=stack.rio.transform())\n",
    "\n",
    "np.unique(mask_raster)\n",
    "\n",
    "# show the image\n",
    "plt.imshow(mask_raster)"
   ]
  },
  {
   "cell_type": "markdown",
   "metadata": {},
   "source": [
    "# Testing (Delete)"
   ]
  },
  {
   "cell_type": "code",
   "execution_count": 304,
   "metadata": {},
   "outputs": [
    {
     "data": {
      "text/plain": [
       "array([0, 1], dtype=uint8)"
      ]
     },
     "execution_count": 304,
     "metadata": {},
     "output_type": "execute_result"
    }
   ],
   "source": [
    "import rasterio\n",
    "from rasterio.features import rasterize\n",
    "from shapely.geometry import Polygon\n",
    "\n",
    "# Define your Shapely polygon (example polygon in EPSG:32620)\n",
    "polygon = Polygon([(500000, 500000), (500000, 510000), (510000, 510000), (510000, 500000)])\n",
    "\n",
    "# Define the spatial resolution and bounds of your output raster\n",
    "transform = rasterio.transform.from_origin(west=500000, north=510000, xsize=10, ysize=10)\n",
    "width, height = 2048, 2048  # dimensions of the raster\n",
    "\n",
    "# Define the output raster's CRS\n",
    "crs = \"EPSG:32620\"\n",
    "\n",
    "# Rasterize the polygon\n",
    "binary_mask = rasterize(\n",
    "    [(polygon, 1)],\n",
    "    out_shape=(height, width),\n",
    "    transform=transform,\n",
    "    fill=0,  # background value\n",
    "    all_touched=True,\n",
    "    dtype='uint8'\n",
    ")\n",
    "\n",
    "# binary_mask now contains the binary mask of the rasterized polygon\n",
    "np.unique(binary_mask)\n",
    "\n",
    "plt.imshow(binary_mask)"
   ]
  }
 ],
 "metadata": {
  "kernelspec": {
   "display_name": "mineseg-clay",
   "language": "python",
   "name": "python3"
  },
  "language_info": {
   "codemirror_mode": {
    "name": "ipython",
    "version": 3
   },
   "file_extension": ".py",
   "mimetype": "text/x-python",
   "name": "python",
   "nbconvert_exporter": "python",
   "pygments_lexer": "ipython3",
   "version": "3.11.9"
  }
 },
 "nbformat": 4,
 "nbformat_minor": 2
}
