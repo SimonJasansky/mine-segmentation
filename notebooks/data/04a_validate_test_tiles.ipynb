{
 "cells": [
  {
   "cell_type": "markdown",
   "metadata": {},
   "source": [
    "# Setup"
   ]
  },
  {
   "cell_type": "code",
   "execution_count": null,
   "metadata": {},
   "outputs": [],
   "source": [
    "import geopandas as gpd\n",
    "import pandas as pd\n",
    "import leafmap as leafmap\n",
    "from shapely.ops import unary_union\n",
    "from shapely.geometry import Point, mapping, box, shape\n",
    "import shapely\n",
    "from typing import List\n",
    "import os\n",
    "from tqdm import tqdm\n",
    "tqdm.pandas()\n",
    "\n",
    "import sys\n",
    "sys.path.append(\"..\")\n",
    "\n",
    "os.getcwd()\n",
    "os.chdir(\"..\")\n",
    "root = os.path.dirname(os.getcwd())\n",
    "# root = root + \"/workspaces/mine-segmentation\" # uncomment when running in Lightning Studios\n",
    "root"
   ]
  },
  {
   "cell_type": "code",
   "execution_count": null,
   "metadata": {},
   "outputs": [],
   "source": [
    "from src.data.get_satellite_images import ReadSTAC"
   ]
  },
  {
   "cell_type": "code",
   "execution_count": null,
   "metadata": {},
   "outputs": [],
   "source": [
    "# INPUT DATASET\n",
    "processed_dataset = root + \"/data/processed/mining_tiles_with_masks_and_bounding_boxes.gpkg\"\n",
    "# OUTPUT DATASET\n",
    "test_dataset_annotations = root + \"/data/raw/mining_tiles_test_annotations.gpkg\""
   ]
  },
  {
   "cell_type": "code",
   "execution_count": null,
   "metadata": {},
   "outputs": [],
   "source": [
    "# load the filtered dataset\n",
    "tiles = gpd.read_file(processed_dataset, layer=\"tiles\")\n",
    "polygons = gpd.read_file(processed_dataset, layer=\"preferred_polygons\")\n",
    "\n",
    "# only the test data\n",
    "tiles = tiles[tiles[\"split\"] == \"test\"]\n",
    "polygons = polygons[polygons[\"tile_id\"].isin(tiles[\"tile_id\"])]"
   ]
  },
  {
   "cell_type": "code",
   "execution_count": null,
   "metadata": {},
   "outputs": [],
   "source": [
    "if not os.path.exists(test_dataset_annotations):\n",
    "    tiles.to_file(test_dataset_annotations, layer=\"tiles\", driver=\"GPKG\")\n",
    "    polygons.to_file(test_dataset_annotations, layer=\"polygons_original\", driver=\"GPKG\")\n",
    "\n",
    "    # create a new layer for the annotated polygons, which is the same as polygons, but the geometry is empty\n",
    "    polygons_annotated = polygons.copy()\n",
    "    polygons_annotated[\"geometry\"] = None\n",
    "    polygons_annotated.to_file(test_dataset_annotations, layer=\"polygons_annotated\", driver=\"GPKG\")\n",
    "    print(\"File created\")\n",
    "else:\n",
    "    \n",
    "    print(\"File already exists\")"
   ]
  },
  {
   "cell_type": "markdown",
   "metadata": {},
   "source": [
    "# Functions"
   ]
  },
  {
   "cell_type": "code",
   "execution_count": null,
   "metadata": {},
   "outputs": [],
   "source": [
    "# Function to remove holes from a polygon\n",
    "from shapely.geometry import MultiPolygon, Polygon\n",
    "def remove_holes(polygon):\n",
    "    if isinstance(polygon, Polygon):\n",
    "        return Polygon(polygon.exterior)\n",
    "    return polygon"
   ]
  },
  {
   "cell_type": "code",
   "execution_count": null,
   "metadata": {},
   "outputs": [],
   "source": [
    "def get_tile_index():\n",
    "    # load the dataset\n",
    "    polygons_annotated = gpd.read_file(test_dataset_annotations, layer=\"polygons_annotated\")\n",
    "\n",
    "    # get the first tile for which the geometry is None\n",
    "    tile = polygons_annotated[polygons_annotated[\"geometry\"].isna()].iloc[0]\n",
    "\n",
    "    # get index of the tile\n",
    "    index = polygons_annotated[polygons_annotated[\"geometry\"].isna()].index[0]\n",
    "\n",
    "    print(f\"Tile index: {index}, Tile ID: {tile['tile_id']}\")\n",
    "\n",
    "    return index"
   ]
  },
  {
   "cell_type": "code",
   "execution_count": null,
   "metadata": {},
   "outputs": [],
   "source": [
    "def plot_tile_on_map(index: int, tiles: gpd.GeoDataFrame, polygons: gpd.GeoDataFrame, add_satellite=True):\n",
    "    # plot that tile on a map\n",
    "    m = leafmap.Map(\n",
    "        center=[tiles.geometry.centroid.y.iloc[index], tiles.geometry.centroid.x.iloc[index]], \n",
    "        zoom=25,\n",
    "        height=\"900px\"\n",
    "    )\n",
    "\n",
    "    if add_satellite:\n",
    "        m.add_basemap(\"SATELLITE\")\n",
    "\n",
    "    # visualize the tile boundaries\n",
    "    style_tile = {\n",
    "        \"stroke\": True,\n",
    "        \"color\": \"orange\",\n",
    "        \"weight\": 2,\n",
    "        \"opacity\": 1,\n",
    "        \"fill\": False,\n",
    "    }\n",
    "\n",
    "    # add the tile to the map\n",
    "    m.add_gdf(tiles.iloc[index:index+1,:], layer_name=\"tiles\", style=style_tile)\n",
    "\n",
    "    # add the polygons to the map\n",
    "    multipolygon = polygons.iloc[index:index+1,:]\n",
    "    polygon_list = list(multipolygon.geometry.values[0].geoms)\n",
    "    m.edit_vector(gpd.GeoSeries(polygon_list).to_json())\n",
    "\n",
    "    # add the S2 image to the map\n",
    "    s2_name = tiles.iloc[index:index+1,:].s2_tile_id.values[0]\n",
    "    api_url=\"https://planetarycomputer.microsoft.com/api/stac/v1\"\n",
    "    stac_reader = ReadSTAC(api_url)\n",
    "    bounds = tiles.iloc[index:index+1,:].geometry.bounds.values[0]\n",
    "    item = stac_reader.get_item_by_name(s2_name, bbox=bounds)\n",
    "\n",
    "    m.add_cog_layer(item.assets[\"visual\"].href, name=\"Sentinel-2\")\n",
    "\n",
    "    return m, polygon_list"
   ]
  },
  {
   "cell_type": "code",
   "execution_count": null,
   "metadata": {},
   "outputs": [],
   "source": [
    "def save_features(m, polygon_list, rm_holes=False):\n",
    "\n",
    "    # convert to geopandas dataframe\n",
    "    draw_features = gpd.GeoDataFrame.from_features(m.draw_features)\n",
    "\n",
    "    # optionally remove any holes from the polygons\n",
    "    if rm_holes:\n",
    "        for i, feature in draw_features.iterrows():\n",
    "            geom = feature.geometry\n",
    "            if isinstance(geom, MultiPolygon):\n",
    "                new_polygons = [remove_holes(p) for p in geom]\n",
    "                draw_features.at[i, 'geometry'] = MultiPolygon(new_polygons)\n",
    "            elif isinstance(geom, Polygon):\n",
    "                draw_features.at[i, 'geometry'] = remove_holes(geom)\n",
    "\n",
    "    print(f\"Number of features before review: {len(polygon_list)}\")\n",
    "    print(f\"Number of features after review: {len(draw_features)}\")\n",
    "\n",
    "    # convert to multipolyon\n",
    "    output = draw_features[\"geometry\"].unary_union\n",
    "    return output"
   ]
  },
  {
   "cell_type": "code",
   "execution_count": null,
   "metadata": {},
   "outputs": [],
   "source": [
    "def rm_features(m):\n",
    "\n",
    "    # convert to geopandas dataframe\n",
    "    draw_features = gpd.GeoDataFrame.from_features(m.draw_features)\n",
    "\n",
    "    original_geom = draw_features.geometry[0]\n",
    "    if len(draw_features) > 2:\n",
    "        geom_to_remove = draw_features.geometry[1:].unary_union\n",
    "    else:\n",
    "        geom_to_remove = draw_features.geometry[1]\n",
    "\n",
    "    # only get the area from the first polygon, that does not intersect with the second polygon\n",
    "    output = original_geom.difference(geom_to_remove)\n",
    "    output = output\n",
    "    return output"
   ]
  },
  {
   "cell_type": "code",
   "execution_count": null,
   "metadata": {},
   "outputs": [],
   "source": [
    "def plot_edits_on_map(m, multipolygon, tiles, index):\n",
    "    # plot that tile on a map\n",
    "    m = leafmap.Map(\n",
    "        center=[tiles.geometry.centroid.y.iloc[index], tiles.geometry.centroid.x.iloc[index]], \n",
    "        zoom=20,\n",
    "        height=\"600px\"\n",
    "    )\n",
    "\n",
    "    # visualize the tile boundaries\n",
    "    style_tile = {\n",
    "        \"stroke\": True,\n",
    "        \"color\": \"orange\",\n",
    "        \"weight\": 2,\n",
    "        \"opacity\": 1,\n",
    "        \"fill\": False,\n",
    "    }\n",
    "\n",
    "    style_polygon = {\n",
    "        \"stroke\": True,\n",
    "        \"color\": \"red\",\n",
    "        \"weight\": 2,\n",
    "        \"opacity\": 1,\n",
    "        \"fill\": True,\n",
    "        \"fillColor\": \"red\",\n",
    "        \"fillOpacity\": 0.1,\n",
    "    }\n",
    "\n",
    "    # add the tile to the map\n",
    "    m.add_gdf(tiles.iloc[index:index+1,:], layer_name=\"tiles\", style=style_tile)\n",
    "\n",
    "    # add the polygons to the map\n",
    "    # m.add_gdf(\n",
    "    #     gdf = gpd.GeoDataFrame([{'geometry': multipolygon}], crs=\"EPSG:4326\"),\n",
    "    #     layer_name=\"draw_features\", \n",
    "    #     style=style_polygon\n",
    "    #     )\n",
    "    \n",
    "\n",
    "    m.edit_vector(gpd.GeoSeries(multipolygon).to_json(), layer_name=\"draw_features\", style=style_polygon)\n",
    "\n",
    "    # add the S2 image to the map\n",
    "    s2_name = tiles.iloc[index:index+1,:].s2_tile_id.values[0]\n",
    "    api_url=\"https://planetarycomputer.microsoft.com/api/stac/v1\"\n",
    "    stac_reader = ReadSTAC(api_url)\n",
    "    bounds = tiles.iloc[index:index+1,:].geometry.bounds.values[0]\n",
    "    item = stac_reader.get_item_by_name(s2_name, bbox=bounds)\n",
    "\n",
    "    m.add_cog_layer(item.assets[\"visual\"].href, name=\"Sentinel-2\")\n",
    "\n",
    "    return m"
   ]
  },
  {
   "cell_type": "markdown",
   "metadata": {},
   "source": [
    "# Validate the test tiles\n",
    "The aim is to visualize each tile and its mask in the notebook. \n",
    "Then, a new polygon is drawn according to my judgement, where the mine actually is. \n",
    "This new corrected polygon must then be saved. \n",
    "The framework used for this is leafmap. "
   ]
  },
  {
   "cell_type": "markdown",
   "metadata": {},
   "source": [
    "# USER INTERFACE"
   ]
  },
  {
   "cell_type": "markdown",
   "metadata": {},
   "source": [
    "### REFRESH TILE"
   ]
  },
  {
   "cell_type": "code",
   "execution_count": null,
   "metadata": {},
   "outputs": [],
   "source": [
    "index = get_tile_index()"
   ]
  },
  {
   "cell_type": "markdown",
   "metadata": {},
   "source": [
    "### REVIEW\n",
    "add features"
   ]
  },
  {
   "cell_type": "code",
   "execution_count": null,
   "metadata": {},
   "outputs": [],
   "source": [
    "m, polygon_list = plot_tile_on_map(index, tiles, polygons, add_satellite=True)\n",
    "m"
   ]
  },
  {
   "cell_type": "code",
   "execution_count": null,
   "metadata": {},
   "outputs": [],
   "source": [
    "rm_holes = False\n",
    "output = save_features(m, polygon_list, rm_holes=rm_holes)\n",
    "output"
   ]
  },
  {
   "cell_type": "markdown",
   "metadata": {},
   "source": [
    "### REVIEW\n",
    "remove features"
   ]
  },
  {
   "cell_type": "code",
   "execution_count": null,
   "metadata": {},
   "outputs": [],
   "source": [
    "m = plot_edits_on_map(m, output, tiles, index)\n",
    "m"
   ]
  },
  {
   "cell_type": "code",
   "execution_count": null,
   "metadata": {},
   "outputs": [],
   "source": [
    "output = rm_features(m)\n",
    "output"
   ]
  },
  {
   "cell_type": "code",
   "execution_count": null,
   "metadata": {},
   "outputs": [],
   "source": [
    "m = plot_edits_on_map(m, output, tiles, index)\n",
    "m"
   ]
  },
  {
   "cell_type": "markdown",
   "metadata": {},
   "source": [
    "# SAVE FEATURES"
   ]
  },
  {
   "cell_type": "code",
   "execution_count": null,
   "metadata": {},
   "outputs": [],
   "source": [
    "polygons_annotated = gpd.read_file(test_dataset_annotations, layer=\"polygons_annotated\")\n",
    "polygons_annotated.loc[index, \"geometry\"] = output\n",
    "polygons_annotated.to_file(test_dataset_annotations, layer=\"polygons_annotated\", driver=\"GPKG\")\n",
    "polygons_annotated"
   ]
  },
  {
   "cell_type": "markdown",
   "metadata": {},
   "source": [
    "# CAUTION: Remove the just annotated feature"
   ]
  },
  {
   "cell_type": "code",
   "execution_count": null,
   "metadata": {},
   "outputs": [],
   "source": [
    "# polygons_annotated = gpd.read_file(test_dataset_annotations, layer=\"polygons_annotated\")\n",
    "# polygons_annotated.loc[index, \"geometry\"] = None\n",
    "# polygons_annotated.to_file(test_dataset_annotations, layer=\"polygons_annotated\", driver=\"GPKG\")\n",
    "# polygons_annotated"
   ]
  }
 ],
 "metadata": {
  "kernelspec": {
   "display_name": "mineseg-clay",
   "language": "python",
   "name": "python3"
  },
  "language_info": {
   "codemirror_mode": {
    "name": "ipython",
    "version": 3
   },
   "file_extension": ".py",
   "mimetype": "text/x-python",
   "name": "python",
   "nbconvert_exporter": "python",
   "pygments_lexer": "ipython3",
   "version": "3.11.9"
  }
 },
 "nbformat": 4,
 "nbformat_minor": 2
}
