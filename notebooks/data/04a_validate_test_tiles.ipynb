{
 "cells": [
  {
   "cell_type": "code",
   "execution_count": 1,
   "metadata": {},
   "outputs": [
    {
     "data": {
      "text/plain": [
       "'/Users/simonjasansky/programming/mine-segmentation'"
      ]
     },
     "execution_count": 1,
     "metadata": {},
     "output_type": "execute_result"
    }
   ],
   "source": [
    "import geopandas as gpd\n",
    "import leafmap\n",
    "from shapely.ops import unary_union\n",
    "from shapely.geometry import Point, mapping, box, shape\n",
    "import shapely\n",
    "import json\n",
    "import os\n",
    "import numpy as np\n",
    "import matplotlib.pyplot as plt\n",
    "\n",
    "\n",
    "from typing import List\n",
    "import geopandas as gpd\n",
    "import pandas as pd\n",
    "import os\n",
    "import rasterio\n",
    "import numpy as np\n",
    "import argparse\n",
    "from tqdm import tqdm\n",
    "tqdm.pandas()\n",
    "\n",
    "import sys\n",
    "sys.path.append(\"..\")\n",
    "\n",
    "os.getcwd()\n",
    "os.chdir(\"..\")\n",
    "root = os.path.dirname(os.getcwd())\n",
    "# root = root + \"/workspaces/mine-segmentation\" # uncomment when running in Lightning Studios\n",
    "root"
   ]
  },
  {
   "cell_type": "code",
   "execution_count": 69,
   "metadata": {},
   "outputs": [],
   "source": [
    "from src.data.get_satellite_images import ReadSTAC"
   ]
  },
  {
   "cell_type": "code",
   "execution_count": 70,
   "metadata": {},
   "outputs": [],
   "source": [
    "# INPUT DATASET\n",
    "filtered_dataset = root + \"/data/processed/mining_tiles_with_masks_and_bounding_boxes_filtered.gpkg\"\n",
    "# OUTPUT DATASET\n",
    "test_dataset_annotations = root + \"/data/raw/mining_tiles_test_annotations.gpkg\""
   ]
  },
  {
   "cell_type": "code",
   "execution_count": 71,
   "metadata": {},
   "outputs": [],
   "source": [
    "# load the filtered dataset\n",
    "tiles = gpd.read_file(filtered_dataset, layer=\"tiles\")\n",
    "polygons = gpd.read_file(filtered_dataset, layer=\"polygons\")\n",
    "\n",
    "# only the test data\n",
    "tiles = tiles[tiles[\"split\"] == \"test\"]\n",
    "polygons = polygons[polygons[\"tile_id\"].isin(tiles[\"tile_id\"])]"
   ]
  },
  {
   "cell_type": "code",
   "execution_count": 73,
   "metadata": {},
   "outputs": [
    {
     "name": "stdout",
     "output_type": "stream",
     "text": [
      "File created\n"
     ]
    }
   ],
   "source": [
    "if not os.path.exists(test_dataset_annotations):\n",
    "    tiles.to_file(test_dataset_annotations, layer=\"tiles\", driver=\"GPKG\")\n",
    "    polygons.to_file(test_dataset_annotations, layer=\"polygons_original\", driver=\"GPKG\")\n",
    "\n",
    "    # create a new layer for the annotated polygons, which is the same as polygons, but the geometry is empty\n",
    "    polygons_annotated = polygons.copy()\n",
    "    polygons_annotated[\"geometry\"] = None\n",
    "    polygons_annotated.to_file(test_dataset_annotations, layer=\"polygons_annotated\", driver=\"GPKG\")\n",
    "    print(\"File created\")\n",
    "else:\n",
    "    print(\"File already exists\")"
   ]
  },
  {
   "cell_type": "markdown",
   "metadata": {},
   "source": [
    "# Validate the test tiles\n",
    "The aim is to visualize each tile and its mask in the notebook. \n",
    "Then, a new polygon is drawn according to my judgement, where the mine actually is. \n",
    "This new corrected polygon must then be saved. \n",
    "The framework used for this is leafmap. "
   ]
  },
  {
   "cell_type": "markdown",
   "metadata": {},
   "source": [
    "# USER INTERFACE"
   ]
  },
  {
   "cell_type": "markdown",
   "metadata": {},
   "source": [
    "### REFRESH TILE"
   ]
  },
  {
   "cell_type": "code",
   "execution_count": 92,
   "metadata": {},
   "outputs": [
    {
     "name": "stdout",
     "output_type": "stream",
     "text": [
      "Tile index: 2, Tile ID: 62\n"
     ]
    }
   ],
   "source": [
    "# load the dataset\n",
    "tiles = gpd.read_file(test_dataset_annotations, layer=\"tiles\")\n",
    "polygons = gpd.read_file(test_dataset_annotations, layer=\"polygons_original\")\n",
    "polygons_annotated = gpd.read_file(test_dataset_annotations, layer=\"polygons_annotated\")\n",
    "\n",
    "# get the first tile for which the geometry is None\n",
    "tile = polygons_annotated[polygons_annotated[\"geometry\"].isna()].iloc[0]\n",
    "\n",
    "# get index of the tile\n",
    "index = polygons_annotated[polygons_annotated[\"geometry\"].isna()].index[0]\n",
    "\n",
    "print(f\"Tile index: {index}, Tile ID: {tile['tile_id']}\")"
   ]
  },
  {
   "cell_type": "markdown",
   "metadata": {},
   "source": [
    "### REVIEW"
   ]
  },
  {
   "cell_type": "code",
   "execution_count": 200,
   "metadata": {},
   "outputs": [
    {
     "data": {
      "application/vnd.jupyter.widget-view+json": {
       "model_id": "7e765a547b164bcf8fb53b5e7b2fce1a",
       "version_major": 2,
       "version_minor": 0
      },
      "text/plain": [
       "Map(center=[41.24997309979503, -117.24999993820116], controls=(ZoomControl(options=['position', 'zoom_in_text'…"
      ]
     },
     "execution_count": 200,
     "metadata": {},
     "output_type": "execute_result"
    }
   ],
   "source": [
    "# plot that tile on a map\n",
    "m = leafmap.Map(\n",
    "    center=[tiles.geometry.centroid.y.iloc[index], tiles.geometry.centroid.x.iloc[index]], \n",
    "    zoom=20,\n",
    "    height=\"1000px\"\n",
    ")\n",
    "\n",
    "# visualize the tile boundaries\n",
    "style_tile = {\n",
    "    \"stroke\": True,\n",
    "    \"color\": \"orange\",\n",
    "    \"weight\": 2,\n",
    "    \"opacity\": 1,\n",
    "    \"fill\": False,\n",
    "}\n",
    "\n",
    "style_polygon = {\n",
    "    \"stroke\": True,\n",
    "    \"color\": \"red\",\n",
    "    \"weight\": 2,\n",
    "    \"opacity\": 1,\n",
    "    \"fill\": True,\n",
    "    \"fillColor\": \"red\",\n",
    "    \"fillOpacity\": 0.1,\n",
    "}\n",
    "\n",
    "m.add_gdf(tiles.iloc[index:index+1,:], layer_name=\"tiles\", style=style_tile)\n",
    "\n",
    "multipolygon = polygons.iloc[index:index+1,:]\n",
    "\n",
    "polygon_list = list(multipolygon.geometry.values[0].geoms)\n",
    "\n",
    "for polygon in polygon_list:\n",
    "    m.edit_vector(\n",
    "        shapely.to_geojson(polygon), \n",
    "        layer_name=\"polygons_original\", \n",
    "        style=style_polygon, \n",
    "        id=\"polygons_original\"\n",
    "    )\n",
    "\n",
    "# get the url of the S2 image\n",
    "s2_name = tiles.iloc[index:index+1,:].s2_tile_id.values[0]\n",
    "api_url=\"https://planetarycomputer.microsoft.com/api/stac/v1\"\n",
    "stac_reader = ReadSTAC(api_url)\n",
    "bounds = tiles.iloc[index:index+1,:].geometry.bounds.values[0]\n",
    "item = stac_reader.get_item_by_name(s2_name, bbox=bounds)\n",
    "\n",
    "m.add_cog_layer(item.assets[\"visual\"].href, name=\"Sentinel-2\")\n",
    "\n",
    "m"
   ]
  },
  {
   "cell_type": "code",
   "execution_count": 201,
   "metadata": {},
   "outputs": [
    {
     "data": {
      "text/plain": [
       "17"
      ]
     },
     "execution_count": 201,
     "metadata": {},
     "output_type": "execute_result"
    }
   ],
   "source": [
    "len(polygon_list)"
   ]
  },
  {
   "cell_type": "code",
   "execution_count": 202,
   "metadata": {},
   "outputs": [
    {
     "data": {
      "text/html": [
       "<div>\n",
       "<style scoped>\n",
       "    .dataframe tbody tr th:only-of-type {\n",
       "        vertical-align: middle;\n",
       "    }\n",
       "\n",
       "    .dataframe tbody tr th {\n",
       "        vertical-align: top;\n",
       "    }\n",
       "\n",
       "    .dataframe thead th {\n",
       "        text-align: right;\n",
       "    }\n",
       "</style>\n",
       "<table border=\"1\" class=\"dataframe\">\n",
       "  <thead>\n",
       "    <tr style=\"text-align: right;\">\n",
       "      <th></th>\n",
       "      <th>geometry</th>\n",
       "    </tr>\n",
       "  </thead>\n",
       "  <tbody>\n",
       "    <tr>\n",
       "      <th>0</th>\n",
       "      <td>POLYGON ((-117.24947 41.19051, -117.24947 41.1...</td>\n",
       "    </tr>\n",
       "    <tr>\n",
       "      <th>1</th>\n",
       "      <td>POLYGON ((-117.25012 41.19688, -117.25009 41.1...</td>\n",
       "    </tr>\n",
       "    <tr>\n",
       "      <th>2</th>\n",
       "      <td>POLYGON ((-117.25716 41.21024, -117.25726 41.2...</td>\n",
       "    </tr>\n",
       "    <tr>\n",
       "      <th>3</th>\n",
       "      <td>POLYGON ((-117.22789 41.22789, -117.22789 41.2...</td>\n",
       "    </tr>\n",
       "    <tr>\n",
       "      <th>4</th>\n",
       "      <td>POLYGON ((-117.18273 41.16584, -117.18283 41.1...</td>\n",
       "    </tr>\n",
       "    <tr>\n",
       "      <th>5</th>\n",
       "      <td>POLYGON ((-117.21202 41.18848, -117.21211 41.1...</td>\n",
       "    </tr>\n",
       "    <tr>\n",
       "      <th>6</th>\n",
       "      <td>POLYGON ((-117.22727 41.23159, -117.22794 41.2...</td>\n",
       "    </tr>\n",
       "    <tr>\n",
       "      <th>7</th>\n",
       "      <td>POLYGON ((-117.17997 41.24212, -117.17997 41.2...</td>\n",
       "    </tr>\n",
       "    <tr>\n",
       "      <th>8</th>\n",
       "      <td>POLYGON ((-117.17997 41.24212, -117.17997 41.2...</td>\n",
       "    </tr>\n",
       "    <tr>\n",
       "      <th>9</th>\n",
       "      <td>POLYGON ((-117.23237 41.27395, -117.23185 41.2...</td>\n",
       "    </tr>\n",
       "  </tbody>\n",
       "</table>\n",
       "</div>"
      ],
      "text/plain": [
       "                                            geometry\n",
       "0  POLYGON ((-117.24947 41.19051, -117.24947 41.1...\n",
       "1  POLYGON ((-117.25012 41.19688, -117.25009 41.1...\n",
       "2  POLYGON ((-117.25716 41.21024, -117.25726 41.2...\n",
       "3  POLYGON ((-117.22789 41.22789, -117.22789 41.2...\n",
       "4  POLYGON ((-117.18273 41.16584, -117.18283 41.1...\n",
       "5  POLYGON ((-117.21202 41.18848, -117.21211 41.1...\n",
       "6  POLYGON ((-117.22727 41.23159, -117.22794 41.2...\n",
       "7  POLYGON ((-117.17997 41.24212, -117.17997 41.2...\n",
       "8  POLYGON ((-117.17997 41.24212, -117.17997 41.2...\n",
       "9  POLYGON ((-117.23237 41.27395, -117.23185 41.2..."
      ]
     },
     "execution_count": 202,
     "metadata": {},
     "output_type": "execute_result"
    }
   ],
   "source": [
    "m.save_draw_features(\"/Users/simonjasansky/programming/mine-segmentation/notebooks/data/draw_features.gpkg\")\n",
    "# load the just saved features\n",
    "draw_features = gpd.read_file(\"/Users/simonjasansky/programming/mine-segmentation/notebooks/data/draw_features.gpkg\")\n",
    "draw_features"
   ]
  },
  {
   "cell_type": "markdown",
   "metadata": {},
   "source": [
    "# SAVE FEATURES"
   ]
  },
  {
   "cell_type": "code",
   "execution_count": 188,
   "metadata": {},
   "outputs": [
    {
     "data": {
      "image/svg+xml": [
       "<svg xmlns=\"http://www.w3.org/2000/svg\" xmlns:xlink=\"http://www.w3.org/1999/xlink\" width=\"100.0\" height=\"100.0\" viewBox=\"-117.24097228 41.23425472 0.06334955999999181 0.029124559999992528\" preserveAspectRatio=\"xMinYMin meet\"><g transform=\"matrix(1,0,0,-1,0,82.497634)\"><path fill-rule=\"evenodd\" fill=\"#66cc99\" stroke=\"#555555\" stroke-width=\"0.0012669911999998362\" opacity=\"0.6\" d=\"M -117.179969,41.242123 L -117.17997,41.241877 L -117.180101,41.24163 L -117.180167,41.241433 L -117.180298,41.241236 L -117.18043,41.241039 L -117.180495,41.240842 L -117.180692,41.240644 L -117.180889,41.240497 L -117.181217,41.240448 L -117.181545,41.240448 L -117.181808,41.240448 L -117.18207,41.240399 L -117.182009,41.236601 L -117.201748,41.23686 L -117.201807,41.244454 L -117.201872,41.244701 L -117.201872,41.244898 L -117.201806,41.245095 L -117.201609,41.245292 L -117.201412,41.245539 L -117.201018,41.245785 L -117.200822,41.245933 L -117.200625,41.246081 L -117.200428,41.246229 L -117.200231,41.246377 L -117.199968,41.246574 L -117.199771,41.246722 L -117.199706,41.246919 L -117.199509,41.247116 L -117.199312,41.247313 L -117.199115,41.247412 L -117.198852,41.247559 L -117.198459,41.247707 L -117.198065,41.247756 L -117.197671,41.247904 L -117.197343,41.247953 L -117.197015,41.248101 L -117.238626,41.255743 L -117.196818,41.248199 L -117.196753,41.248249 L -117.196753,41.248446 L -117.196949,41.248693 L -117.197146,41.248989 L -117.197408,41.249285 L -117.197736,41.249482 L -117.197932,41.24963 L -117.198129,41.249828 L -117.198391,41.249976 L -117.198456,41.250173 L -117.198653,41.25042 L -117.19885,41.250617 L -117.198915,41.250864 L -117.198915,41.25116 L -117.198914,41.251357 L -117.198783,41.251505 L -117.198389,41.251652 L -117.218285,41.254517 L -117.198127,41.251702 L -117.196553,41.251898 L -117.196421,41.251898 L -117.196159,41.251996 L -117.192486,41.252093 L -117.192026,41.252043 L -117.191764,41.251945 L -117.191633,41.251895 L -117.209101,41.261033 L -117.18514,41.251102 L -117.185009,41.251053 L -117.183894,41.250707 L -117.183113,41.246071 L -117.182982,41.245824 L -117.182982,41.245676 L -117.182985,41.243112 L -117.182985,41.243013 L -117.180755,41.24311 L -117.18069,41.243012 L -117.180428,41.242765 L -117.180297,41.242518 L -117.179969,41.242321 L -117.179969,41.242123 z\" /></g></svg>"
      ],
      "text/plain": [
       "<POLYGON ((-117.18 41.242, -117.18 41.242, -117.18 41.242, -117.18 41.241, -...>"
      ]
     },
     "execution_count": 188,
     "metadata": {},
     "output_type": "execute_result"
    }
   ],
   "source": [
    "m.save_draw_features(\"/Users/simonjasansky/programming/mine-segmentation/notebooks/data/draw_features.gpkg\")\n",
    "# load the just saved features\n",
    "draw_features = gpd.read_file(\"/Users/simonjasansky/programming/mine-segmentation/notebooks/data/draw_features.gpkg\")\n",
    "\n",
    "# convert to multipolyon\n",
    "output = draw_features[\"geometry\"].unary_union\n",
    "output"
   ]
  },
  {
   "cell_type": "code",
   "execution_count": null,
   "metadata": {},
   "outputs": [],
   "source": []
  },
  {
   "cell_type": "code",
   "execution_count": 164,
   "metadata": {},
   "outputs": [
    {
     "data": {
      "text/html": [
       "<div>\n",
       "<style scoped>\n",
       "    .dataframe tbody tr th:only-of-type {\n",
       "        vertical-align: middle;\n",
       "    }\n",
       "\n",
       "    .dataframe tbody tr th {\n",
       "        vertical-align: top;\n",
       "    }\n",
       "\n",
       "    .dataframe thead th {\n",
       "        text-align: right;\n",
       "    }\n",
       "</style>\n",
       "<table border=\"1\" class=\"dataframe\">\n",
       "  <thead>\n",
       "    <tr style=\"text-align: right;\">\n",
       "      <th></th>\n",
       "      <th>tile_id</th>\n",
       "      <th>geometry</th>\n",
       "    </tr>\n",
       "  </thead>\n",
       "  <tbody>\n",
       "    <tr>\n",
       "      <th>0</th>\n",
       "      <td>29</td>\n",
       "      <td>MULTIPOLYGON (((-129.79274 57.7229, -129.78853...</td>\n",
       "    </tr>\n",
       "    <tr>\n",
       "      <th>1</th>\n",
       "      <td>34</td>\n",
       "      <td>MULTIPOLYGON (((-122.25552 55.61852, -122.2405...</td>\n",
       "    </tr>\n",
       "    <tr>\n",
       "      <th>2</th>\n",
       "      <td>62</td>\n",
       "      <td>MULTIPOLYGON (((-117.24335 41.18398, -117.2423...</td>\n",
       "    </tr>\n",
       "    <tr>\n",
       "      <th>3</th>\n",
       "      <td>64</td>\n",
       "      <td>None</td>\n",
       "    </tr>\n",
       "    <tr>\n",
       "      <th>4</th>\n",
       "      <td>81</td>\n",
       "      <td>None</td>\n",
       "    </tr>\n",
       "    <tr>\n",
       "      <th>...</th>\n",
       "      <td>...</td>\n",
       "      <td>...</td>\n",
       "    </tr>\n",
       "    <tr>\n",
       "      <th>115</th>\n",
       "      <td>2851</td>\n",
       "      <td>None</td>\n",
       "    </tr>\n",
       "    <tr>\n",
       "      <th>116</th>\n",
       "      <td>2911</td>\n",
       "      <td>None</td>\n",
       "    </tr>\n",
       "    <tr>\n",
       "      <th>117</th>\n",
       "      <td>2952</td>\n",
       "      <td>None</td>\n",
       "    </tr>\n",
       "    <tr>\n",
       "      <th>118</th>\n",
       "      <td>2956</td>\n",
       "      <td>None</td>\n",
       "    </tr>\n",
       "    <tr>\n",
       "      <th>119</th>\n",
       "      <td>2992</td>\n",
       "      <td>None</td>\n",
       "    </tr>\n",
       "  </tbody>\n",
       "</table>\n",
       "<p>120 rows × 2 columns</p>\n",
       "</div>"
      ],
      "text/plain": [
       "     tile_id                                           geometry\n",
       "0         29  MULTIPOLYGON (((-129.79274 57.7229, -129.78853...\n",
       "1         34  MULTIPOLYGON (((-122.25552 55.61852, -122.2405...\n",
       "2         62  MULTIPOLYGON (((-117.24335 41.18398, -117.2423...\n",
       "3         64                                               None\n",
       "4         81                                               None\n",
       "..       ...                                                ...\n",
       "115     2851                                               None\n",
       "116     2911                                               None\n",
       "117     2952                                               None\n",
       "118     2956                                               None\n",
       "119     2992                                               None\n",
       "\n",
       "[120 rows x 2 columns]"
      ]
     },
     "execution_count": 164,
     "metadata": {},
     "output_type": "execute_result"
    }
   ],
   "source": [
    "polygons_annotated = gpd.read_file(test_dataset_annotations, layer=\"polygons_annotated\")\n",
    "polygons_annotated.loc[index, \"geometry\"] = output\n",
    "polygons_annotated.to_file(test_dataset_annotations, layer=\"polygons_annotated\", driver=\"GPKG\")\n",
    "polygons_annotated"
   ]
  },
  {
   "cell_type": "markdown",
   "metadata": {},
   "source": [
    "# CAUTION: Remove the just annotated feature"
   ]
  },
  {
   "cell_type": "code",
   "execution_count": 85,
   "metadata": {},
   "outputs": [
    {
     "data": {
      "text/html": [
       "<div>\n",
       "<style scoped>\n",
       "    .dataframe tbody tr th:only-of-type {\n",
       "        vertical-align: middle;\n",
       "    }\n",
       "\n",
       "    .dataframe tbody tr th {\n",
       "        vertical-align: top;\n",
       "    }\n",
       "\n",
       "    .dataframe thead th {\n",
       "        text-align: right;\n",
       "    }\n",
       "</style>\n",
       "<table border=\"1\" class=\"dataframe\">\n",
       "  <thead>\n",
       "    <tr style=\"text-align: right;\">\n",
       "      <th></th>\n",
       "      <th>tile_id</th>\n",
       "      <th>geometry</th>\n",
       "    </tr>\n",
       "  </thead>\n",
       "  <tbody>\n",
       "    <tr>\n",
       "      <th>0</th>\n",
       "      <td>29</td>\n",
       "      <td>None</td>\n",
       "    </tr>\n",
       "    <tr>\n",
       "      <th>1</th>\n",
       "      <td>34</td>\n",
       "      <td>None</td>\n",
       "    </tr>\n",
       "    <tr>\n",
       "      <th>2</th>\n",
       "      <td>62</td>\n",
       "      <td>None</td>\n",
       "    </tr>\n",
       "    <tr>\n",
       "      <th>3</th>\n",
       "      <td>64</td>\n",
       "      <td>None</td>\n",
       "    </tr>\n",
       "    <tr>\n",
       "      <th>4</th>\n",
       "      <td>81</td>\n",
       "      <td>None</td>\n",
       "    </tr>\n",
       "    <tr>\n",
       "      <th>...</th>\n",
       "      <td>...</td>\n",
       "      <td>...</td>\n",
       "    </tr>\n",
       "    <tr>\n",
       "      <th>115</th>\n",
       "      <td>2851</td>\n",
       "      <td>None</td>\n",
       "    </tr>\n",
       "    <tr>\n",
       "      <th>116</th>\n",
       "      <td>2911</td>\n",
       "      <td>None</td>\n",
       "    </tr>\n",
       "    <tr>\n",
       "      <th>117</th>\n",
       "      <td>2952</td>\n",
       "      <td>None</td>\n",
       "    </tr>\n",
       "    <tr>\n",
       "      <th>118</th>\n",
       "      <td>2956</td>\n",
       "      <td>None</td>\n",
       "    </tr>\n",
       "    <tr>\n",
       "      <th>119</th>\n",
       "      <td>2992</td>\n",
       "      <td>None</td>\n",
       "    </tr>\n",
       "  </tbody>\n",
       "</table>\n",
       "<p>120 rows × 2 columns</p>\n",
       "</div>"
      ],
      "text/plain": [
       "     tile_id geometry\n",
       "0         29     None\n",
       "1         34     None\n",
       "2         62     None\n",
       "3         64     None\n",
       "4         81     None\n",
       "..       ...      ...\n",
       "115     2851     None\n",
       "116     2911     None\n",
       "117     2952     None\n",
       "118     2956     None\n",
       "119     2992     None\n",
       "\n",
       "[120 rows x 2 columns]"
      ]
     },
     "execution_count": 85,
     "metadata": {},
     "output_type": "execute_result"
    }
   ],
   "source": [
    "# polygons_annotated = gpd.read_file(test_dataset_annotations, layer=\"polygons_annotated\")\n",
    "# polygons_annotated.loc[index, \"geometry\"] = None\n",
    "# polygons_annotated.to_file(test_dataset_annotations, layer=\"polygons_annotated\", driver=\"GPKG\")\n",
    "# polygons_annotated"
   ]
  }
 ],
 "metadata": {
  "kernelspec": {
   "display_name": "mineseg-clay",
   "language": "python",
   "name": "python3"
  },
  "language_info": {
   "codemirror_mode": {
    "name": "ipython",
    "version": 3
   },
   "file_extension": ".py",
   "mimetype": "text/x-python",
   "name": "python",
   "nbconvert_exporter": "python",
   "pygments_lexer": "ipython3",
   "version": "3.11.9"
  }
 },
 "nbformat": 4,
 "nbformat_minor": 2
}
