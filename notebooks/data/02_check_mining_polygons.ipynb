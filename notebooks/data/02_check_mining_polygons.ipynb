{
 "cells": [
  {
   "cell_type": "markdown",
   "metadata": {},
   "source": [
    "# Check mining polygons"
   ]
  },
  {
   "cell_type": "code",
   "execution_count": null,
   "metadata": {},
   "outputs": [],
   "source": [
    "import geopandas as gpd\n",
    "import shapely\n",
    "import leafmap.foliumap as leafmap\n",
    "import rasterio\n",
    "from shapely.geometry import box\n",
    "import pandas as pd\n",
    "\n",
    "# # optional change working directiory first\n",
    "import os\n",
    "print(os.getcwd())\n",
    "os.chdir(\"..\")\n",
    "print(os.getcwd())\n",
    "\n",
    "import sys\n",
    "sys.path.append('..')\n",
    "\n",
    "from src.data.get_satellite_images import ReadSTAC"
   ]
  },
  {
   "cell_type": "code",
   "execution_count": null,
   "metadata": {},
   "outputs": [],
   "source": [
    "# download mining polygons\n",
    "import os\n",
    "parend_dir = os.path.dirname(os.getcwd())\n",
    "script_path = os.path.join(parend_dir, 'src', 'data', 'get_mining_polygons.py')\n",
    "os.system(f'python {script_path}')"
   ]
  },
  {
   "cell_type": "code",
   "execution_count": null,
   "metadata": {},
   "outputs": [],
   "source": [
    "MAUS_POLYGONS = \"data/external/maus_mining_polygons.gpkg\"\n",
    "MAUS_AREA_RASTER = \"data/external/maus_mining_raster.tif\"\n",
    "TANG_POLYGONS = \"data/external/tang_mining_polygons/74548_mine_polygons/74548_projected.shp\"\n",
    "\n",
    "# filter both dataframes to only the area of interest\n",
    "LOCATION = [-50.16556135114535, -6.060451692157381]\n",
    "BBOX = [LOCATION[0] - 0.5, LOCATION[1] - 0.5, LOCATION[0] + 0.5, LOCATION[1] + 0.5]\n"
   ]
  },
  {
   "cell_type": "code",
   "execution_count": null,
   "metadata": {},
   "outputs": [],
   "source": [
    "# Load a GeoPackage file into a GeoDataFrame\n",
    "maus_gdf = gpd.read_file(MAUS_POLYGONS)\n",
    "\n",
    "# Load a Shapefile into a GeoDataFrame\n",
    "tang_gdf = gpd.read_file(TANG_POLYGONS)"
   ]
  },
  {
   "cell_type": "code",
   "execution_count": null,
   "metadata": {},
   "outputs": [],
   "source": [
    "maus_gdf.head()"
   ]
  },
  {
   "cell_type": "code",
   "execution_count": null,
   "metadata": {},
   "outputs": [],
   "source": [
    "tang_gdf.head()"
   ]
  },
  {
   "cell_type": "code",
   "execution_count": null,
   "metadata": {},
   "outputs": [],
   "source": [
    "print(maus_gdf.shape)\n",
    "print(tang_gdf.shape)"
   ]
  },
  {
   "cell_type": "code",
   "execution_count": null,
   "metadata": {},
   "outputs": [],
   "source": [
    "# check how many empty geometries are in the tang_gdf\n",
    "empty_geometries = tang_gdf[tang_gdf.geometry == None]\n",
    "len(empty_geometries)"
   ]
  },
  {
   "cell_type": "code",
   "execution_count": null,
   "metadata": {},
   "outputs": [],
   "source": [
    "# convert projected coordinates in tang to lat long\n",
    "tang_gdf = tang_gdf.to_crs(epsg=4326)"
   ]
  },
  {
   "cell_type": "code",
   "execution_count": null,
   "metadata": {},
   "outputs": [],
   "source": [
    "# Flatten polygon dimensions from 3D to 2D\n",
    "tang_gdf.geometry = shapely.wkb.loads(shapely.wkb.dumps(tang_gdf.geometry, output_dimension=2))"
   ]
  },
  {
   "cell_type": "code",
   "execution_count": null,
   "metadata": {},
   "outputs": [],
   "source": [
    "maus_gdf_filtered = maus_gdf.cx[BBOX[0]:BBOX[2], BBOX[1]:BBOX[3]]\n",
    "tang_gdf_filtered = tang_gdf.cx[BBOX[0]:BBOX[2], BBOX[1]:BBOX[3]]"
   ]
  },
  {
   "cell_type": "code",
   "execution_count": null,
   "metadata": {},
   "outputs": [],
   "source": [
    "maus_gdf_filtered.iloc[0,:].geometry.bounds"
   ]
  },
  {
   "cell_type": "code",
   "execution_count": null,
   "metadata": {},
   "outputs": [],
   "source": [
    "maus_gdf_filtered.head()"
   ]
  },
  {
   "cell_type": "code",
   "execution_count": null,
   "metadata": {},
   "outputs": [],
   "source": [
    "tang_gdf_filtered.head()"
   ]
  },
  {
   "cell_type": "code",
   "execution_count": null,
   "metadata": {},
   "outputs": [],
   "source": [
    "# Create a Leaflet map\n",
    "m = leafmap.Map(center = [LOCATION[1], LOCATION[0]], zoom=10)\n",
    "m.add_basemap(\"satellite\")\n",
    "\n",
    "\n",
    "style = {\n",
    "    \"stroke\": True,\n",
    "    \"color\": \"red\",\n",
    "    \"weight\": 2,\n",
    "    \"opacity\": 1,\n",
    "    \"fill\": True,\n",
    "    \"fillColor\": \"red\",\n",
    "    \"fillOpacity\": 0.1,\n",
    "}\n",
    "\n",
    "# Add the GeoDataFrame to the map\n",
    "m.add_gdf(maus_gdf_filtered, layer_name=\"maus_gdf\")\n",
    "m.add_gdf(tang_gdf_filtered, layer_name=\"tang_gdf\", style=style)\n",
    "\n",
    "# Display the map\n",
    "m"
   ]
  },
  {
   "cell_type": "markdown",
   "metadata": {},
   "source": [
    "# Overlay a Sentinel Image with the mining polygons"
   ]
  },
  {
   "cell_type": "code",
   "execution_count": null,
   "metadata": {},
   "outputs": [],
   "source": [
    "# Download the image \n",
    "# Option 1 (Default): Read from Planetary Computer STAC API\n",
    "api_url=\"https://planetarycomputer.microsoft.com/api/stac/v1\"\n",
    "bands = ['B04', 'B03', 'B02']\n",
    "bands_landsat = ['red', 'green', 'blue']\n",
    "\n",
    "stac_reader = ReadSTAC(api_url=api_url, collection = \"sentinel-2-l2a\")\n",
    "\n",
    "# check available items\n",
    "items = stac_reader.get_items(\n",
    "    location = (-59.66666666666667, 7.33333333333334 ),\n",
    "    buffer=10,\n",
    "    timerange='2020-01-01/2020-12-30',\n",
    "    max_cloud_cover=10\n",
    ")"
   ]
  },
  {
   "cell_type": "markdown",
   "metadata": {},
   "source": [
    "## Start with only displaying a small Area of Interest"
   ]
  },
  {
   "cell_type": "code",
   "execution_count": null,
   "metadata": {},
   "outputs": [],
   "source": [
    "stack = stac_reader.get_stack(items, filter_by=\"least_cloudy\", bands=bands, resolution=10)\n",
    "stack_stretched = stac_reader.stretch_contrast_stack(stack, upper_percentile=1.0, lower_percentile=0.0)\n",
    "image = stac_reader.save_stack_as_geotiff(stack_stretched, filename=\"sentinel_image.tif\")"
   ]
  },
  {
   "cell_type": "code",
   "execution_count": null,
   "metadata": {},
   "outputs": [],
   "source": [
    "m = leafmap.Map(center = [LOCATION[1], LOCATION[0]], zoom=10)\n",
    "\n",
    "m.add_raster(image, layer_name=\"Image\")\n",
    "m"
   ]
  },
  {
   "cell_type": "code",
   "execution_count": null,
   "metadata": {},
   "outputs": [],
   "source": [
    "# add the polygons in the area\n",
    "m.add_gdf(maus_gdf_filtered, layer_name=\"maus_gdf\")\n",
    "m.add_gdf(tang_gdf_filtered, layer_name=\"tang_gdf\", style=style)\n",
    "m"
   ]
  },
  {
   "cell_type": "markdown",
   "metadata": {},
   "source": [
    "## Display the whole S2 Tile"
   ]
  },
  {
   "cell_type": "code",
   "execution_count": null,
   "metadata": {},
   "outputs": [],
   "source": [
    "least_cloudy_item = stac_reader.filter_item(items, filter_by=\"least_cloudy\")"
   ]
  },
  {
   "cell_type": "code",
   "execution_count": null,
   "metadata": {},
   "outputs": [],
   "source": [
    "m = stac_reader.preview_tile_outlines(least_cloudy_item)\n",
    "m"
   ]
  },
  {
   "cell_type": "markdown",
   "metadata": {},
   "source": [
    "## Test global MGRS 10x10 km grid and overlay it with mining polygons"
   ]
  },
  {
   "cell_type": "code",
   "execution_count": null,
   "metadata": {},
   "outputs": [],
   "source": [
    "# read the mgrs shapefile\n",
    "mgrs_gdf = gpd.read_file(\"data/external/mgrs_index_ftp_link/mgrs_index_ftp_link.shp\")"
   ]
  },
  {
   "cell_type": "code",
   "execution_count": null,
   "metadata": {},
   "outputs": [],
   "source": [
    "from shapely.geometry import Polygon\n",
    "import pyproj\n",
    "from shapely.ops import transform\n",
    "from functools import partial\n",
    "\n",
    "def calculate_dimensions_km(polygon):\n",
    "    \"\"\"\n",
    "    Calculate the dimensions (width, height) in kilometers of a given polygon.\n",
    "    \n",
    "    Parameters:\n",
    "    - polygon: A shapely Polygon object.\n",
    "    \n",
    "    Returns:\n",
    "    - A tuple (width_km, height_km) representing the dimensions in kilometers.\n",
    "    \"\"\"\n",
    "    # Define the projection to UTM (Universal Transverse Mercator)\n",
    "    # Find UTM zone for the centroid of the polygon for more accuracy\n",
    "    utm_zone = int((polygon.centroid.x + 180) / 6) + 1\n",
    "    crs_proj = pyproj.Proj(proj='utm', zone=utm_zone, ellps='WGS84', preserve_units=False)\n",
    "    \n",
    "    # Define transformations from WGS84 to UTM and back\n",
    "    project_to_utm = partial(pyproj.transform, pyproj.Proj(init='epsg:4326'), crs_proj)\n",
    "    project_to_wgs84 = partial(pyproj.transform, crs_proj, pyproj.Proj(init='epsg:4326'))\n",
    "    \n",
    "    # Transform the polygon to the UTM projection\n",
    "    polygon_utm = transform(project_to_utm, polygon)\n",
    "    \n",
    "    # Calculate bounds in UTM\n",
    "    minx, miny, maxx, maxy = polygon_utm.bounds\n",
    "    \n",
    "    # Calculate width and height in meters\n",
    "    width_m = maxx - minx\n",
    "    height_m = maxy - miny\n",
    "    \n",
    "    # Convert meters to kilometers\n",
    "    width_km = width_m / 1000\n",
    "    height_km = height_m / 1000\n",
    "    \n",
    "    return (width_km, height_km)\n",
    "\n",
    "# Example usage\n",
    "polygon = mgrs_gdf.iloc[0].geometry\n",
    "width_km, height_km = calculate_dimensions_km(polygon)\n",
    "print(f\"Width: {width_km} km, Height: {height_km} km\")"
   ]
  },
  {
   "cell_type": "code",
   "execution_count": null,
   "metadata": {},
   "outputs": [],
   "source": [
    "mgrs_gdf.iloc[0:2,:].geometry\n",
    "\n",
    "# add that on a map\n",
    "m = leafmap.Map()\n",
    "m.add_gdf(mgrs_gdf.iloc[0:2,:], layer_name=\"mgrs_gdf\")\n",
    "m"
   ]
  },
  {
   "cell_type": "markdown",
   "metadata": {},
   "source": [
    "# Load Raster for mining areas from Maus et al"
   ]
  },
  {
   "cell_type": "code",
   "execution_count": null,
   "metadata": {},
   "outputs": [],
   "source": [
    "# Load the raster for mining areas \n",
    "m = leafmap.Map(center = [LOCATION[1], LOCATION[0]], zoom=10)\n",
    "m.add_raster(MAUS_AREA_RASTER, layer_name=\"Mining Areas\", alpha=0.5)\n",
    "\n",
    "# Display the map\n",
    "m"
   ]
  },
  {
   "cell_type": "code",
   "execution_count": null,
   "metadata": {},
   "outputs": [],
   "source": [
    "def resample_geotiff(source_path, dest_path, resampling_factor): \n",
    "    import rasterio\n",
    "    from rasterio.enums import Resampling\n",
    "\n",
    "    with rasterio.open(source_path) as dataset:\n",
    "\n",
    "        # resample data to target shape using upscale_factor\n",
    "        data = dataset.read(\n",
    "            out_shape=(\n",
    "                dataset.count,\n",
    "                int(dataset.height * resampling_factor),\n",
    "                int(dataset.width * resampling_factor)\n",
    "            ),\n",
    "            resampling=Resampling.average\n",
    "        )\n",
    "\n",
    "        print('Shape before resample:', dataset.shape)\n",
    "        print('Shape after resample:', data.shape[1:])\n",
    "\n",
    "        # scale image transform\n",
    "        dst_transform = dataset.transform * dataset.transform.scale(\n",
    "            (dataset.width / data.shape[-1]),\n",
    "            (dataset.height / data.shape[-2])\n",
    "        )\n",
    "\n",
    "        print('Transform before resample:\\n', dataset.transform, '\\n')\n",
    "        print('Transform after resample:\\n', dst_transform)\n",
    "\n",
    "        # Write outputs\n",
    "        # set properties for output\n",
    "        dst_kwargs = dataset.meta.copy()\n",
    "        dst_kwargs.update(\n",
    "            {\n",
    "                \"crs\": dataset.crs,\n",
    "                \"transform\": dst_transform,\n",
    "                \"width\": data.shape[-1],\n",
    "                \"height\": data.shape[-2],\n",
    "                \"nodata\": 0,  \n",
    "            }\n",
    "        )\n",
    "\n",
    "        with rasterio.open(dest_path, \"w\", **dst_kwargs) as dst:\n",
    "            # iterate through bands\n",
    "            for i in range(data.shape[0]):\n",
    "                dst.write(data[i].astype(rasterio.uint32), i+1)"
   ]
  },
  {
   "cell_type": "code",
   "execution_count": null,
   "metadata": {},
   "outputs": [],
   "source": [
    "from matplotlib import pyplot\n",
    "import rasterio\n",
    "array = rasterio.open(MAUS_AREA_RASTER).read(1)\n",
    "\n",
    "# set everything smaller than 0 to 0\n",
    "array = array.clip(0)\n",
    "\n",
    "pyplot.imshow(array, cmap='pink')\n",
    "pyplot.show()"
   ]
  },
  {
   "cell_type": "code",
   "execution_count": null,
   "metadata": {},
   "outputs": [],
   "source": [
    "import numpy as np\n",
    "from tqdm import tqdm\n",
    "src = rasterio.open(\"test.tif\")\n",
    "array = src.read(1)\n",
    "\n",
    "# Get the transformation matrix\n",
    "transform = src.transform\n",
    "\n",
    "# Create an empty list to store the bounding boxes\n",
    "bounding_boxes = []\n",
    "mining_area = []\n",
    "\n",
    "# Iterate over the pixels in the raster\n",
    "# only record bounding box if they have over 0.5 square km of mining area (out of a total area per square of 78.41 sq.km)\n",
    "for x in tqdm(range(src.width)):\n",
    "    for y in range(src.height):\n",
    "        if array[y, x] > 0.5:\n",
    "            # Get the pixel's bounding box\n",
    "            # The bounding box is defined by the pixel's top-left and bottom-right corners\n",
    "            top_left = transform * (x, y)\n",
    "            bottom_right = transform * (x + 1, y + 1)\n",
    "            bounding_box = [top_left[0], bottom_right[1], bottom_right[0], top_left[1]]\n",
    "            \n",
    "            # Add the bounding box to the list\n",
    "            bounding_boxes.append(bounding_box)\n",
    "\n",
    "            # add the mining area to the list\n",
    "            mining_area.append(array[y, x])\n"
   ]
  },
  {
   "cell_type": "code",
   "execution_count": null,
   "metadata": {},
   "outputs": [],
   "source": [
    "len(bounding_boxes)"
   ]
  },
  {
   "cell_type": "code",
   "execution_count": null,
   "metadata": {},
   "outputs": [],
   "source": [
    "# Create a GeoDataFrame from the bounding boxes and the area\n",
    "gdf = gpd.GeoDataFrame(geometry=[box(*bbox) for bbox in bounding_boxes], crs=\"EPSG:4326\")\n",
    "gdf[\"mining_area\"] = mining_area\n",
    "gdf"
   ]
  },
  {
   "cell_type": "code",
   "execution_count": null,
   "metadata": {},
   "outputs": [],
   "source": [
    "# Create a Map\n",
    "m = leafmap.Map(center=[(bounding_boxes[0][1] + bounding_boxes[0][3]) / 2, \n",
    "                        (bounding_boxes[0][0] + bounding_boxes[0][2]) / 2], zoom=2)\n",
    "\n",
    "# Add the GeoDataFrame to the map\n",
    "m.add_gdf(gdf, layer_name=\"bounding_boxes\")\n",
    "\n",
    "# Display the map\n",
    "m"
   ]
  },
  {
   "cell_type": "code",
   "execution_count": null,
   "metadata": {},
   "outputs": [],
   "source": [
    "# save the bounding boxes as a geopackage file\n",
    "gdf.to_file(\"/workspaces/mine-segmentation/data/interim/mining_areas.gpkg\", driver=\"GPKG\")"
   ]
  },
  {
   "cell_type": "markdown",
   "metadata": {},
   "source": [
    "# Sample random mining tile, plot 2019 sentinel image, and add both mining datasets to it. "
   ]
  },
  {
   "cell_type": "code",
   "execution_count": null,
   "metadata": {},
   "outputs": [],
   "source": [
    "# read gdf\n",
    "gdf = gpd.read_file(\"/workspaces/mine-segmentation/data/interim/mining_areas.gpkg\")"
   ]
  },
  {
   "cell_type": "code",
   "execution_count": null,
   "metadata": {},
   "outputs": [],
   "source": [
    "import random\n",
    "\n",
    "# Set the random seed for reproducibility\n",
    "random.seed(1234)"
   ]
  },
  {
   "cell_type": "code",
   "execution_count": null,
   "metadata": {},
   "outputs": [],
   "source": [
    "\n",
    "YEAR = 2019\n",
    "\n",
    "# Sample a random mining tile\n",
    "random_tile = gdf.sample(n=1, random_state=random.randint(0, 100))\n",
    "\n",
    "# Get the geometry of the random tile\n",
    "tile_geometry = random_tile['geometry'].values[0]\n",
    "\n",
    "bbox = tile_geometry.bounds\n",
    "\n",
    "api_url=\"https://planetarycomputer.microsoft.com/api/stac/v1\"\n",
    "bands = ['B04', 'B03', 'B02']\n",
    "\n",
    "stac_reader = ReadSTAC(api_url=api_url, collection = \"sentinel-2-l2a\")\n",
    "\n",
    "# get the least cloudy sentinel image for the tile\n",
    "items = stac_reader.get_items(\n",
    "    bbox=bbox,\n",
    "    timerange=f'{YEAR}-01-01/{YEAR}-12-31',\n",
    "    max_cloud_cover=10\n",
    ")\n",
    "\n",
    "stack = stac_reader.get_stack(items, filter_by=\"least_cloudy\", bands=bands, resolution=10)\n",
    "stack_stretched = stac_reader.stretch_contrast_stack(stack, upper_percentile=0.99, lower_percentile=0.01)\n",
    "image = stac_reader.save_stack_as_geotiff(stack_stretched, filename=\"sentinel_image.tif\")\n",
    "\n",
    "# Create a Map\n",
    "m = leafmap.Map(center=[tile_geometry.centroid.y, tile_geometry.centroid.x], zoom=2)\n",
    "\n",
    "# add the image\n",
    "m.add_raster(image)\n",
    "\n",
    "# Filter the polygons that are included \n",
    "maus_gdf_filtered = maus_gdf.cx[bbox[0]:bbox[2], bbox[1]:bbox[3]]\n",
    "tang_gdf_filtered = tang_gdf.cx[bbox[0]:bbox[2], bbox[1]:bbox[3]]\n",
    "\n",
    "style = {\n",
    "    \"stroke\": True,\n",
    "    \"color\": \"red\",\n",
    "    \"weight\": 2,\n",
    "    \"opacity\": 1,\n",
    "    \"fill\": True,\n",
    "    \"fillColor\": \"red\",\n",
    "    \"fillOpacity\": 0.1,\n",
    "}\n",
    "\n",
    "# Display the filtered gdfs\n",
    "if not maus_gdf_filtered.empty:\n",
    "    m.add_gdf(maus_gdf_filtered, layer_name=\"maus_gdf\")\n",
    "\n",
    "if not tang_gdf_filtered.empty:\n",
    "    m.add_gdf(tang_gdf_filtered, layer_name=\"tang_gdf\", style=style)\n",
    "\n",
    "m"
   ]
  },
  {
   "cell_type": "code",
   "execution_count": null,
   "metadata": {},
   "outputs": [],
   "source": [
    "# load mining areas\n",
    "mining_areas = gpd.read_file(\"/workspaces/mine-segmentation/data/interim/mining_areas.gpkg\")\n",
    "\n",
    "# get the tile number 4,242\n",
    "tile = mining_areas.iloc[4242:4244, :]\n",
    "\n",
    "# plot that tile on a map\n",
    "m = leafmap.Map(zoom=10)\n",
    "m.add_gdf(tile, layer_name=\"tile\")\n",
    "m\n",
    "\n"
   ]
  },
  {
   "cell_type": "code",
   "execution_count": null,
   "metadata": {},
   "outputs": [],
   "source": [
    "print(tile.iloc[0,:].geometry)"
   ]
  },
  {
   "cell_type": "code",
   "execution_count": null,
   "metadata": {},
   "outputs": [],
   "source": []
  }
 ],
 "metadata": {
  "kernelspec": {
   "display_name": "venv",
   "language": "python",
   "name": "python3"
  },
  "language_info": {
   "codemirror_mode": {
    "name": "ipython",
    "version": 3
   },
   "file_extension": ".py",
   "mimetype": "text/x-python",
   "name": "python",
   "nbconvert_exporter": "python",
   "pygments_lexer": "ipython3",
   "version": "3.12.3"
  }
 },
 "nbformat": 4,
 "nbformat_minor": 2
}
