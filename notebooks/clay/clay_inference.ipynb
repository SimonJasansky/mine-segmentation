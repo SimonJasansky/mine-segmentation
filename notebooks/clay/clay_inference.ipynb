{
 "cells": [
  {
   "cell_type": "code",
   "execution_count": null,
   "id": "25d69a7d-5f0e-453a-8a7d-8ef4b100e72b",
   "metadata": {},
   "outputs": [],
   "source": [
    "import sys\n",
    "import warnings\n",
    "\n",
    "sys.path.append(\"../../\")\n",
    "warnings.filterwarnings(\"ignore\")\n",
    "\n",
    "# set working directory to root \n",
    "import os\n",
    "os.chdir(\"../../\")\n",
    "print(os.getcwd())"
   ]
  },
  {
   "cell_type": "code",
   "execution_count": null,
   "id": "34608fe0-9c89-4b39-b0b7-59d74efafdbe",
   "metadata": {},
   "outputs": [],
   "source": [
    "import matplotlib.pyplot as plt\n",
    "import numpy as np\n",
    "import torch\n",
    "import torch.nn.functional as F\n",
    "from einops import rearrange\n",
    "from matplotlib.colors import ListedColormap\n",
    "\n",
    "from src.models.clay.segment.datamodule import MineDataModule\n",
    "from src.models.clay.segment.model import MineSegmentor"
   ]
  },
  {
   "cell_type": "markdown",
   "id": "8873272f-89e7-48de-9115-7c9d21b62c1f",
   "metadata": {},
   "source": [
    "### Define paths and parameters"
   ]
  },
  {
   "cell_type": "code",
   "execution_count": null,
   "id": "d1ea85c6-5086-42b2-b032-489890554d84",
   "metadata": {},
   "outputs": [],
   "source": [
    "MINESEG_CHECKPOINT_PATH = (\n",
    "    \"models/mineseg-2class-segment_epoch-00_val-iou-0.7541.ckpt\"\n",
    ")\n",
    "CLAY_CHECKPOINT_PATH = \"models/clay-v1-base.ckpt\"\n",
    "METADATA_PATH = \"configs/clay/clay_segment_metadata.yaml\"\n",
    "\n",
    "TRAIN_CHIP_DIR = \"data/processed/npy/chips/train/chips/\"\n",
    "TRAIN_LABEL_DIR = \" data/processed/npy/chips/train/labels/\"\n",
    "VAL_CHIP_DIR = \"data/processed/npy/chips/val/chips/\"\n",
    "VAL_LABEL_DIR = \"data/processed/npy/chips/val/labels/\"\n",
    "\n",
    "BATCH_SIZE = 1\n",
    "NUM_WORKERS = 1\n",
    "PLATFORM = \"sentinel-2-l2a\""
   ]
  },
  {
   "cell_type": "markdown",
   "id": "cc278db5-e241-4763-8f33-bdeb5b0f81fc",
   "metadata": {},
   "source": [
    "### Model Loading"
   ]
  },
  {
   "cell_type": "code",
   "execution_count": null,
   "id": "4b0da577-f3e5-485a-bbc5-a3ff7367e670",
   "metadata": {},
   "outputs": [],
   "source": [
    "def get_model(mineseg_checkpoint_path, clay_checkpoint_path, metadata_path):\n",
    "    model = MineSegmentor.load_from_checkpoint(\n",
    "        checkpoint_path=mineseg_checkpoint_path,\n",
    "        metadata_path=metadata_path,\n",
    "        ckpt_path=clay_checkpoint_path,\n",
    "    )\n",
    "    model.eval()\n",
    "    return model"
   ]
  },
  {
   "cell_type": "markdown",
   "id": "2d9ba7fc-f1ca-465c-be66-15edca8e8419",
   "metadata": {},
   "source": [
    "### Data Preparation"
   ]
  },
  {
   "cell_type": "code",
   "execution_count": null,
   "id": "3402cf0a-cb9b-47c4-a12a-bb704912edfd",
   "metadata": {},
   "outputs": [],
   "source": [
    "def get_data(\n",
    "    train_chip_dir,\n",
    "    train_label_dir,\n",
    "    val_chip_dir,\n",
    "    val_label_dir,\n",
    "    metadata_path,\n",
    "    batch_size,\n",
    "    num_workers,\n",
    "    platform,\n",
    "    index=None\n",
    "):\n",
    "    dm = MineDataModule(\n",
    "        train_chip_dir=train_chip_dir,\n",
    "        train_label_dir=train_label_dir,\n",
    "        val_chip_dir=val_chip_dir,\n",
    "        val_label_dir=val_label_dir,\n",
    "        metadata_path=metadata_path,\n",
    "        batch_size=batch_size,\n",
    "        num_workers=num_workers,\n",
    "        platform=platform,\n",
    "    )\n",
    "    dm.setup(stage=\"fit\")\n",
    "    if index is not None:\n",
    "        val_dl = iter(dm.val_dataloader())\n",
    "        for i in range(index + 1):\n",
    "            batch = next(val_dl)\n",
    "        metadata = dm.metadata\n",
    "        return batch, metadata\n",
    "    else:\n",
    "        val_dl = dm.val_dataloader()\n",
    "        batch = next(iter(val_dl))\n",
    "        metadata = dm.metadata\n",
    "        return batch, metadata\n",
    "    metadata = dm.metadata\n",
    "    return batch, metadata"
   ]
  },
  {
   "cell_type": "markdown",
   "id": "ea94afc8-c507-41b8-a3be-dd130ff90c72",
   "metadata": {},
   "source": [
    "### Prediction"
   ]
  },
  {
   "cell_type": "code",
   "execution_count": null,
   "id": "d7d71514-47b0-447b-899b-5aef44c38bc2",
   "metadata": {},
   "outputs": [],
   "source": [
    "def run_prediction(model, batch):\n",
    "    with torch.no_grad():\n",
    "        outputs = model(batch)\n",
    "    outputs = F.interpolate(\n",
    "        outputs, size=(512, 512), mode=\"bilinear\", align_corners=False\n",
    "    )\n",
    "    return outputs"
   ]
  },
  {
   "cell_type": "markdown",
   "id": "2a64735f-70b1-4d05-acd9-2a0812545cfa",
   "metadata": {},
   "source": [
    "### Post-Processing"
   ]
  },
  {
   "cell_type": "code",
   "execution_count": null,
   "id": "7d69561e-b7ab-4f4d-b426-2d0cccc949f3",
   "metadata": {},
   "outputs": [],
   "source": [
    "def post_process(batch, outputs, metadata):\n",
    "    preds = torch.argmax(outputs, dim=1).detach().cpu().numpy()\n",
    "    labels = batch[\"label\"].detach().cpu().numpy()\n",
    "    pixels = batch[\"pixels\"].detach().cpu().numpy()\n",
    "\n",
    "    # normalize and clip the image ranges\n",
    "    pixels = (pixels - pixels.min()) / (pixels.max() - pixels.min())\n",
    "    pixels = np.clip(pixels, 0, 1)\n",
    "\n",
    "    images = pixels[0]\n",
    "    labels = labels[0]\n",
    "    preds = preds[0]\n",
    "\n",
    "    images = images.transpose((1,2,0))\n",
    "\n",
    "    return images, labels, preds"
   ]
  },
  {
   "cell_type": "markdown",
   "id": "ef86d23c-eca7-458a-99ef-fff4534b927e",
   "metadata": {},
   "source": [
    "### Plotting"
   ]
  },
  {
   "cell_type": "code",
   "execution_count": null,
   "id": "368b1925-be0f-47a5-bbb9-c642c3f04afa",
   "metadata": {},
   "outputs": [],
   "source": [
    "def plot_predictions(images, labels, preds):\n",
    "    fig, axes = plt.subplots(1, 3, figsize=(10, 4))\n",
    "\n",
    "    # Plot the image\n",
    "    axes[0].imshow(images)\n",
    "    axes[0].axis(\"off\")\n",
    "    axes[0].set_title(\"Image\", fontsize=12)\n",
    "\n",
    "    # Plot the actual segmentation\n",
    "    axes[1].imshow(labels, vmin=0, vmax=6)\n",
    "    axes[1].axis(\"off\")\n",
    "    axes[1].set_title(\"Actual\", fontsize=12)\n",
    "\n",
    "    # Plot the predicted segmentation\n",
    "    axes[2].imshow(preds, vmin=0, vmax=6)\n",
    "    axes[2].axis(\"off\")\n",
    "    axes[2].set_title(\"Pred\", fontsize=12)\n",
    "\n",
    "    plt.tight_layout()\n",
    "    plt.show()"
   ]
  },
  {
   "cell_type": "code",
   "execution_count": null,
   "id": "30d9b66b-ea25-4697-83be-776abb40db9b",
   "metadata": {},
   "outputs": [],
   "source": [
    "# Load model\n",
    "model = get_model(MINESEG_CHECKPOINT_PATH, CLAY_CHECKPOINT_PATH, METADATA_PATH)"
   ]
  },
  {
   "cell_type": "code",
   "execution_count": null,
   "id": "ac07a050-c55d-4392-9461-a16afdb65f8f",
   "metadata": {},
   "outputs": [],
   "source": [
    "import random\n",
    "\n",
    "nr_val_chips = len(os.listdir(VAL_CHIP_DIR))\n",
    "sample = random.sample(range(nr_val_chips), 7)\n",
    "\n",
    "for index in sample:\n",
    "\n",
    "    # Get data\n",
    "    batch, metadata = get_data(\n",
    "        TRAIN_CHIP_DIR,\n",
    "        TRAIN_LABEL_DIR,\n",
    "        VAL_CHIP_DIR,\n",
    "        VAL_LABEL_DIR,\n",
    "        METADATA_PATH,\n",
    "        BATCH_SIZE,\n",
    "        NUM_WORKERS,\n",
    "        PLATFORM,\n",
    "        index=index\n",
    "    )\n",
    "\n",
    "    # Move batch to GPU\n",
    "    if torch.cuda.is_available():\n",
    "        batch = {k: v.to(\"cuda\") for k, v in batch.items()}\n",
    "\n",
    "    # Run prediction\n",
    "    outputs = run_prediction(model, batch)\n",
    "    \n",
    "    # Post-process the results\n",
    "    images, labels, preds = post_process(batch, outputs, metadata)\n",
    "\n",
    "    # Plot the predictions\n",
    "    plot_predictions(images, labels, preds)"
   ]
  },
  {
   "cell_type": "code",
   "execution_count": null,
   "id": "dc8c65d3",
   "metadata": {},
   "outputs": [],
   "source": []
  }
 ],
 "metadata": {
  "kernelspec": {
   "display_name": "Python 3 (ipykernel)",
   "language": "python",
   "name": "python3"
  },
  "language_info": {
   "codemirror_mode": {
    "name": "ipython",
    "version": 3
   },
   "file_extension": ".py",
   "mimetype": "text/x-python",
   "name": "python",
   "nbconvert_exporter": "python",
   "pygments_lexer": "ipython3",
   "version": "3.11.9"
  }
 },
 "nbformat": 4,
 "nbformat_minor": 5
}
