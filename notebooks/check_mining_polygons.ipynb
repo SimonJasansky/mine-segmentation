{
 "cells": [
  {
   "cell_type": "markdown",
   "metadata": {},
   "source": [
    "# Check mining polygons"
   ]
  },
  {
   "cell_type": "code",
   "execution_count": 1,
   "metadata": {},
   "outputs": [
    {
     "name": "stdout",
     "output_type": "stream",
     "text": [
      "/workspaces/mine-segmentation/notebooks\n",
      "/workspaces/mine-segmentation\n"
     ]
    }
   ],
   "source": [
    "import geopandas as gpd\n",
    "import shapely\n",
    "import leafmap.foliumap as leafmap\n",
    "import rasterio\n",
    "from shapely.geometry import box\n",
    "\n",
    "# # optional change working directiory first\n",
    "import os\n",
    "print(os.getcwd())\n",
    "os.chdir(\"..\")\n",
    "print(os.getcwd())\n",
    "\n",
    "\n",
    "import sys\n",
    "sys.path.append('..')\n",
    "\n",
    "from src.data.get_satellite_images import ReadSTAC"
   ]
  },
  {
   "cell_type": "code",
   "execution_count": 2,
   "metadata": {},
   "outputs": [
    {
     "name": "stderr",
     "output_type": "stream",
     "text": [
      "python: can't open file '/workspaces/src/data/get_mining_polygons.py': [Errno 2] No such file or directory\n"
     ]
    },
    {
     "data": {
      "text/plain": [
       "512"
      ]
     },
     "execution_count": 2,
     "metadata": {},
     "output_type": "execute_result"
    }
   ],
   "source": [
    "# download mining polygons\n",
    "import os\n",
    "parend_dir = os.path.dirname(os.getcwd())\n",
    "script_path = os.path.join(parend_dir, 'src', 'data', 'get_mining_polygons.py')\n",
    "os.system(f'python {script_path}')"
   ]
  },
  {
   "cell_type": "code",
   "execution_count": 2,
   "metadata": {},
   "outputs": [],
   "source": [
    "MAUS_POLYGONS = \"data/external/maus_mining_polygons.gpkg\"\n",
    "MAUS_AREA_RASTER = \"data/external/maus_mining_raster.tif\"\n",
    "TANG_POLYGONS = \"data/external/tang_mining_polygons/74548_mine_polygons/74548_projected.shp\"\n",
    "\n",
    "# filter both dataframes to only the area of interest\n",
    "LOCATION = [-50.16556135114535, -6.060451692157381]\n",
    "BBOX = [LOCATION[0] - 0.5, LOCATION[1] - 0.5, LOCATION[0] + 0.5, LOCATION[1] + 0.5]\n"
   ]
  },
  {
   "cell_type": "code",
   "execution_count": 3,
   "metadata": {},
   "outputs": [],
   "source": [
    "# Load a GeoPackage file into a GeoDataFrame\n",
    "maus_gdf = gpd.read_file(MAUS_POLYGONS)\n",
    "\n",
    "# Load a Shapefile into a GeoDataFrame\n",
    "tang_gdf = gpd.read_file(TANG_POLYGONS)"
   ]
  },
  {
   "cell_type": "code",
   "execution_count": 6,
   "metadata": {},
   "outputs": [
    {
     "data": {
      "text/html": [
       "<div>\n",
       "<style scoped>\n",
       "    .dataframe tbody tr th:only-of-type {\n",
       "        vertical-align: middle;\n",
       "    }\n",
       "\n",
       "    .dataframe tbody tr th {\n",
       "        vertical-align: top;\n",
       "    }\n",
       "\n",
       "    .dataframe thead th {\n",
       "        text-align: right;\n",
       "    }\n",
       "</style>\n",
       "<table border=\"1\" class=\"dataframe\">\n",
       "  <thead>\n",
       "    <tr style=\"text-align: right;\">\n",
       "      <th></th>\n",
       "      <th>ISO3_CODE</th>\n",
       "      <th>COUNTRY_NAME</th>\n",
       "      <th>AREA</th>\n",
       "      <th>geometry</th>\n",
       "    </tr>\n",
       "  </thead>\n",
       "  <tbody>\n",
       "    <tr>\n",
       "      <th>0</th>\n",
       "      <td>GBR</td>\n",
       "      <td>United Kingdom</td>\n",
       "      <td>1.782044</td>\n",
       "      <td>POLYGON ((-1.67130 55.07660, -1.67040 55.07710...</td>\n",
       "    </tr>\n",
       "    <tr>\n",
       "      <th>1</th>\n",
       "      <td>FJI</td>\n",
       "      <td>Fiji</td>\n",
       "      <td>0.023405</td>\n",
       "      <td>POLYGON ((177.85480 -17.51730, 177.85490 -17.5...</td>\n",
       "    </tr>\n",
       "    <tr>\n",
       "      <th>2</th>\n",
       "      <td>NZL</td>\n",
       "      <td>New Zealand</td>\n",
       "      <td>0.042758</td>\n",
       "      <td>POLYGON ((175.87200 -37.34490, 175.87180 -37.3...</td>\n",
       "    </tr>\n",
       "    <tr>\n",
       "      <th>3</th>\n",
       "      <td>FJI</td>\n",
       "      <td>Fiji</td>\n",
       "      <td>0.248552</td>\n",
       "      <td>POLYGON ((177.84260 -17.51850, 177.84370 -17.5...</td>\n",
       "    </tr>\n",
       "    <tr>\n",
       "      <th>4</th>\n",
       "      <td>FJI</td>\n",
       "      <td>Fiji</td>\n",
       "      <td>0.132724</td>\n",
       "      <td>POLYGON ((177.84950 -17.49510, 177.84920 -17.4...</td>\n",
       "    </tr>\n",
       "  </tbody>\n",
       "</table>\n",
       "</div>"
      ],
      "text/plain": [
       "  ISO3_CODE    COUNTRY_NAME      AREA  \\\n",
       "0       GBR  United Kingdom  1.782044   \n",
       "1       FJI            Fiji  0.023405   \n",
       "2       NZL     New Zealand  0.042758   \n",
       "3       FJI            Fiji  0.248552   \n",
       "4       FJI            Fiji  0.132724   \n",
       "\n",
       "                                            geometry  \n",
       "0  POLYGON ((-1.67130 55.07660, -1.67040 55.07710...  \n",
       "1  POLYGON ((177.85480 -17.51730, 177.85490 -17.5...  \n",
       "2  POLYGON ((175.87200 -37.34490, 175.87180 -37.3...  \n",
       "3  POLYGON ((177.84260 -17.51850, 177.84370 -17.5...  \n",
       "4  POLYGON ((177.84950 -17.49510, 177.84920 -17.4...  "
      ]
     },
     "execution_count": 6,
     "metadata": {},
     "output_type": "execute_result"
    }
   ],
   "source": [
    "maus_gdf.head()"
   ]
  },
  {
   "cell_type": "code",
   "execution_count": 7,
   "metadata": {},
   "outputs": [
    {
     "data": {
      "text/html": [
       "<div>\n",
       "<style scoped>\n",
       "    .dataframe tbody tr th:only-of-type {\n",
       "        vertical-align: middle;\n",
       "    }\n",
       "\n",
       "    .dataframe tbody tr th {\n",
       "        vertical-align: top;\n",
       "    }\n",
       "\n",
       "    .dataframe thead th {\n",
       "        text-align: right;\n",
       "    }\n",
       "</style>\n",
       "<table border=\"1\" class=\"dataframe\">\n",
       "  <thead>\n",
       "    <tr style=\"text-align: right;\">\n",
       "      <th></th>\n",
       "      <th>OBJECTID</th>\n",
       "      <th>Name</th>\n",
       "      <th>Shape_Le_1</th>\n",
       "      <th>Shape_Area</th>\n",
       "      <th>geometry</th>\n",
       "    </tr>\n",
       "  </thead>\n",
       "  <tbody>\n",
       "    <tr>\n",
       "      <th>0</th>\n",
       "      <td>1</td>\n",
       "      <td>Au</td>\n",
       "      <td>507.731122</td>\n",
       "      <td>1.213696e+04</td>\n",
       "      <td>POLYGON Z ((9746741.997 3480087.392 0.000, 974...</td>\n",
       "    </tr>\n",
       "    <tr>\n",
       "      <th>1</th>\n",
       "      <td>2</td>\n",
       "      <td>Au</td>\n",
       "      <td>22248.346547</td>\n",
       "      <td>6.566996e+06</td>\n",
       "      <td>POLYGON Z ((10362412.948 5571579.856 0.000, 10...</td>\n",
       "    </tr>\n",
       "    <tr>\n",
       "      <th>2</th>\n",
       "      <td>3</td>\n",
       "      <td>Au</td>\n",
       "      <td>19467.203319</td>\n",
       "      <td>7.109258e+06</td>\n",
       "      <td>POLYGON Z ((-6976558.709 -1779192.275 0.000, -...</td>\n",
       "    </tr>\n",
       "    <tr>\n",
       "      <th>3</th>\n",
       "      <td>4</td>\n",
       "      <td>Fe</td>\n",
       "      <td>8281.186849</td>\n",
       "      <td>2.323061e+06</td>\n",
       "      <td>POLYGON Z ((11034240.023 5539946.449 0.000, 11...</td>\n",
       "    </tr>\n",
       "    <tr>\n",
       "      <th>4</th>\n",
       "      <td>5</td>\n",
       "      <td>0</td>\n",
       "      <td>1492.049584</td>\n",
       "      <td>1.231474e+05</td>\n",
       "      <td>POLYGON Z ((8889342.751 3577269.676 0.000, 888...</td>\n",
       "    </tr>\n",
       "  </tbody>\n",
       "</table>\n",
       "</div>"
      ],
      "text/plain": [
       "   OBJECTID Name    Shape_Le_1    Shape_Area  \\\n",
       "0         1   Au    507.731122  1.213696e+04   \n",
       "1         2   Au  22248.346547  6.566996e+06   \n",
       "2         3   Au  19467.203319  7.109258e+06   \n",
       "3         4   Fe   8281.186849  2.323061e+06   \n",
       "4         5    0   1492.049584  1.231474e+05   \n",
       "\n",
       "                                            geometry  \n",
       "0  POLYGON Z ((9746741.997 3480087.392 0.000, 974...  \n",
       "1  POLYGON Z ((10362412.948 5571579.856 0.000, 10...  \n",
       "2  POLYGON Z ((-6976558.709 -1779192.275 0.000, -...  \n",
       "3  POLYGON Z ((11034240.023 5539946.449 0.000, 11...  \n",
       "4  POLYGON Z ((8889342.751 3577269.676 0.000, 888...  "
      ]
     },
     "execution_count": 7,
     "metadata": {},
     "output_type": "execute_result"
    }
   ],
   "source": [
    "tang_gdf.head()"
   ]
  },
  {
   "cell_type": "code",
   "execution_count": 8,
   "metadata": {},
   "outputs": [
    {
     "name": "stdout",
     "output_type": "stream",
     "text": [
      "(44929, 4)\n",
      "(74548, 5)\n"
     ]
    }
   ],
   "source": [
    "print(maus_gdf.shape)\n",
    "print(tang_gdf.shape)"
   ]
  },
  {
   "cell_type": "code",
   "execution_count": 4,
   "metadata": {},
   "outputs": [
    {
     "data": {
      "text/plain": [
       "0"
      ]
     },
     "execution_count": 4,
     "metadata": {},
     "output_type": "execute_result"
    }
   ],
   "source": [
    "# check how many empty geometries are in the tang_gdf\n",
    "empty_geometries = tang_gdf[tang_gdf.geometry == None]\n",
    "len(empty_geometries)"
   ]
  },
  {
   "cell_type": "code",
   "execution_count": 5,
   "metadata": {},
   "outputs": [],
   "source": [
    "# convert projected coordinates in tang to lat long\n",
    "tang_gdf = tang_gdf.to_crs(epsg=4326)"
   ]
  },
  {
   "cell_type": "code",
   "execution_count": 6,
   "metadata": {},
   "outputs": [],
   "source": [
    "# Flatten polygon dimensions from 3D to 2D\n",
    "tang_gdf.geometry = shapely.wkb.loads(shapely.wkb.dumps(tang_gdf.geometry, output_dimension=2))"
   ]
  },
  {
   "cell_type": "code",
   "execution_count": 19,
   "metadata": {},
   "outputs": [],
   "source": [
    "maus_gdf_filtered = maus_gdf.cx[BBOX[0]:BBOX[2], BBOX[1]:BBOX[3]]\n",
    "tang_gdf_filtered = tang_gdf.cx[BBOX[0]:BBOX[2], BBOX[1]:BBOX[3]]"
   ]
  },
  {
   "cell_type": "code",
   "execution_count": 26,
   "metadata": {},
   "outputs": [
    {
     "data": {
      "text/plain": [
       "(-50.342299999999994, -6.4754000000000005, -50.3121, -6.440400000000001)"
      ]
     },
     "execution_count": 26,
     "metadata": {},
     "output_type": "execute_result"
    }
   ],
   "source": [
    "maus_gdf_filtered.iloc[0,:].geometry.bounds"
   ]
  },
  {
   "cell_type": "code",
   "execution_count": 12,
   "metadata": {},
   "outputs": [
    {
     "data": {
      "text/html": [
       "<div>\n",
       "<style scoped>\n",
       "    .dataframe tbody tr th:only-of-type {\n",
       "        vertical-align: middle;\n",
       "    }\n",
       "\n",
       "    .dataframe tbody tr th {\n",
       "        vertical-align: top;\n",
       "    }\n",
       "\n",
       "    .dataframe thead th {\n",
       "        text-align: right;\n",
       "    }\n",
       "</style>\n",
       "<table border=\"1\" class=\"dataframe\">\n",
       "  <thead>\n",
       "    <tr style=\"text-align: right;\">\n",
       "      <th></th>\n",
       "      <th>ISO3_CODE</th>\n",
       "      <th>COUNTRY_NAME</th>\n",
       "      <th>AREA</th>\n",
       "      <th>geometry</th>\n",
       "    </tr>\n",
       "  </thead>\n",
       "  <tbody>\n",
       "    <tr>\n",
       "      <th>4308</th>\n",
       "      <td>BRA</td>\n",
       "      <td>Brazil</td>\n",
       "      <td>4.526153</td>\n",
       "      <td>POLYGON ((-50.34230 -6.46640, -50.33970 -6.470...</td>\n",
       "    </tr>\n",
       "    <tr>\n",
       "      <th>4316</th>\n",
       "      <td>BRA</td>\n",
       "      <td>Brazil</td>\n",
       "      <td>4.029746</td>\n",
       "      <td>POLYGON ((-50.23900 -6.43630, -50.24980 -6.441...</td>\n",
       "    </tr>\n",
       "    <tr>\n",
       "      <th>4329</th>\n",
       "      <td>BRA</td>\n",
       "      <td>Brazil</td>\n",
       "      <td>0.363408</td>\n",
       "      <td>POLYGON ((-49.87660 -6.20440, -49.87830 -6.208...</td>\n",
       "    </tr>\n",
       "    <tr>\n",
       "      <th>4334</th>\n",
       "      <td>BRA</td>\n",
       "      <td>Brazil</td>\n",
       "      <td>1.585674</td>\n",
       "      <td>POLYGON ((-50.00340 -6.11420, -50.00800 -6.115...</td>\n",
       "    </tr>\n",
       "    <tr>\n",
       "      <th>4339</th>\n",
       "      <td>BRA</td>\n",
       "      <td>Brazil</td>\n",
       "      <td>0.826450</td>\n",
       "      <td>POLYGON ((-49.75480 -6.23760, -49.75770 -6.242...</td>\n",
       "    </tr>\n",
       "  </tbody>\n",
       "</table>\n",
       "</div>"
      ],
      "text/plain": [
       "     ISO3_CODE COUNTRY_NAME      AREA  \\\n",
       "4308       BRA       Brazil  4.526153   \n",
       "4316       BRA       Brazil  4.029746   \n",
       "4329       BRA       Brazil  0.363408   \n",
       "4334       BRA       Brazil  1.585674   \n",
       "4339       BRA       Brazil  0.826450   \n",
       "\n",
       "                                               geometry  \n",
       "4308  POLYGON ((-50.34230 -6.46640, -50.33970 -6.470...  \n",
       "4316  POLYGON ((-50.23900 -6.43630, -50.24980 -6.441...  \n",
       "4329  POLYGON ((-49.87660 -6.20440, -49.87830 -6.208...  \n",
       "4334  POLYGON ((-50.00340 -6.11420, -50.00800 -6.115...  \n",
       "4339  POLYGON ((-49.75480 -6.23760, -49.75770 -6.242...  "
      ]
     },
     "execution_count": 12,
     "metadata": {},
     "output_type": "execute_result"
    }
   ],
   "source": [
    "maus_gdf_filtered.head()"
   ]
  },
  {
   "cell_type": "code",
   "execution_count": 13,
   "metadata": {},
   "outputs": [
    {
     "data": {
      "text/html": [
       "<div>\n",
       "<style scoped>\n",
       "    .dataframe tbody tr th:only-of-type {\n",
       "        vertical-align: middle;\n",
       "    }\n",
       "\n",
       "    .dataframe tbody tr th {\n",
       "        vertical-align: top;\n",
       "    }\n",
       "\n",
       "    .dataframe thead th {\n",
       "        text-align: right;\n",
       "    }\n",
       "</style>\n",
       "<table border=\"1\" class=\"dataframe\">\n",
       "  <thead>\n",
       "    <tr style=\"text-align: right;\">\n",
       "      <th></th>\n",
       "      <th>OBJECTID</th>\n",
       "      <th>Name</th>\n",
       "      <th>Shape_Le_1</th>\n",
       "      <th>Shape_Area</th>\n",
       "      <th>geometry</th>\n",
       "    </tr>\n",
       "  </thead>\n",
       "  <tbody>\n",
       "    <tr>\n",
       "      <th>7687</th>\n",
       "      <td>7688</td>\n",
       "      <td>Placemark</td>\n",
       "      <td>6284.211434</td>\n",
       "      <td>1.395161e+06</td>\n",
       "      <td>POLYGON ((-50.58005 -6.05403, -50.58030 -6.051...</td>\n",
       "    </tr>\n",
       "    <tr>\n",
       "      <th>7688</th>\n",
       "      <td>7689</td>\n",
       "      <td>Placemark</td>\n",
       "      <td>11521.144792</td>\n",
       "      <td>2.317360e+06</td>\n",
       "      <td>POLYGON ((-50.57555 -6.02529, -50.57362 -6.025...</td>\n",
       "    </tr>\n",
       "    <tr>\n",
       "      <th>7689</th>\n",
       "      <td>7690</td>\n",
       "      <td>Placemark</td>\n",
       "      <td>17145.217793</td>\n",
       "      <td>8.213193e+06</td>\n",
       "      <td>POLYGON ((-50.53541 -5.78219, -50.53166 -5.782...</td>\n",
       "    </tr>\n",
       "    <tr>\n",
       "      <th>7690</th>\n",
       "      <td>7691</td>\n",
       "      <td>Placemark</td>\n",
       "      <td>26207.278720</td>\n",
       "      <td>4.201798e+06</td>\n",
       "      <td>POLYGON ((-50.51591 -5.76025, -50.51560 -5.760...</td>\n",
       "    </tr>\n",
       "    <tr>\n",
       "      <th>7692</th>\n",
       "      <td>7693</td>\n",
       "      <td>Placemark</td>\n",
       "      <td>10317.859600</td>\n",
       "      <td>1.552590e+06</td>\n",
       "      <td>POLYGON ((-50.30800 -6.10007, -50.30730 -6.100...</td>\n",
       "    </tr>\n",
       "  </tbody>\n",
       "</table>\n",
       "</div>"
      ],
      "text/plain": [
       "      OBJECTID       Name    Shape_Le_1    Shape_Area  \\\n",
       "7687      7688  Placemark   6284.211434  1.395161e+06   \n",
       "7688      7689  Placemark  11521.144792  2.317360e+06   \n",
       "7689      7690  Placemark  17145.217793  8.213193e+06   \n",
       "7690      7691  Placemark  26207.278720  4.201798e+06   \n",
       "7692      7693  Placemark  10317.859600  1.552590e+06   \n",
       "\n",
       "                                               geometry  \n",
       "7687  POLYGON ((-50.58005 -6.05403, -50.58030 -6.051...  \n",
       "7688  POLYGON ((-50.57555 -6.02529, -50.57362 -6.025...  \n",
       "7689  POLYGON ((-50.53541 -5.78219, -50.53166 -5.782...  \n",
       "7690  POLYGON ((-50.51591 -5.76025, -50.51560 -5.760...  \n",
       "7692  POLYGON ((-50.30800 -6.10007, -50.30730 -6.100...  "
      ]
     },
     "execution_count": 13,
     "metadata": {},
     "output_type": "execute_result"
    }
   ],
   "source": [
    "tang_gdf_filtered.head()"
   ]
  },
  {
   "cell_type": "code",
   "execution_count": null,
   "metadata": {},
   "outputs": [],
   "source": [
    "# Create a Leaflet map\n",
    "m = leafmap.Map(center = [LOCATION[1], LOCATION[0]], zoom=10)\n",
    "m.add_basemap(\"satellite\")\n",
    "\n",
    "\n",
    "style = {\n",
    "    \"stroke\": True,\n",
    "    \"color\": \"red\",\n",
    "    \"weight\": 2,\n",
    "    \"opacity\": 1,\n",
    "    \"fill\": True,\n",
    "    \"fillColor\": \"red\",\n",
    "    \"fillOpacity\": 0.1,\n",
    "}\n",
    "\n",
    "# Add the GeoDataFrame to the map\n",
    "m.add_gdf(maus_gdf_filtered, layer_name=\"maus_gdf\")\n",
    "m.add_gdf(tang_gdf_filtered, layer_name=\"tang_gdf\", style=style)\n",
    "\n",
    "# Display the map\n",
    "m"
   ]
  },
  {
   "cell_type": "markdown",
   "metadata": {},
   "source": [
    "# Overlay a Sentinel Image with the mining polygons"
   ]
  },
  {
   "cell_type": "code",
   "execution_count": 15,
   "metadata": {},
   "outputs": [
    {
     "name": "stdout",
     "output_type": "stream",
     "text": [
      "28 Items found.\n"
     ]
    }
   ],
   "source": [
    "# Download the image \n",
    "# Option 1 (Default): Read from Planetary Computer STAC API\n",
    "api_url=\"https://planetarycomputer.microsoft.com/api/stac/v1\"\n",
    "bands = ['B04', 'B03', 'B02']\n",
    "bands_landsat = ['red', 'green', 'blue']\n",
    "\n",
    "stac_reader = ReadSTAC(api_url=api_url, collection = \"sentinel-2-l2a\")\n",
    "\n",
    "# check available items\n",
    "items = stac_reader.get_items(\n",
    "    location = LOCATION,\n",
    "    buffer=10,\n",
    "    timerange='2020-01-01/2020-12-30',\n",
    "    max_cloud_cover=10\n",
    ")"
   ]
  },
  {
   "cell_type": "markdown",
   "metadata": {},
   "source": [
    "## Start with only displaying a small Area of Interest"
   ]
  },
  {
   "cell_type": "code",
   "execution_count": 16,
   "metadata": {},
   "outputs": [
    {
     "name": "stdout",
     "output_type": "stream",
     "text": [
      "Loading stack...\n",
      "Found 2 unique tile ids.\n",
      "Choosing the best 1 items.For unique tile 22MFU, choosing ['S2B_MSIL2A_20200729T134219_R124_T22MFU_20200818T015550'] from [datetime.date(2020, 7, 29)] with [0.016453]% cloud cover\n",
      "Choosing the best 1 items.For unique tile 22MEU, choosing ['S2A_MSIL2A_20200614T134221_R124_T22MEU_20200827T082613'] from [datetime.date(2020, 6, 14)] with [0.008988]% cloud cover\n",
      "Stretching contrast...\n",
      "Saving stack as GeoTIFF under: data/interim/sentinel_image.tif\n"
     ]
    }
   ],
   "source": [
    "stack = stac_reader.get_stack(items, filter_by=\"least_cloudy\", bands=bands, resolution=10)\n",
    "stack_stretched = stac_reader.stretch_contrast_stack(stack, upper_percentile=1.0, lower_percentile=0.0)\n",
    "image = stac_reader.save_stack_as_geotiff(stack_stretched, filename=\"sentinel_image.tif\")"
   ]
  },
  {
   "cell_type": "code",
   "execution_count": null,
   "metadata": {},
   "outputs": [],
   "source": [
    "m = leafmap.Map(center = [LOCATION[1], LOCATION[0]], zoom=10)\n",
    "\n",
    "m.add_raster(image, layer_name=\"Image\")\n",
    "m"
   ]
  },
  {
   "cell_type": "code",
   "execution_count": null,
   "metadata": {},
   "outputs": [],
   "source": [
    "# add the polygons in the area\n",
    "m.add_gdf(maus_gdf_filtered, layer_name=\"maus_gdf\")\n",
    "m.add_gdf(tang_gdf_filtered, layer_name=\"tang_gdf\", style=style)\n",
    "m"
   ]
  },
  {
   "cell_type": "markdown",
   "metadata": {},
   "source": [
    "## Display the whole S2 Tile"
   ]
  },
  {
   "cell_type": "code",
   "execution_count": 19,
   "metadata": {},
   "outputs": [
    {
     "name": "stdout",
     "output_type": "stream",
     "text": [
      "Found 2 unique tile ids.\n",
      "Choosing the best 1 items.For unique tile 22MFU, choosing ['S2B_MSIL2A_20200729T134219_R124_T22MFU_20200818T015550'] from [datetime.date(2020, 7, 29)] with [0.016453]% cloud cover\n",
      "Choosing the best 1 items.For unique tile 22MEU, choosing ['S2A_MSIL2A_20200614T134221_R124_T22MEU_20200827T082613'] from [datetime.date(2020, 6, 14)] with [0.008988]% cloud cover\n"
     ]
    }
   ],
   "source": [
    "least_cloudy_item = stac_reader.filter_item(items, filter_by=\"least_cloudy\")"
   ]
  },
  {
   "cell_type": "code",
   "execution_count": null,
   "metadata": {},
   "outputs": [],
   "source": [
    "m = stac_reader.preview_tile_outlines(least_cloudy_item)\n",
    "m"
   ]
  },
  {
   "cell_type": "markdown",
   "metadata": {},
   "source": [
    "# Load Raster for mining areas from Maus et al"
   ]
  },
  {
   "cell_type": "code",
   "execution_count": null,
   "metadata": {},
   "outputs": [],
   "source": [
    "# Load the raster for mining areas \n",
    "m = leafmap.Map(center = [LOCATION[1], LOCATION[0]], zoom=10)\n",
    "m.add_raster(MAUS_AREA_RASTER, layer_name=\"Mining Areas\", alpha=0.5)\n",
    "\n",
    "# Display the map\n",
    "m"
   ]
  },
  {
   "cell_type": "code",
   "execution_count": 24,
   "metadata": {},
   "outputs": [
    {
     "data": {
      "text/plain": [
       "<open DatasetReader name='data/external/maus_mining_raster.tif' mode='r'>"
      ]
     },
     "execution_count": 24,
     "metadata": {},
     "output_type": "execute_result"
    }
   ],
   "source": [
    "import rasterio\n",
    "img = rasterio.open(MAUS_AREA_RASTER)\n",
    "img"
   ]
  },
  {
   "cell_type": "code",
   "execution_count": 25,
   "metadata": {},
   "outputs": [
    {
     "name": "stdout",
     "output_type": "stream",
     "text": [
      "Window bounds: (-180.0, 89.91666666666667, 180.0, 90.0)\n",
      "Data shape: (1, 1, 4320)\n"
     ]
    }
   ],
   "source": [
    "\n",
    "# Load the GeoTIFF file\n",
    "with rasterio.open(MAUS_AREA_RASTER) as src:\n",
    "    for ji, window in src.block_windows(1):\n",
    "        # Get the geographic coordinates of the pixel\n",
    "        left, bottom, right, top = src.window_bounds(window)\n",
    "        print(f\"Window bounds: {left, bottom, right, top}\")\n",
    "        # Read the data in the window\n",
    "        data = src.read(window=window)\n",
    "        print(f\"Data shape: {data.shape}\")\n",
    "\n",
    "        break\n"
   ]
  },
  {
   "cell_type": "code",
   "execution_count": 26,
   "metadata": {},
   "outputs": [
    {
     "name": "stdout",
     "output_type": "stream",
     "text": [
      "(2160, 4320)\n"
     ]
    },
    {
     "data": {
      "text/plain": [
       "array([[-3.4e+38, -3.4e+38, -3.4e+38, ..., -3.4e+38, -3.4e+38, -3.4e+38],\n",
       "       [-3.4e+38, -3.4e+38, -3.4e+38, ..., -3.4e+38, -3.4e+38, -3.4e+38],\n",
       "       [-3.4e+38, -3.4e+38, -3.4e+38, ..., -3.4e+38, -3.4e+38, -3.4e+38],\n",
       "       ...,\n",
       "       [ 0.0e+00,  0.0e+00,  0.0e+00, ...,  0.0e+00,  0.0e+00,  0.0e+00],\n",
       "       [ 0.0e+00,  0.0e+00,  0.0e+00, ...,  0.0e+00,  0.0e+00,  0.0e+00],\n",
       "       [-3.4e+38, -3.4e+38, -3.4e+38, ..., -3.4e+38, -3.4e+38, -3.4e+38]],\n",
       "      dtype=float32)"
      ]
     },
     "execution_count": 26,
     "metadata": {},
     "output_type": "execute_result"
    }
   ],
   "source": [
    "src = rasterio.open(MAUS_AREA_RASTER)\n",
    "array = src.read(1)\n",
    "print(array.shape)\n",
    "array"
   ]
  },
  {
   "cell_type": "code",
   "execution_count": 27,
   "metadata": {},
   "outputs": [
    {
     "data": {
      "text/plain": [
       "array([[0., 0., 0., ..., 0., 0., 0.],\n",
       "       [0., 0., 0., ..., 0., 0., 0.],\n",
       "       [0., 0., 0., ..., 0., 0., 0.],\n",
       "       ...,\n",
       "       [0., 0., 0., ..., 0., 0., 0.],\n",
       "       [0., 0., 0., ..., 0., 0., 0.],\n",
       "       [0., 0., 0., ..., 0., 0., 0.]], dtype=float32)"
      ]
     },
     "execution_count": 27,
     "metadata": {},
     "output_type": "execute_result"
    }
   ],
   "source": [
    "# set all values less than 0 to 0 \n",
    "array[array < 0] = 0\n",
    "array"
   ]
  },
  {
   "cell_type": "code",
   "execution_count": 28,
   "metadata": {},
   "outputs": [
    {
     "data": {
      "image/png": "[encoded data removed]",
      "text/plain": [
       "<Figure size 640x480 with 1 Axes>"
      ]
     },
     "metadata": {},
     "output_type": "display_data"
    }
   ],
   "source": [
    "from matplotlib import pyplot\n",
    "pyplot.imshow(array, cmap='pink')\n",
    "pyplot.show()"
   ]
  },
  {
   "cell_type": "code",
   "execution_count": 29,
   "metadata": {},
   "outputs": [
    {
     "data": {
      "text/plain": [
       "Affine(0.08333333333333333, 0.0, -180.0,\n",
       "       0.0, -0.08333333333333333, 90.0)"
      ]
     },
     "execution_count": 29,
     "metadata": {},
     "output_type": "execute_result"
    }
   ],
   "source": [
    "src.transform"
   ]
  },
  {
   "cell_type": "code",
   "execution_count": 30,
   "metadata": {},
   "outputs": [
    {
     "name": "stderr",
     "output_type": "stream",
     "text": [
      "100%|██████████| 4320/4320 [00:08<00:00, 539.65it/s]\n"
     ]
    }
   ],
   "source": [
    "import numpy as np\n",
    "from tqdm import tqdm\n",
    "src = rasterio.open(MAUS_AREA_RASTER)\n",
    "array = src.read(1)\n",
    "\n",
    "# Get the transformation matrix\n",
    "transform = src.transform\n",
    "\n",
    "# Create an empty list to store the bounding boxes\n",
    "bounding_boxes = []\n",
    "mining_area = []\n",
    "\n",
    "# Iterate over the pixels in the raster\n",
    "# only record bounding box if they have over 0.5 square km of mining area (out of a total area per square of 78.41 sq.km)\n",
    "for x in tqdm(range(src.width)):\n",
    "    for y in range(src.height):\n",
    "        if array[y, x] > 0.5:\n",
    "            # Get the pixel's bounding box\n",
    "            # The bounding box is defined by the pixel's top-left and bottom-right corners\n",
    "            top_left = transform * (x, y)\n",
    "            bottom_right = transform * (x + 1, y + 1)\n",
    "            bounding_box = [top_left[0], bottom_right[1], bottom_right[0], top_left[1]]\n",
    "            \n",
    "            # Add the bounding box to the list\n",
    "            bounding_boxes.append(bounding_box)\n",
    "\n",
    "            # add the mining area to the list\n",
    "            mining_area.append(array[y, x])\n"
   ]
  },
  {
   "cell_type": "code",
   "execution_count": 31,
   "metadata": {},
   "outputs": [
    {
     "data": {
      "text/plain": [
       "17237"
      ]
     },
     "execution_count": 31,
     "metadata": {},
     "output_type": "execute_result"
    }
   ],
   "source": [
    "len(bounding_boxes)"
   ]
  },
  {
   "cell_type": "code",
   "execution_count": 32,
   "metadata": {},
   "outputs": [
    {
     "data": {
      "text/html": [
       "<div>\n",
       "<style scoped>\n",
       "    .dataframe tbody tr th:only-of-type {\n",
       "        vertical-align: middle;\n",
       "    }\n",
       "\n",
       "    .dataframe tbody tr th {\n",
       "        vertical-align: top;\n",
       "    }\n",
       "\n",
       "    .dataframe thead th {\n",
       "        text-align: right;\n",
       "    }\n",
       "</style>\n",
       "<table border=\"1\" class=\"dataframe\">\n",
       "  <thead>\n",
       "    <tr style=\"text-align: right;\">\n",
       "      <th></th>\n",
       "      <th>geometry</th>\n",
       "      <th>mining_area</th>\n",
       "    </tr>\n",
       "  </thead>\n",
       "  <tbody>\n",
       "    <tr>\n",
       "      <th>0</th>\n",
       "      <td>POLYGON ((-165.41667 64.58333, -165.41667 64.6...</td>\n",
       "      <td>2.249622</td>\n",
       "    </tr>\n",
       "    <tr>\n",
       "      <th>1</th>\n",
       "      <td>POLYGON ((-165.41667 64.50000, -165.41667 64.5...</td>\n",
       "      <td>2.141823</td>\n",
       "    </tr>\n",
       "    <tr>\n",
       "      <th>2</th>\n",
       "      <td>POLYGON ((-165.33333 64.50000, -165.33333 64.5...</td>\n",
       "      <td>7.332864</td>\n",
       "    </tr>\n",
       "    <tr>\n",
       "      <th>3</th>\n",
       "      <td>POLYGON ((-162.83333 68.00000, -162.83333 68.0...</td>\n",
       "      <td>7.319017</td>\n",
       "    </tr>\n",
       "    <tr>\n",
       "      <th>4</th>\n",
       "      <td>POLYGON ((-162.75000 68.00000, -162.75000 68.0...</td>\n",
       "      <td>2.113401</td>\n",
       "    </tr>\n",
       "    <tr>\n",
       "      <th>...</th>\n",
       "      <td>...</td>\n",
       "      <td>...</td>\n",
       "    </tr>\n",
       "    <tr>\n",
       "      <th>17232</th>\n",
       "      <td>POLYGON ((177.75000 64.66667, 177.75000 64.750...</td>\n",
       "      <td>1.631730</td>\n",
       "    </tr>\n",
       "    <tr>\n",
       "      <th>17233</th>\n",
       "      <td>POLYGON ((177.91667 -17.58333, 177.91667 -17.5...</td>\n",
       "      <td>0.962196</td>\n",
       "    </tr>\n",
       "    <tr>\n",
       "      <th>17234</th>\n",
       "      <td>POLYGON ((179.08333 -16.83333, 179.08333 -16.7...</td>\n",
       "      <td>1.399949</td>\n",
       "    </tr>\n",
       "    <tr>\n",
       "      <th>17235</th>\n",
       "      <td>POLYGON ((179.25000 63.00000, 179.25000 63.083...</td>\n",
       "      <td>0.830650</td>\n",
       "    </tr>\n",
       "    <tr>\n",
       "      <th>17236</th>\n",
       "      <td>POLYGON ((179.33333 63.00000, 179.33333 63.083...</td>\n",
       "      <td>2.364610</td>\n",
       "    </tr>\n",
       "  </tbody>\n",
       "</table>\n",
       "<p>17237 rows × 2 columns</p>\n",
       "</div>"
      ],
      "text/plain": [
       "                                                geometry  mining_area\n",
       "0      POLYGON ((-165.41667 64.58333, -165.41667 64.6...     2.249622\n",
       "1      POLYGON ((-165.41667 64.50000, -165.41667 64.5...     2.141823\n",
       "2      POLYGON ((-165.33333 64.50000, -165.33333 64.5...     7.332864\n",
       "3      POLYGON ((-162.83333 68.00000, -162.83333 68.0...     7.319017\n",
       "4      POLYGON ((-162.75000 68.00000, -162.75000 68.0...     2.113401\n",
       "...                                                  ...          ...\n",
       "17232  POLYGON ((177.75000 64.66667, 177.75000 64.750...     1.631730\n",
       "17233  POLYGON ((177.91667 -17.58333, 177.91667 -17.5...     0.962196\n",
       "17234  POLYGON ((179.08333 -16.83333, 179.08333 -16.7...     1.399949\n",
       "17235  POLYGON ((179.25000 63.00000, 179.25000 63.083...     0.830650\n",
       "17236  POLYGON ((179.33333 63.00000, 179.33333 63.083...     2.364610\n",
       "\n",
       "[17237 rows x 2 columns]"
      ]
     },
     "execution_count": 32,
     "metadata": {},
     "output_type": "execute_result"
    }
   ],
   "source": [
    "# Create a GeoDataFrame from the bounding boxes and the area\n",
    "gdf = gpd.GeoDataFrame(geometry=[box(*bbox) for bbox in bounding_boxes], crs=\"EPSG:4326\")\n",
    "gdf[\"mining_area\"] = mining_area\n",
    "gdf"
   ]
  },
  {
   "cell_type": "code",
   "execution_count": null,
   "metadata": {},
   "outputs": [],
   "source": [
    "\n",
    "# Create a Map\n",
    "m = leafmap.Map(center=[(bounding_boxes[0][1] + bounding_boxes[0][3]) / 2, \n",
    "                        (bounding_boxes[0][0] + bounding_boxes[0][2]) / 2], zoom=2)\n",
    "\n",
    "# Add the GeoDataFrame to the map\n",
    "m.add_gdf(gdf.iloc[0:100,:], layer_name=\"bounding_boxes\")\n",
    "\n",
    "# Display the map\n",
    "m"
   ]
  },
  {
   "cell_type": "code",
   "execution_count": 34,
   "metadata": {},
   "outputs": [],
   "source": [
    "# save the bounding boxes as a geopackage file\n",
    "gdf.to_file(\"/workspaces/mine-segmentation/data/interim/mining_areas.gpkg\", driver=\"GPKG\")"
   ]
  },
  {
   "cell_type": "markdown",
   "metadata": {},
   "source": [
    "# Sample random mining tile, plot 2019 sentinel image, and add both mining datasets to it. "
   ]
  },
  {
   "cell_type": "code",
   "execution_count": 7,
   "metadata": {},
   "outputs": [],
   "source": [
    "# read gdf\n",
    "gdf = gpd.read_file(\"/workspaces/mine-segmentation/data/interim/mining_areas.gpkg\")"
   ]
  },
  {
   "cell_type": "code",
   "execution_count": 8,
   "metadata": {},
   "outputs": [],
   "source": [
    "import random\n",
    "\n",
    "# Set the random seed for reproducibility\n",
    "random.seed(1234)"
   ]
  },
  {
   "cell_type": "code",
   "execution_count": 9,
   "metadata": {},
   "outputs": [
    {
     "name": "stdout",
     "output_type": "stream",
     "text": [
      "4 Items found.\n",
      "Loading stack...\n",
      "Found 1 unique tile ids.\n",
      "Choosing the best 1 items.For unique tile 48RXR, choosing ['S2A_MSIL2A_20190812T032541_R018_T48RXR_20201004T232107'] from [datetime.date(2019, 8, 12)] with [0.405742]% cloud cover\n"
     ]
    },
    {
     "ename": "UnboundLocalError",
     "evalue": "cannot access local variable 'stack' where it is not associated with a value",
     "output_type": "error",
     "traceback": [
      "\u001b[0;31m---------------------------------------------------------------------------\u001b[0m",
      "\u001b[0;31mUnboundLocalError\u001b[0m                         Traceback (most recent call last)",
      "Cell \u001b[0;32mIn[9], line 23\u001b[0m\n\u001b[1;32m     16\u001b[0m \u001b[38;5;66;03m# get the least cloudy sentinel image for the tile\u001b[39;00m\n\u001b[1;32m     17\u001b[0m items \u001b[38;5;241m=\u001b[39m stac_reader\u001b[38;5;241m.\u001b[39mget_items(\n\u001b[1;32m     18\u001b[0m     bbox\u001b[38;5;241m=\u001b[39mbbox,\n\u001b[1;32m     19\u001b[0m     timerange\u001b[38;5;241m=\u001b[39m\u001b[38;5;124mf\u001b[39m\u001b[38;5;124m'\u001b[39m\u001b[38;5;132;01m{\u001b[39;00mYEAR\u001b[38;5;132;01m}\u001b[39;00m\u001b[38;5;124m-01-01/\u001b[39m\u001b[38;5;132;01m{\u001b[39;00mYEAR\u001b[38;5;132;01m}\u001b[39;00m\u001b[38;5;124m-12-31\u001b[39m\u001b[38;5;124m'\u001b[39m,\n\u001b[1;32m     20\u001b[0m     max_cloud_cover\u001b[38;5;241m=\u001b[39m\u001b[38;5;241m10\u001b[39m\n\u001b[1;32m     21\u001b[0m )\n\u001b[0;32m---> 23\u001b[0m stack \u001b[38;5;241m=\u001b[39m \u001b[43mstac_reader\u001b[49m\u001b[38;5;241;43m.\u001b[39;49m\u001b[43mget_stack\u001b[49m\u001b[43m(\u001b[49m\u001b[43mitems\u001b[49m\u001b[43m,\u001b[49m\u001b[43m \u001b[49m\u001b[43mfilter_by\u001b[49m\u001b[38;5;241;43m=\u001b[39;49m\u001b[38;5;124;43m\"\u001b[39;49m\u001b[38;5;124;43mleast_cloudy\u001b[39;49m\u001b[38;5;124;43m\"\u001b[39;49m\u001b[43m,\u001b[49m\u001b[43m \u001b[49m\u001b[43mbands\u001b[49m\u001b[38;5;241;43m=\u001b[39;49m\u001b[43mbands\u001b[49m\u001b[43m,\u001b[49m\u001b[43m \u001b[49m\u001b[43mresolution\u001b[49m\u001b[38;5;241;43m=\u001b[39;49m\u001b[38;5;241;43m10\u001b[39;49m\u001b[43m)\u001b[49m\n\u001b[1;32m     24\u001b[0m stack_stretched \u001b[38;5;241m=\u001b[39m stac_reader\u001b[38;5;241m.\u001b[39mstretch_contrast_stack(stack, upper_percentile\u001b[38;5;241m=\u001b[39m\u001b[38;5;241m0.99\u001b[39m, lower_percentile\u001b[38;5;241m=\u001b[39m\u001b[38;5;241m0.01\u001b[39m)\n\u001b[1;32m     25\u001b[0m image \u001b[38;5;241m=\u001b[39m stac_reader\u001b[38;5;241m.\u001b[39msave_stack_as_geotiff(stack_stretched, filename\u001b[38;5;241m=\u001b[39m\u001b[38;5;124m\"\u001b[39m\u001b[38;5;124msentinel_image.tif\u001b[39m\u001b[38;5;124m\"\u001b[39m)\n",
      "File \u001b[0;32m/workspaces/mine-segmentation/src/data/get_satellite_images.py:376\u001b[0m, in \u001b[0;36mReadSTAC.get_stack\u001b[0;34m(self, items, bands, filter_by, take_best_n, resolution, crop_to_bounds)\u001b[0m\n\u001b[1;32m    373\u001b[0m     item_crs \u001b[38;5;241m=\u001b[39m items\u001b[38;5;241m.\u001b[39mproperties[\u001b[38;5;124m\"\u001b[39m\u001b[38;5;124mproj:epsg\u001b[39m\u001b[38;5;124m\"\u001b[39m]\n\u001b[1;32m    375\u001b[0m     \u001b[38;5;66;03m# add the S2 tile id\u001b[39;00m\n\u001b[0;32m--> 376\u001b[0m     \u001b[43mstack\u001b[49m\u001b[38;5;241m.\u001b[39mattrs[\u001b[38;5;124m\"\u001b[39m\u001b[38;5;124ms2_tile_id\u001b[39m\u001b[38;5;124m\"\u001b[39m] \u001b[38;5;241m=\u001b[39m items\u001b[38;5;241m.\u001b[39mid\n\u001b[1;32m    378\u001b[0m \u001b[38;5;28;01mif\u001b[39;00m crop_to_bounds:\n\u001b[1;32m    379\u001b[0m     \u001b[38;5;66;03m# Slice the x and y dimensions to the original bounding box \u001b[39;00m\n\u001b[1;32m    380\u001b[0m     \u001b[38;5;66;03m# For this, transform the bounding box to the CRS of the item\u001b[39;00m\n\u001b[1;32m    381\u001b[0m     bounds \u001b[38;5;241m=\u001b[39m \u001b[38;5;28mself\u001b[39m\u001b[38;5;241m.\u001b[39mtransform_bbox(\u001b[38;5;28mself\u001b[39m\u001b[38;5;241m.\u001b[39mbbox, \u001b[38;5;124m\"\u001b[39m\u001b[38;5;124mepsg:4326\u001b[39m\u001b[38;5;124m\"\u001b[39m, item_crs)\n",
      "\u001b[0;31mUnboundLocalError\u001b[0m: cannot access local variable 'stack' where it is not associated with a value"
     ]
    }
   ],
   "source": [
    "\n",
    "YEAR = 2019\n",
    "\n",
    "# Sample a random mining tile\n",
    "random_tile = gdf.sample(n=1, random_state=random.randint(0, 100))\n",
    "\n",
    "# Get the geometry of the random tile\n",
    "tile_geometry = random_tile['geometry'].values[0]\n",
    "\n",
    "bbox = tile_geometry.bounds\n",
    "\n",
    "api_url=\"https://planetarycomputer.microsoft.com/api/stac/v1\"\n",
    "bands = ['B04', 'B03', 'B02']\n",
    "\n",
    "stac_reader = ReadSTAC(api_url=api_url, collection = \"sentinel-2-l2a\")\n",
    "\n",
    "# get the least cloudy sentinel image for the tile\n",
    "items = stac_reader.get_items(\n",
    "    bbox=bbox,\n",
    "    timerange=f'{YEAR}-01-01/{YEAR}-12-31',\n",
    "    max_cloud_cover=10\n",
    ")\n",
    "\n",
    "stack = stac_reader.get_stack(items, filter_by=\"least_cloudy\", bands=bands, resolution=10)\n",
    "stack_stretched = stac_reader.stretch_contrast_stack(stack, upper_percentile=0.99, lower_percentile=0.01)\n",
    "image = stac_reader.save_stack_as_geotiff(stack_stretched, filename=\"sentinel_image.tif\")\n",
    "\n",
    "# Create a Map\n",
    "m = leafmap.Map(center=[tile_geometry.centroid.y, tile_geometry.centroid.x], zoom=2)\n",
    "\n",
    "# add the image\n",
    "m.add_raster(image)\n",
    "\n",
    "# Filter the polygons that are included \n",
    "maus_gdf_filtered = maus_gdf.cx[bbox[0]:bbox[2], bbox[1]:bbox[3]]\n",
    "tang_gdf_filtered = tang_gdf.cx[bbox[0]:bbox[2], bbox[1]:bbox[3]]\n",
    "\n",
    "style = {\n",
    "    \"stroke\": True,\n",
    "    \"color\": \"red\",\n",
    "    \"weight\": 2,\n",
    "    \"opacity\": 1,\n",
    "    \"fill\": True,\n",
    "    \"fillColor\": \"red\",\n",
    "    \"fillOpacity\": 0.1,\n",
    "}\n",
    "\n",
    "# Display the filtered gdfs\n",
    "if not maus_gdf_filtered.empty:\n",
    "    m.add_gdf(maus_gdf_filtered, layer_name=\"maus_gdf\")\n",
    "\n",
    "if not tang_gdf_filtered.empty:\n",
    "    m.add_gdf(tang_gdf_filtered, layer_name=\"tang_gdf\", style=style)\n",
    "\n",
    "m"
   ]
  },
  {
   "cell_type": "code",
   "execution_count": 11,
   "metadata": {},
   "outputs": [
    {
     "ename": "NameError",
     "evalue": "name 'stack' is not defined",
     "output_type": "error",
     "traceback": [
      "\u001b[0;31m---------------------------------------------------------------------------\u001b[0m",
      "\u001b[0;31mNameError\u001b[0m                                 Traceback (most recent call last)",
      "Cell \u001b[0;32mIn[11], line 1\u001b[0m\n\u001b[0;32m----> 1\u001b[0m \u001b[43mstack\u001b[49m\n",
      "\u001b[0;31mNameError\u001b[0m: name 'stack' is not defined"
     ]
    }
   ],
   "source": [
    "stack"
   ]
  },
  {
   "cell_type": "code",
   "execution_count": null,
   "metadata": {},
   "outputs": [],
   "source": []
  }
 ],
 "metadata": {
  "kernelspec": {
   "display_name": "venv",
   "language": "python",
   "name": "python3"
  },
  "language_info": {
   "codemirror_mode": {
    "name": "ipython",
    "version": 3
   },
   "file_extension": ".py",
   "mimetype": "text/x-python",
   "name": "python",
   "nbconvert_exporter": "python",
   "pygments_lexer": "ipython3",
   "version": "3.12.3"
  }
 },
 "nbformat": 4,
 "nbformat_minor": 2
}
