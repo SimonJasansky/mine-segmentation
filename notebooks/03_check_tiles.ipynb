{
 "cells": [
  {
   "cell_type": "markdown",
   "metadata": {},
   "source": [
    "# Check the mining area tiles"
   ]
  },
  {
   "cell_type": "code",
   "execution_count": 9,
   "metadata": {},
   "outputs": [],
   "source": [
    "import geopandas as gpd\n",
    "import leafmap\n",
    "from shapely.ops import unary_union\n",
    "from shapely.geometry import Point, mapping, box, shape\n",
    "import shapely\n",
    "import json\n",
    "from tqdm import tqdm\n",
    "tqdm.pandas()\n",
    "\n",
    "from src.utils import calculate_dimensions_km\n",
    "\n",
    "import sys\n",
    "sys.path.append(\"..\")"
   ]
  },
  {
   "cell_type": "code",
   "execution_count": 4,
   "metadata": {},
   "outputs": [
    {
     "name": "stdout",
     "output_type": "stream",
     "text": [
      "                  name geometry_type\n",
      "0  mining_areas_square       Polygon\n",
      "1    mining_areas_rect       Polygon\n"
     ]
    },
    {
     "data": {
      "text/html": [
       "<div>\n",
       "<style scoped>\n",
       "    .dataframe tbody tr th:only-of-type {\n",
       "        vertical-align: middle;\n",
       "    }\n",
       "\n",
       "    .dataframe tbody tr th {\n",
       "        vertical-align: top;\n",
       "    }\n",
       "\n",
       "    .dataframe thead th {\n",
       "        text-align: right;\n",
       "    }\n",
       "</style>\n",
       "<table border=\"1\" class=\"dataframe\">\n",
       "  <thead>\n",
       "    <tr style=\"text-align: right;\">\n",
       "      <th></th>\n",
       "      <th>centroid</th>\n",
       "      <th>mining_area</th>\n",
       "      <th>geometry</th>\n",
       "    </tr>\n",
       "  </thead>\n",
       "  <tbody>\n",
       "    <tr>\n",
       "      <th>0</th>\n",
       "      <td>POINT (-165.416666 64.583272)</td>\n",
       "      <td>3.019279</td>\n",
       "      <td>POLYGON ((-165.20216 64.49183, -165.20353 64.6...</td>\n",
       "    </tr>\n",
       "    <tr>\n",
       "      <th>1</th>\n",
       "      <td>POINT (-148.916665 63.916609)</td>\n",
       "      <td>2.010186</td>\n",
       "      <td>POLYGON ((-148.70246 63.82736, -148.71364 64.0...</td>\n",
       "    </tr>\n",
       "    <tr>\n",
       "      <th>2</th>\n",
       "      <td>POINT (-139.416668 64.083275)</td>\n",
       "      <td>3.935997</td>\n",
       "      <td>POLYGON ((-139.21268 63.98899, -139.20086 64.1...</td>\n",
       "    </tr>\n",
       "    <tr>\n",
       "      <th>3</th>\n",
       "      <td>POINT (-139.416668 63.916609)</td>\n",
       "      <td>2.017951</td>\n",
       "      <td>POLYGON ((-139.21387 63.82233, -139.20215 64.0...</td>\n",
       "    </tr>\n",
       "    <tr>\n",
       "      <th>4</th>\n",
       "      <td>POINT (-139.416668 63.749943)</td>\n",
       "      <td>2.968389</td>\n",
       "      <td>POLYGON ((-139.21506 63.65566, -139.20343 63.8...</td>\n",
       "    </tr>\n",
       "  </tbody>\n",
       "</table>\n",
       "</div>"
      ],
      "text/plain": [
       "                        centroid  mining_area  \\\n",
       "0  POINT (-165.416666 64.583272)     3.019279   \n",
       "1  POINT (-148.916665 63.916609)     2.010186   \n",
       "2  POINT (-139.416668 64.083275)     3.935997   \n",
       "3  POINT (-139.416668 63.916609)     2.017951   \n",
       "4  POINT (-139.416668 63.749943)     2.968389   \n",
       "\n",
       "                                            geometry  \n",
       "0  POLYGON ((-165.20216 64.49183, -165.20353 64.6...  \n",
       "1  POLYGON ((-148.70246 63.82736, -148.71364 64.0...  \n",
       "2  POLYGON ((-139.21268 63.98899, -139.20086 64.1...  \n",
       "3  POLYGON ((-139.21387 63.82233, -139.20215 64.0...  \n",
       "4  POLYGON ((-139.21506 63.65566, -139.20343 63.8...  "
      ]
     },
     "execution_count": 4,
     "metadata": {},
     "output_type": "execute_result"
    }
   ],
   "source": [
    "# list the layers of the gpkg file\n",
    "print(gpd.list_layers(\"/workspaces/mine-segmentation/data/interim/tiles.gpkg\"))\n",
    "\n",
    "# Load the data\n",
    "data = gpd.read_file(\"/workspaces/mine-segmentation/data/interim/tiles.gpkg\", layer=\"mining_areas_square\")\n",
    "\n",
    "data.head()"
   ]
  },
  {
   "cell_type": "code",
   "execution_count": 10,
   "metadata": {},
   "outputs": [
    {
     "name": "stderr",
     "output_type": "stream",
     "text": [
      "  0%|          | 0/2993 [00:00<?, ?it/s]"
     ]
    },
    {
     "name": "stderr",
     "output_type": "stream",
     "text": [
      "100%|██████████| 2993/2993 [01:01<00:00, 48.34it/s]\n"
     ]
    }
   ],
   "source": [
    "calculate_dimensions_km(data.geometry[0])\n",
    "\n",
    "# iterate over df and calculate the dimensions\n",
    "\n",
    "data[\"dimensions\"] = data.geometry.progress_apply(calculate_dimensions_km)"
   ]
  },
  {
   "cell_type": "code",
   "execution_count": 11,
   "metadata": {},
   "outputs": [
    {
     "data": {
      "text/plain": [
       "0                     (20.48000000000064, 20.48)\n",
       "1         (20.48000000000023, 20.48000000000093)\n",
       "2         (20.48000000000093, 20.48000000000093)\n",
       "3        (20.479999999999535, 20.48000000000093)\n",
       "4       (20.480000000000583, 20.480000000001862)\n",
       "                          ...                   \n",
       "2988      (20.48000000000035, 20.48000000000093)\n",
       "2989     (20.479999999999652, 20.48000000000093)\n",
       "2990     (20.479999999999766, 20.47999999999907)\n",
       "2991     (20.480000000000466, 20.48000000000093)\n",
       "2992    (20.480000000000466, 20.480000000001397)\n",
       "Name: dimensions, Length: 2993, dtype: object"
      ]
     },
     "execution_count": 11,
     "metadata": {},
     "output_type": "execute_result"
    }
   ],
   "source": [
    "data[\"dimensions\"]"
   ]
  },
  {
   "cell_type": "code",
   "execution_count": null,
   "metadata": {},
   "outputs": [],
   "source": []
  }
 ],
 "metadata": {
  "kernelspec": {
   "display_name": "mineseg-base",
   "language": "python",
   "name": "python3"
  },
  "language_info": {
   "codemirror_mode": {
    "name": "ipython",
    "version": 3
   },
   "file_extension": ".py",
   "mimetype": "text/x-python",
   "name": "python",
   "nbconvert_exporter": "python",
   "pygments_lexer": "ipython3",
   "version": "3.12.4"
  }
 },
 "nbformat": 4,
 "nbformat_minor": 2
}
