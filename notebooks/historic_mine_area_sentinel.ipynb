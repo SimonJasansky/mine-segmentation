{
 "cells": [
  {
   "cell_type": "markdown",
   "metadata": {},
   "source": [
    "# Estimate the historic mining area of a single mine\n",
    "\n",
    "In this notebook, the sam-geo model will be used to analyze the historic mining area of a single mine. \n",
    "\n",
    "### TODOs: \n",
    "- [ ] Plot sentinel images and masks yearly\n",
    "- [ ] Add metadata (year) and different colors to polygons displayed on map\n",
    "- [ ] Plot the area for each year\n",
    "- [ ] Regularize very small polygons (?) \n",
    "- [ ] Test with landsat images as well to have larger timewindow\n",
    "- [ ] Use segmentation polygon as input for previous year"
   ]
  },
  {
   "cell_type": "code",
   "execution_count": 1,
   "metadata": {},
   "outputs": [],
   "source": [
    "# !pip install segment-geospatial"
   ]
  },
  {
   "cell_type": "code",
   "execution_count": 1,
   "metadata": {},
   "outputs": [],
   "source": [
    "import sys\n",
    "sys.path.append(\"..\")\n",
    "\n",
    "from samgeo import SamGeo\n",
    "import leafmap\n",
    "from matplotlib.pyplot import cm\n",
    "\n",
    "from src.data.get_sentinel_images import ReadSTAC"
   ]
  },
  {
   "cell_type": "code",
   "execution_count": 2,
   "metadata": {},
   "outputs": [
    {
     "name": "stdout",
     "output_type": "stream",
     "text": [
      "[2018, 2019, 2020, 2021, 2022]\n"
     ]
    }
   ],
   "source": [
    "MINE_POINT = [-50.16556135114535, -6.060451692157381]\n",
    "BUFFER = 5\n",
    "YEARS = list(range(2018, 2023))\n",
    "print(YEARS)"
   ]
  },
  {
   "cell_type": "code",
   "execution_count": null,
   "metadata": {},
   "outputs": [],
   "source": [
    "# Option 1 (Default): Read from Planetary Computer STAC API\n",
    "api_url=\"https://planetarycomputer.microsoft.com/api/stac/v1\"\n",
    "bands = ['B04', 'B03', 'B02']\n",
    "\n",
    "# # Option 2: Read from AWS STAC API\n",
    "# api_url=\"https://earth-search.aws.element84.com/v1\"\n",
    "# bands = ['red', 'green', 'blue']\n",
    "\n",
    "stac_reader = ReadSTAC(api_url=api_url, collection=\"sentinel-2-l2a\", bands=bands)"
   ]
  },
  {
   "cell_type": "code",
   "execution_count": 5,
   "metadata": {},
   "outputs": [],
   "source": [
    "# Docs: https://samgeo.gishub.org/samgeo/#samgeo.samgeo.SamGeo.__init__\n",
    "sam = SamGeo(\n",
    "    model_type=\"vit_b\", # vit_l (2.4GB), vit_h (1.2GB), vit_b(~300MB)\n",
    "    automatic=False,\n",
    "    # device=\"cuda\",\n",
    "    sam_kwargs=None,\n",
    ")"
   ]
  },
  {
   "cell_type": "markdown",
   "metadata": {},
   "source": [
    "# Optional: Use bounding box instead of point as prompt for SAM"
   ]
  },
  {
   "cell_type": "code",
   "execution_count": null,
   "metadata": {},
   "outputs": [],
   "source": [
    "# initiazlize leafmap and optionally draw a bounding box\n",
    "m = leafmap.Map(center = [MINE_POINT[1], MINE_POINT[0]], zoom = 13, height=\"800px\")\n",
    "m.add_basemap(\"SATELLITE\")\n",
    "m"
   ]
  },
  {
   "cell_type": "code",
   "execution_count": 8,
   "metadata": {},
   "outputs": [
    {
     "name": "stdout",
     "output_type": "stream",
     "text": [
      "Prompt Box: {'type': 'FeatureCollection', 'features': [{'type': 'Feature', 'properties': {}, 'geometry': {'type': 'Polygon', 'coordinates': [[[-50.206146, -6.140896], [-50.206146, -6.021068], [-50.101776, -6.021068], [-50.101776, -6.140896], [-50.206146, -6.140896]]]}}]}\n",
      "Prompt Point: None\n"
     ]
    }
   ],
   "source": [
    "if m.user_rois is not None:\n",
    "    sam_prompt_box = m.user_rois\n",
    "    sam_prompt_point = None\n",
    "else: \n",
    "    sam_prompt_box = None\n",
    "    sam_prompt_point = [MINE_POINT]\n",
    "\n",
    "print(\"Prompt Box:\", sam_prompt_box)\n",
    "print(\"Prompt Point:\", sam_prompt_point)"
   ]
  },
  {
   "cell_type": "code",
   "execution_count": null,
   "metadata": {},
   "outputs": [],
   "source": [
    "for year in YEARS:\n",
    "    print(f\"Year: {year}\")\n",
    "\n",
    "    # check available items\n",
    "    items = stac_reader.get_items(\n",
    "        location = MINE_POINT,\n",
    "        buffer=10,\n",
    "        timerange=f'{year}-01-01/{year}-12-31',\n",
    "        max_cloud_cover=10\n",
    "    )\n",
    "\n",
    "    # download least cloudy image\n",
    "    stack = stac_reader.get_stack(items, filter_by=\"least_cloudy\", bands=bands, resolution=10)\n",
    "    stack_stretched = stac_reader.stretch_contrast_stack(stack)\n",
    "    image_path = stac_reader.save_stack_as_geotiff(stack_stretched, f\"least_cloudy_{year}.tif\")\n",
    "\n",
    "    # provide image to samgeo\n",
    "    sam.set_image(image_path)\n",
    "\n",
    "    # create output file path for mask\n",
    "    mask_path = image_path.replace(\".tif\", \"_mask.tif\")\n",
    "\n",
    "    # predict mask\n",
    "    sam.predict(\n",
    "        point_coords=sam_prompt_point,\n",
    "        boxes=sam_prompt_box, \n",
    "        point_labels=1, \n",
    "        point_crs=\"EPSG:4326\", \n",
    "        output=mask_path\n",
    "    )\n",
    "\n",
    "    # convert mask to polygons\n",
    "    mask_polygon_path = mask_path.replace(\".tif\", \".gpkg\")\n",
    "    sam.raster_to_vector(mask_path, mask_polygon_path)\n",
    "\n",
    "    # add mask to map\n",
    "    style = {\n",
    "        \"color\": \"#3388ff\",\n",
    "        \"weight\": 2,\n",
    "        \"fillColor\": \"#7c4185\",\n",
    "        \"fillOpacity\": 0.5,\n",
    "    }\n",
    "    m.add_vector(mask_polygon_path, layer_name=f\"{year} Mask\", style=style)\n"
   ]
  },
  {
   "cell_type": "code",
   "execution_count": null,
   "metadata": {},
   "outputs": [],
   "source": [
    "# display the map\n",
    "m"
   ]
  }
 ],
 "metadata": {
  "kernelspec": {
   "display_name": "venv",
   "language": "python",
   "name": "python3"
  },
  "language_info": {
   "codemirror_mode": {
    "name": "ipython",
    "version": 3
   },
   "file_extension": ".py",
   "mimetype": "text/x-python",
   "name": "python",
   "nbconvert_exporter": "python",
   "pygments_lexer": "ipython3",
   "version": "3.12.3"
  }
 },
 "nbformat": 4,
 "nbformat_minor": 2
}
