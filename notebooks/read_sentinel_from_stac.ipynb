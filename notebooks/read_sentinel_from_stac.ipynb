{
 "cells": [
  {
   "cell_type": "markdown",
   "id": "ce98eab8-46d1-498b-9db8-05e837dc81fb",
   "metadata": {},
   "source": [
    "# Read Sentinel from STAC API"
   ]
  }
 ],
 "metadata": {
  "kernelspec": {
   "display_name": "Python 3 (ipykernel)",
   "language": "python",
   "name": "python3"
  },
  "language_info": {
   "codemirror_mode": {
    "name": "ipython",
    "version": 3
   },
   "file_extension": ".py",
   "mimetype": "text/x-python",
   "name": "python",
   "nbconvert_exporter": "python",
   "pygments_lexer": "ipython3",
   "version": "3.11.8"
  }
 },
 "nbformat": 4,
 "nbformat_minor": 5
}
