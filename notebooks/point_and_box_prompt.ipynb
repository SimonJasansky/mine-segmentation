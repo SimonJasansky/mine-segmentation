{
 "cells": [
  {
   "cell_type": "markdown",
   "metadata": {},
   "source": [
    "# Generating object masks from input prompts with SAM\n",
    "\n",
    "This notebook shows how to generate object masks from input prompts with the Segment Anything Model (SAM). \n",
    "\n",
    "Make sure you use GPU runtime for this notebook. "
   ]
  },
  {
   "cell_type": "markdown",
   "metadata": {},
   "source": [
    "## Install dependencies\n",
    "\n",
    "Uncomment and run the following cell to install the required dependencies."
   ]
  },
  {
   "cell_type": "code",
   "execution_count": null,
   "metadata": {},
   "outputs": [],
   "source": [
    "# %pip install segment-geospatial"
   ]
  },
  {
   "cell_type": "code",
   "execution_count": 2,
   "metadata": {},
   "outputs": [],
   "source": [
    "import os\n",
    "import leafmap\n",
    "from samgeo import SamGeo, tms_to_geotiff"
   ]
  },
  {
   "cell_type": "markdown",
   "metadata": {},
   "source": [
    "## Create an interactive map"
   ]
  },
  {
   "cell_type": "code",
   "execution_count": 22,
   "metadata": {},
   "outputs": [
    {
     "data": {
      "application/vnd.jupyter.widget-view+json": {
       "model_id": "fe17c9d7b12f416fb7df862ca5a91e42",
       "version_major": 2,
       "version_minor": 0
      },
      "text/plain": [
       "Map(center=[-6.054643555224412, -50.18255000697929], controls=(ZoomControl(options=['position', 'zoom_in_text'…"
      ]
     },
     "execution_count": 22,
     "metadata": {},
     "output_type": "execute_result"
    }
   ],
   "source": [
    "m = leafmap.Map(center=[-6.054643555224412, -50.18255000697929], zoom=12, height=\"600px\")\n",
    "m.add_basemap(\"satellite\")\n",
    "m"
   ]
  },
  {
   "cell_type": "markdown",
   "metadata": {},
   "source": [
    "## Download a sample image\n",
    "\n",
    "Pan and zoom the map to select the area of interest. Use the draw tools to draw a polygon or rectangle on the map"
   ]
  },
  {
   "cell_type": "code",
   "execution_count": 23,
   "metadata": {},
   "outputs": [
    {
     "data": {
      "text/plain": [
       "[-50.4595, -6.2796, -49.8525, -5.8767]"
      ]
     },
     "execution_count": 23,
     "metadata": {},
     "output_type": "execute_result"
    }
   ],
   "source": [
    "if m.user_roi is not None:\n",
    "    bbox = m.user_roi_bounds()\n",
    "else:\n",
    "    bbox = [-50.3658, -6.1518, -50.0311, -5.9716]\n",
    "bbox"
   ]
  },
  {
   "cell_type": "code",
   "execution_count": 24,
   "metadata": {},
   "outputs": [
    {
     "name": "stdout",
     "output_type": "stream",
     "text": [
      "Downloaded image 01/48\n",
      "Downloaded image 02/48\n",
      "Downloaded image 03/48\n",
      "Downloaded image 04/48\n",
      "Downloaded image 05/48\n",
      "Downloaded image 06/48\n",
      "Downloaded image 07/48\n",
      "Downloaded image 08/48\n",
      "Downloaded image 09/48\n",
      "Downloaded image 10/48\n",
      "Downloaded image 11/48\n",
      "Downloaded image 12/48\n",
      "Downloaded image 13/48\n",
      "Downloaded image 14/48\n",
      "Downloaded image 15/48\n",
      "Downloaded image 16/48\n",
      "Downloaded image 17/48\n",
      "Downloaded image 18/48\n",
      "Downloaded image 19/48\n",
      "Downloaded image 20/48\n",
      "Downloaded image 21/48\n",
      "Downloaded image 22/48\n",
      "Downloaded image 23/48\n",
      "Downloaded image 24/48\n",
      "Downloaded image 25/48\n",
      "Downloaded image 26/48\n",
      "Downloaded image 27/48\n",
      "Downloaded image 28/48\n",
      "Downloaded image 29/48\n",
      "Downloaded image 30/48\n",
      "Downloaded image 31/48\n",
      "Downloaded image 32/48\n",
      "Downloaded image 33/48\n",
      "Downloaded image 34/48\n",
      "Downloaded image 35/48\n",
      "Downloaded image 36/48\n",
      "Downloaded image 37/48\n",
      "Downloaded image 38/48\n",
      "Downloaded image 39/48\n",
      "Downloaded image 40/48\n",
      "Downloaded image 41/48\n",
      "Downloaded image 42/48\n",
      "Downloaded image 43/48\n",
      "Downloaded image 44/48\n",
      "Downloaded image 45/48\n",
      "Downloaded image 46/48\n",
      "Downloaded image 47/48\n",
      "Downloaded image 48/48\n",
      "Saving GeoTIFF. Please wait...\n",
      "Image saved to data/satellite.tif\n"
     ]
    }
   ],
   "source": [
    "image = \"data/satellite.tif\"\n",
    "tms_to_geotiff(output=image, bbox=bbox, zoom=12, source=\"Satellite\", overwrite=True)"
   ]
  },
  {
   "cell_type": "markdown",
   "metadata": {},
   "source": [
    "You can also use your own image. Uncomment and run the following cell to use your own image."
   ]
  },
  {
   "cell_type": "code",
   "execution_count": 25,
   "metadata": {},
   "outputs": [],
   "source": [
    "# image = '/path/to/your/own/image.tif'"
   ]
  },
  {
   "cell_type": "markdown",
   "metadata": {},
   "source": [
    "Display the downloaded image on the map."
   ]
  },
  {
   "cell_type": "code",
   "execution_count": 26,
   "metadata": {},
   "outputs": [
    {
     "data": {
      "application/vnd.jupyter.widget-view+json": {
       "model_id": "fe17c9d7b12f416fb7df862ca5a91e42",
       "version_major": 2,
       "version_minor": 0
      },
      "text/plain": [
       "Map(bottom=135865.0, center=[-6.158774183267121, -49.9421364068985], controls=(ZoomControl(options=['position'…"
      ]
     },
     "execution_count": 26,
     "metadata": {},
     "output_type": "execute_result"
    }
   ],
   "source": [
    "m.layers[-1].visible = False\n",
    "m.add_raster(image, layer_name=\"Image\")\n",
    "m"
   ]
  },
  {
   "cell_type": "markdown",
   "metadata": {},
   "source": [
    "## Initialize SAM class\n",
    "\n",
    "Specify the file path to the model checkpoint. If it is not specified, the model will to downloaded to the working directory."
   ]
  },
  {
   "cell_type": "markdown",
   "metadata": {},
   "source": [
    "Set `automatic=False` to disable the `SamAutomaticMaskGenerator` and enable the `SamPredictor`."
   ]
  },
  {
   "cell_type": "code",
   "execution_count": 27,
   "metadata": {},
   "outputs": [],
   "source": [
    "sam = SamGeo(\n",
    "    model_type=\"vit_h\",\n",
    "    automatic=False,\n",
    "    sam_kwargs=None,\n",
    ")"
   ]
  },
  {
   "cell_type": "markdown",
   "metadata": {},
   "source": [
    "Specify the image to segment. "
   ]
  },
  {
   "cell_type": "code",
   "execution_count": 28,
   "metadata": {},
   "outputs": [],
   "source": [
    "sam.set_image(image)"
   ]
  },
  {
   "cell_type": "markdown",
   "metadata": {},
   "source": [
    "## Image segmentation with input points\n",
    "\n",
    "A single point can be used to segment an object. The point can be specified as a tuple of (x, y), such as (col, row) or (lon, lat). The points can also be specified as a file path to a vector dataset. For non (col, row) input points, specify the `point_crs` parameter, which will automatically transform the points to the image column and row coordinates.\n",
    "\n",
    "Try a single point input:"
   ]
  },
  {
   "cell_type": "code",
   "execution_count": 13,
   "metadata": {},
   "outputs": [
    {
     "data": {
      "application/vnd.jupyter.widget-view+json": {
       "model_id": "4d323ef331924716a2448da40323e141",
       "version_major": 2,
       "version_minor": 0
      },
      "text/plain": [
       "Map(bottom=271434.0, center=[-6.161035564149074, -50.15052795410157], controls=(ZoomControl(options=['position…"
      ]
     },
     "execution_count": 13,
     "metadata": {},
     "output_type": "execute_result"
    }
   ],
   "source": [
    "point_coords = [[-50.18255000697929, -6.054643555224412]]\n",
    "sam.predict(point_coords, point_labels=1, point_crs=\"EPSG:4326\", output=\"data/mask1.tif\")\n",
    "m.add_raster(\"data/mask1.tif\", layer_name=\"Mask1\", nodata=0, cmap=\"Blues\", opacity=1)\n",
    "m"
   ]
  },
  {
   "cell_type": "markdown",
   "metadata": {},
   "source": [
    "Try multiple points input:"
   ]
  },
  {
   "cell_type": "code",
   "execution_count": 14,
   "metadata": {},
   "outputs": [
    {
     "data": {
      "application/vnd.jupyter.widget-view+json": {
       "model_id": "4d323ef331924716a2448da40323e141",
       "version_major": 2,
       "version_minor": 0
      },
      "text/plain": [
       "Map(bottom=1084504.0, center=[-6.104370144775546, -50.26262283325196], controls=(ZoomControl(options=['positio…"
      ]
     },
     "execution_count": 14,
     "metadata": {},
     "output_type": "execute_result"
    }
   ],
   "source": [
    "point_coords = [ [-50.29936048403308, -6.103175551795105] ,[-50.18255000697929, -6.054643555224412]]\n",
    "sam.predict(point_coords, point_labels=1, point_crs=\"EPSG:4326\", output=\"data/mask2.tif\")\n",
    "m.add_raster(\"data/mask2.tif\", layer_name=\"Mask2\", nodata=0, cmap=\"Greens\", opacity=1)\n",
    "m"
   ]
  },
  {
   "cell_type": "markdown",
   "metadata": {},
   "source": [
    "## Interactive segmentation\n",
    "\n",
    "Display the interactive map and use the marker tool to draw points on the map. Then click on the `Segment` button to segment the objects. The results will be added to the map automatically. Click on the `Reset` button to clear the points and the results."
   ]
  },
  {
   "cell_type": "code",
   "execution_count": 15,
   "metadata": {},
   "outputs": [
    {
     "data": {
      "application/vnd.jupyter.widget-view+json": {
       "model_id": "d7d4498b672c4e91958863446a6c79d9",
       "version_major": 2,
       "version_minor": 0
      },
      "text/plain": [
       "Map(center=[20, 0], controls=(ZoomControl(options=['position', 'zoom_in_text', 'zoom_in_title', 'zoom_out_text…"
      ]
     },
     "execution_count": 15,
     "metadata": {},
     "output_type": "execute_result"
    }
   ],
   "source": [
    "m = sam.show_map()\n",
    "m"
   ]
  },
  {
   "cell_type": "markdown",
   "metadata": {},
   "source": [
    "# Box Prompts"
   ]
  },
  {
   "cell_type": "code",
   "execution_count": 32,
   "metadata": {},
   "outputs": [],
   "source": [
    "boxes = [\n",
    "    [-50.2216, -6.1182, -50.1028, -6.0186],\n",
    "    [-50.3294, -6.1244, -50.2697, -6.0725],\n",
    "]"
   ]
  },
  {
   "cell_type": "code",
   "execution_count": 33,
   "metadata": {},
   "outputs": [],
   "source": [
    "sam.predict(boxes=boxes, point_crs=\"EPSG:4326\", output=\"mask.tif\", dtype=\"uint8\")"
   ]
  },
  {
   "cell_type": "code",
   "execution_count": 34,
   "metadata": {},
   "outputs": [
    {
     "data": {
      "application/vnd.jupyter.widget-view+json": {
       "model_id": "fe17c9d7b12f416fb7df862ca5a91e42",
       "version_major": 2,
       "version_minor": 0
      },
      "text/plain": [
       "Map(bottom=135806.0, center=[-6.077742151516975, -50.15533447265625], controls=(ZoomControl(options=['position…"
      ]
     },
     "execution_count": 34,
     "metadata": {},
     "output_type": "execute_result"
    }
   ],
   "source": [
    "m.add_raster(\"mask.tif\", cmap=\"viridis\", nodata=0, layer_name=\"Mask\")\n",
    "m"
   ]
  }
 ],
 "metadata": {
  "kernelspec": {
   "display_name": "Python 3 (ipykernel)",
   "language": "python",
   "name": "python3"
  },
  "language_info": {
   "codemirror_mode": {
    "name": "ipython",
    "version": 3
   },
   "file_extension": ".py",
   "mimetype": "text/x-python",
   "name": "python",
   "nbconvert_exporter": "python",
   "pygments_lexer": "ipython3",
   "version": "3.11.8"
  }
 },
 "nbformat": 4,
 "nbformat_minor": 4
}
